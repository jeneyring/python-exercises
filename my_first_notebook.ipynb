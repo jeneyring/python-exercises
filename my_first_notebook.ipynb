{
 "cells": [
  {
   "cell_type": "code",
   "execution_count": 4,
   "id": "9b7d7a77",
   "metadata": {},
   "outputs": [
    {
     "name": "stdout",
     "output_type": "stream",
     "text": [
      "Hi, everybody!\n"
     ]
    }
   ],
   "source": [
    "greeting = \"Hi, everybody!\"\n",
    "print(greeting)"
   ]
  },
  {
   "cell_type": "markdown",
   "id": "c052ea9d",
   "metadata": {},
   "source": [
    "#This is a markdown...\n",
    "##here's how it looks.\n"
   ]
  },
  {
   "cell_type": "code",
   "execution_count": 2,
   "id": "74b3fb35",
   "metadata": {},
   "outputs": [
    {
     "data": {
      "text/plain": [
       "15"
      ]
     },
     "execution_count": 2,
     "metadata": {},
     "output_type": "execute_result"
    }
   ],
   "source": [
    "3 * 5"
   ]
  },
  {
   "cell_type": "markdown",
   "id": "16f8ef4b",
   "metadata": {},
   "source": [
    "#Hello!"
   ]
  },
  {
   "cell_type": "code",
   "execution_count": 3,
   "id": "e34b000a",
   "metadata": {},
   "outputs": [
    {
     "data": {
      "text/plain": [
       "int"
      ]
     },
     "execution_count": 3,
     "metadata": {},
     "output_type": "execute_result"
    }
   ],
   "source": [
    "type(123)"
   ]
  },
  {
   "cell_type": "code",
   "execution_count": 6,
   "id": "f9ff6a0c",
   "metadata": {},
   "outputs": [
    {
     "data": {
      "text/plain": [
       "str"
      ]
     },
     "execution_count": 6,
     "metadata": {},
     "output_type": "execute_result"
    }
   ],
   "source": [
    "type('hello')"
   ]
  },
  {
   "cell_type": "code",
   "execution_count": 9,
   "id": "9ac83c24",
   "metadata": {},
   "outputs": [
    {
     "data": {
      "text/plain": [
       "bool"
      ]
     },
     "execution_count": 9,
     "metadata": {},
     "output_type": "execute_result"
    }
   ],
   "source": [
    "type(True)"
   ]
  },
  {
   "cell_type": "code",
   "execution_count": 10,
   "id": "c16586fc",
   "metadata": {},
   "outputs": [
    {
     "name": "stdout",
     "output_type": "stream",
     "text": [
      "$1000000000\n"
     ]
    },
    {
     "data": {
      "text/plain": [
       "NoneType"
      ]
     },
     "execution_count": 10,
     "metadata": {},
     "output_type": "execute_result"
    }
   ],
   "source": [
    "#the return value of print is always none\n",
    "x = print ('$1000000000')\n",
    "type(x)"
   ]
  },
  {
   "cell_type": "code",
   "execution_count": 12,
   "id": "9290a5d0",
   "metadata": {},
   "outputs": [
    {
     "data": {
      "text/plain": [
       "4"
      ]
     },
     "execution_count": 12,
     "metadata": {},
     "output_type": "execute_result"
    }
   ],
   "source": [
    "x = 2 + 2\n",
    "x"
   ]
  },
  {
   "cell_type": "code",
   "execution_count": 13,
   "id": "99c8001b",
   "metadata": {},
   "outputs": [
    {
     "data": {
      "text/plain": [
       "str"
      ]
     },
     "execution_count": 13,
     "metadata": {},
     "output_type": "execute_result"
    }
   ],
   "source": [
    "#parenthesis run a function\n",
    "type(\"stuff\")"
   ]
  },
  {
   "cell_type": "code",
   "execution_count": 14,
   "id": "33668bb7",
   "metadata": {},
   "outputs": [
    {
     "data": {
      "text/plain": [
       "<function print>"
      ]
     },
     "execution_count": 14,
     "metadata": {},
     "output_type": "execute_result"
    }
   ],
   "source": [
    "# parenthesis mean 'run a function'. notice when parenthesis are absent...\n",
    "print"
   ]
  },
  {
   "cell_type": "code",
   "execution_count": 15,
   "id": "b25e65b0",
   "metadata": {},
   "outputs": [
    {
     "data": {
      "text/plain": [
       "'some string'"
      ]
     },
     "execution_count": 15,
     "metadata": {},
     "output_type": "execute_result"
    }
   ],
   "source": [
    "#string literal \n",
    "\"some string\""
   ]
  },
  {
   "cell_type": "code",
   "execution_count": 16,
   "id": "9e9e2986",
   "metadata": {},
   "outputs": [
    {
     "data": {
      "text/plain": [
       "'some string'"
      ]
     },
     "execution_count": 16,
     "metadata": {},
     "output_type": "execute_result"
    }
   ],
   "source": [
    "x = \"some string\"\n",
    "x"
   ]
  },
  {
   "cell_type": "code",
   "execution_count": 17,
   "id": "44fa22ce",
   "metadata": {},
   "outputs": [
    {
     "data": {
      "text/plain": [
       "['John', 'Paul', 'George', 'Ringo']"
      ]
     },
     "execution_count": 17,
     "metadata": {},
     "output_type": "execute_result"
    }
   ],
   "source": [
    "#List literal\n",
    "beatles = [\"John\", \"Paul\",\"George\",\"Ringo\"]\n",
    "beatles"
   ]
  },
  {
   "cell_type": "markdown",
   "id": "00759a49",
   "metadata": {},
   "source": [
    "VARIABLES: point to values and can re-point to other values"
   ]
  },
  {
   "cell_type": "code",
   "execution_count": 18,
   "id": "3b3e188d",
   "metadata": {},
   "outputs": [
    {
     "data": {
      "text/plain": [
       "5"
      ]
     },
     "execution_count": 18,
     "metadata": {},
     "output_type": "execute_result"
    }
   ],
   "source": [
    "#What kind of \"spells\" can you do with variables?\n",
    "#\"Assignment\"\n",
    "#Assigning the variable x to point to the value of 5\n",
    "favorite_number = 5\n",
    "favorite_number"
   ]
  },
  {
   "cell_type": "code",
   "execution_count": 19,
   "id": "6c5963b8",
   "metadata": {},
   "outputs": [
    {
     "data": {
      "text/plain": [
       "'bob'"
      ]
     },
     "execution_count": 19,
     "metadata": {},
     "output_type": "execute_result"
    }
   ],
   "source": [
    "#assignment\n",
    "name = \"bob\"\n",
    "name"
   ]
  },
  {
   "cell_type": "code",
   "execution_count": 20,
   "id": "502045ad",
   "metadata": {},
   "outputs": [
    {
     "data": {
      "text/plain": [
       "'Batman'"
      ]
     },
     "execution_count": 20,
     "metadata": {},
     "output_type": "execute_result"
    }
   ],
   "source": [
    "#if a variable already exists, we can also point the variable to a new value\n",
    "name = 'Batman'\n",
    "name"
   ]
  },
  {
   "cell_type": "code",
   "execution_count": 26,
   "id": "1c66b424",
   "metadata": {},
   "outputs": [
    {
     "data": {
      "text/plain": [
       "7.98"
      ]
     },
     "execution_count": 26,
     "metadata": {},
     "output_type": "execute_result"
    }
   ],
   "source": [
    "#real world example of reassigning variables:\n",
    "\n",
    "#scenerio: lunch time!\n",
    "#when walk in door, what is bill?? \n",
    "total = 0\n",
    "#when order iced tea, total includes iced tea\n",
    "#new_value = old_value + something\n",
    "total = total + 1.99\n",
    "\n",
    "#order an appetizer\n",
    "total = total + 5.99\n",
    "total"
   ]
  },
  {
   "cell_type": "code",
   "execution_count": 28,
   "id": "3e83413c",
   "metadata": {},
   "outputs": [
    {
     "data": {
      "text/plain": [
       "11.96"
      ]
     },
     "execution_count": 28,
     "metadata": {},
     "output_type": "execute_result"
    }
   ],
   "source": [
    "#shorthadn for reassigning variable to old value\n",
    "#friend orders lunch and orders iced tea\n",
    "total += 1.99 # += is short ofr total = total + 1.99\n",
    "total"
   ]
  },
  {
   "cell_type": "code",
   "execution_count": 29,
   "id": "2c7ab75e",
   "metadata": {},
   "outputs": [
    {
     "data": {
      "text/plain": [
       "True"
      ]
     },
     "execution_count": 29,
     "metadata": {},
     "output_type": "execute_result"
    }
   ],
   "source": [
    "## BOOLEANS:\n",
    "total < 20"
   ]
  },
  {
   "cell_type": "code",
   "execution_count": 30,
   "id": "153bb96a",
   "metadata": {},
   "outputs": [
    {
     "data": {
      "text/plain": [
       "False"
      ]
     },
     "execution_count": 30,
     "metadata": {},
     "output_type": "execute_result"
    }
   ],
   "source": [
    "#Comparison operators\n",
    "#compare values on the left and right and return Boolean\n",
    "2 == 3"
   ]
  },
  {
   "cell_type": "code",
   "execution_count": 31,
   "id": "fca301f1",
   "metadata": {},
   "outputs": [
    {
     "data": {
      "text/plain": [
       "True"
      ]
     },
     "execution_count": 31,
     "metadata": {},
     "output_type": "execute_result"
    }
   ],
   "source": [
    "3==3"
   ]
  },
  {
   "cell_type": "code",
   "execution_count": 32,
   "id": "123814cc",
   "metadata": {},
   "outputs": [
    {
     "data": {
      "text/plain": [
       "True"
      ]
     },
     "execution_count": 32,
     "metadata": {},
     "output_type": "execute_result"
    }
   ],
   "source": [
    "2 < favorite_number"
   ]
  },
  {
   "cell_type": "code",
   "execution_count": 33,
   "id": "cde1083c",
   "metadata": {},
   "outputs": [
    {
     "data": {
      "text/plain": [
       "False"
      ]
     },
     "execution_count": 33,
     "metadata": {},
     "output_type": "execute_result"
    }
   ],
   "source": [
    "2 > favorite_number"
   ]
  },
  {
   "cell_type": "code",
   "execution_count": 34,
   "id": "f067a5c1",
   "metadata": {},
   "outputs": [
    {
     "data": {
      "text/plain": [
       "False"
      ]
     },
     "execution_count": 34,
     "metadata": {},
     "output_type": "execute_result"
    }
   ],
   "source": [
    "2 >= favorite_number"
   ]
  },
  {
   "cell_type": "code",
   "execution_count": 35,
   "id": "99d473a1",
   "metadata": {},
   "outputs": [
    {
     "data": {
      "text/plain": [
       "True"
      ]
     },
     "execution_count": 35,
     "metadata": {},
     "output_type": "execute_result"
    }
   ],
   "source": [
    "# != is not equal to\n",
    "2 != 3"
   ]
  },
  {
   "cell_type": "code",
   "execution_count": 36,
   "id": "145db343",
   "metadata": {},
   "outputs": [
    {
     "data": {
      "text/plain": [
       "True"
      ]
     },
     "execution_count": 36,
     "metadata": {},
     "output_type": "execute_result"
    }
   ],
   "source": [
    "#IN operator check membership of value on the left IN the collection on the right\n",
    "#collection could be string, list, tuple...\n",
    "2 in [1,2,3,4]"
   ]
  },
  {
   "cell_type": "code",
   "execution_count": 37,
   "id": "586e88b5",
   "metadata": {},
   "outputs": [
    {
     "data": {
      "text/plain": [
       "True"
      ]
     },
     "execution_count": 37,
     "metadata": {},
     "output_type": "execute_result"
    }
   ],
   "source": [
    "3 not in [5,6,7]"
   ]
  },
  {
   "cell_type": "code",
   "execution_count": null,
   "id": "3ea084c1",
   "metadata": {},
   "outputs": [],
   "source": [
    "#to add cells, hit ESC and either 'b' to enter a cell below, or 'a' for above"
   ]
  },
  {
   "cell_type": "code",
   "execution_count": 40,
   "id": "9cc165fc",
   "metadata": {},
   "outputs": [
    {
     "data": {
      "text/plain": [
       "True"
      ]
     },
     "execution_count": 40,
     "metadata": {},
     "output_type": "execute_result"
    }
   ],
   "source": [
    "\"a\" in \"banana\""
   ]
  },
  {
   "cell_type": "markdown",
   "id": "6e31b5fa",
   "metadata": {},
   "source": [
    "#LOGICAL OPERATORS\n",
    "-not: switches the boolean value of a value\n",
    "-and: making sure both predicates are true\n",
    "-or: making sure at least one of the pieces is true\n"
   ]
  },
  {
   "cell_type": "code",
   "execution_count": 41,
   "id": "4eb51eb5",
   "metadata": {},
   "outputs": [],
   "source": [
    "doing_python_right_now = True\n",
    "currently_on_mars = False"
   ]
  },
  {
   "cell_type": "code",
   "execution_count": 42,
   "id": "d90bcc40",
   "metadata": {},
   "outputs": [
    {
     "data": {
      "text/plain": [
       "False"
      ]
     },
     "execution_count": 42,
     "metadata": {},
     "output_type": "execute_result"
    }
   ],
   "source": [
    "doing_python_right_now and currently_on_mars"
   ]
  },
  {
   "cell_type": "code",
   "execution_count": 43,
   "id": "2b02d3ab",
   "metadata": {},
   "outputs": [],
   "source": [
    "#any added false turns it false"
   ]
  },
  {
   "cell_type": "code",
   "execution_count": 44,
   "id": "358fee75",
   "metadata": {},
   "outputs": [
    {
     "data": {
      "text/plain": [
       "True"
      ]
     },
     "execution_count": 44,
     "metadata": {},
     "output_type": "execute_result"
    }
   ],
   "source": [
    "#ORs expand our possibilities\n",
    "doing_python_right_now or currently_on_mars"
   ]
  },
  {
   "cell_type": "code",
   "execution_count": 45,
   "id": "14c3f843",
   "metadata": {},
   "outputs": [
    {
     "data": {
      "text/plain": [
       "True"
      ]
     },
     "execution_count": 45,
     "metadata": {},
     "output_type": "execute_result"
    }
   ],
   "source": [
    "#When we combine logical operators: and, or, not (but == and not)\n",
    "#we want to use parenthesis to enforce execution order\n",
    "\n",
    "#a user can edit a post if they are logged in and either admin or author of that post\n",
    "is_logged_in = True\n",
    "is_admin = False\n",
    "is_author = True\n",
    "\n",
    "can_edit_post = is_logged_in and (is_admin or is_author)\n",
    "can_edit_post"
   ]
  },
  {
   "cell_type": "code",
   "execution_count": 46,
   "id": "9ea7d532",
   "metadata": {},
   "outputs": [],
   "source": [
    "# MATHEMATICAL OPERATORS\n",
    "# +, -, *, /, **"
   ]
  },
  {
   "cell_type": "code",
   "execution_count": 47,
   "id": "4aa88dd1",
   "metadata": {},
   "outputs": [
    {
     "data": {
      "text/plain": [
       "8"
      ]
     },
     "execution_count": 47,
     "metadata": {},
     "output_type": "execute_result"
    }
   ],
   "source": [
    "2**3 #two raised to the 3rd power"
   ]
  },
  {
   "cell_type": "code",
   "execution_count": 48,
   "id": "33b7ab82",
   "metadata": {},
   "outputs": [
    {
     "data": {
      "text/plain": [
       "4.0"
      ]
     },
     "execution_count": 48,
     "metadata": {},
     "output_type": "execute_result"
    }
   ],
   "source": [
    "12/3"
   ]
  },
  {
   "cell_type": "code",
   "execution_count": 49,
   "id": "969bee12",
   "metadata": {},
   "outputs": [
    {
     "data": {
      "text/plain": [
       "True"
      ]
     },
     "execution_count": 49,
     "metadata": {},
     "output_type": "execute_result"
    }
   ],
   "source": [
    "4 == 4.0"
   ]
  },
  {
   "cell_type": "code",
   "execution_count": 50,
   "id": "1f3ec5e4",
   "metadata": {},
   "outputs": [
    {
     "data": {
      "text/plain": [
       "False"
      ]
     },
     "execution_count": 50,
     "metadata": {},
     "output_type": "execute_result"
    }
   ],
   "source": [
    "4 == 4.0000000001"
   ]
  },
  {
   "cell_type": "code",
   "execution_count": 51,
   "id": "f9cf03d9",
   "metadata": {},
   "outputs": [
    {
     "data": {
      "text/plain": [
       "1"
      ]
     },
     "execution_count": 51,
     "metadata": {},
     "output_type": "execute_result"
    }
   ],
   "source": [
    "#MODULO OPERATOR:: remainder operator\n",
    "# 5 % 2 show read as \"five dived by 2 leaves what value?\"\n",
    "5 % 2"
   ]
  },
  {
   "cell_type": "code",
   "execution_count": 52,
   "id": "507b8f18",
   "metadata": {},
   "outputs": [
    {
     "data": {
      "text/plain": [
       "True"
      ]
     },
     "execution_count": 52,
     "metadata": {},
     "output_type": "execute_result"
    }
   ],
   "source": [
    "#first number % second number == no remainder means\n",
    "#the first number is evenly divisible by the second number\n",
    "4 % 2 ==0"
   ]
  },
  {
   "cell_type": "code",
   "execution_count": 53,
   "id": "62d3ecd9",
   "metadata": {},
   "outputs": [
    {
     "data": {
      "text/plain": [
       "1"
      ]
     },
     "execution_count": 53,
     "metadata": {},
     "output_type": "execute_result"
    }
   ],
   "source": [
    "## // quotient\n",
    "# 2 goes into 3 one full time\n",
    "3 // 2"
   ]
  },
  {
   "cell_type": "code",
   "execution_count": 54,
   "id": "4f80352b",
   "metadata": {},
   "outputs": [
    {
     "data": {
      "text/plain": [
       "1"
      ]
     },
     "execution_count": 54,
     "metadata": {},
     "output_type": "execute_result"
    }
   ],
   "source": [
    "# 3 divided by two leaves 1 as the remainder\n",
    "3 % 2"
   ]
  },
  {
   "cell_type": "markdown",
   "id": "9df87b1b",
   "metadata": {},
   "source": [
    "##STRINGS\n",
    "-letters or numbers contained in double or single quotes"
   ]
  },
  {
   "cell_type": "code",
   "execution_count": 57,
   "id": "3c9e9609",
   "metadata": {},
   "outputs": [
    {
     "data": {
      "text/plain": [
       "\"It's been great to program with ya'll\""
      ]
     },
     "execution_count": 57,
     "metadata": {},
     "output_type": "execute_result"
    }
   ],
   "source": [
    "message = \"It's been great to program with ya'll\"\n",
    "message"
   ]
  },
  {
   "cell_type": "code",
   "execution_count": 58,
   "id": "b9bf3a4a",
   "metadata": {},
   "outputs": [
    {
     "data": {
      "text/plain": [
       "'\\n\"You miss 100% of the shots you don\\'t take\"-Wayne Gretsky\\n'"
      ]
     },
     "execution_count": 58,
     "metadata": {},
     "output_type": "execute_result"
    }
   ],
   "source": [
    "\"\"\"\n",
    "\"You miss 100% of the shots you don't take\"-Wayne Gretsky\n",
    "\"\"\""
   ]
  },
  {
   "cell_type": "markdown",
   "id": "68e99633",
   "metadata": {},
   "source": [
    "##backslash is an escape character\n",
    "/n : new line character"
   ]
  },
  {
   "cell_type": "code",
   "execution_count": 62,
   "id": "3e136fb2",
   "metadata": {},
   "outputs": [
    {
     "name": "stdout",
     "output_type": "stream",
     "text": [
      "True\n"
     ]
    }
   ],
   "source": [
    "# use case for triple quotes as a docstring (to add notation to coding)\n",
    "def is_even(n):\n",
    "    \"\"\"returns a boolean if the input is an even number\"\"\"\n",
    "    return n % 2 == 0\n",
    "\n",
    "print (is_even(4))"
   ]
  },
  {
   "cell_type": "code",
   "execution_count": 63,
   "id": "a3d34265",
   "metadata": {},
   "outputs": [],
   "source": [
    "len?"
   ]
  },
  {
   "cell_type": "code",
   "execution_count": 1,
   "id": "4310e29c",
   "metadata": {},
   "outputs": [],
   "source": [
    "# ? : will show the information/type on the object/variable"
   ]
  },
  {
   "cell_type": "code",
   "execution_count": 2,
   "id": "21f97dee",
   "metadata": {},
   "outputs": [
    {
     "data": {
      "text/plain": [
       "5"
      ]
     },
     "execution_count": 2,
     "metadata": {},
     "output_type": "execute_result"
    }
   ],
   "source": [
    "len('hello')"
   ]
  },
  {
   "cell_type": "code",
   "execution_count": 3,
   "id": "e1fdd540",
   "metadata": {},
   "outputs": [],
   "source": [
    "#len is length...gives you the length of the characters"
   ]
  },
  {
   "cell_type": "code",
   "execution_count": 4,
   "id": "506cf7e0",
   "metadata": {},
   "outputs": [],
   "source": [
    "#String Operations"
   ]
  },
  {
   "cell_type": "code",
   "execution_count": 5,
   "id": "7554d739",
   "metadata": {},
   "outputs": [
    {
     "data": {
      "text/plain": [
       "False"
      ]
     },
     "execution_count": 5,
     "metadata": {},
     "output_type": "execute_result"
    }
   ],
   "source": [
    "'Jen'=='Eyring'"
   ]
  },
  {
   "cell_type": "code",
   "execution_count": 6,
   "id": "952ca7d2",
   "metadata": {},
   "outputs": [
    {
     "data": {
      "text/plain": [
       "True"
      ]
     },
     "execution_count": 6,
     "metadata": {},
     "output_type": "execute_result"
    }
   ],
   "source": [
    "\"Jen\"==\"Jen\""
   ]
  },
  {
   "cell_type": "code",
   "execution_count": 7,
   "id": "a40aa955",
   "metadata": {},
   "outputs": [
    {
     "data": {
      "text/plain": [
       "True"
      ]
     },
     "execution_count": 7,
     "metadata": {},
     "output_type": "execute_result"
    }
   ],
   "source": [
    "\"Jen\"<\"Zack\""
   ]
  },
  {
   "cell_type": "markdown",
   "id": "db5f0344",
   "metadata": {},
   "source": [
    "true in that alphabetically, but note that python is also storing and sorting strings as numbers...just for future reference"
   ]
  },
  {
   "cell_type": "markdown",
   "id": "113691dd",
   "metadata": {},
   "source": [
    "#how to concat strings in python?"
   ]
  },
  {
   "cell_type": "code",
   "execution_count": 12,
   "id": "db5bc646",
   "metadata": {},
   "outputs": [
    {
     "data": {
      "text/plain": [
       "'jeneyring'"
      ]
     },
     "execution_count": 12,
     "metadata": {},
     "output_type": "execute_result"
    }
   ],
   "source": [
    "'jen' + '' + 'eyring'"
   ]
  },
  {
   "cell_type": "code",
   "execution_count": 13,
   "id": "31e217a1",
   "metadata": {},
   "outputs": [
    {
     "data": {
      "text/plain": [
       "'abcabcabc'"
      ]
     },
     "execution_count": 13,
     "metadata": {},
     "output_type": "execute_result"
    }
   ],
   "source": [
    "'abc'* 3"
   ]
  },
  {
   "cell_type": "code",
   "execution_count": 15,
   "id": "8ac9bf6d",
   "metadata": {},
   "outputs": [
    {
     "data": {
      "text/plain": [
       "'21'"
      ]
     },
     "execution_count": 15,
     "metadata": {},
     "output_type": "execute_result"
    }
   ],
   "source": [
    "'2'+ str(1)"
   ]
  },
  {
   "cell_type": "markdown",
   "id": "211082d7",
   "metadata": {},
   "source": [
    "str takes any variable and will convert to string (not all objects can)"
   ]
  },
  {
   "cell_type": "code",
   "execution_count": 17,
   "id": "98db5cd2",
   "metadata": {},
   "outputs": [
    {
     "data": {
      "text/plain": [
       "3"
      ]
     },
     "execution_count": 17,
     "metadata": {},
     "output_type": "execute_result"
    }
   ],
   "source": [
    "int('2') + 1"
   ]
  },
  {
   "cell_type": "code",
   "execution_count": 18,
   "id": "fa10250b",
   "metadata": {},
   "outputs": [
    {
     "ename": "ValueError",
     "evalue": "invalid literal for int() with base 10: '2.123'",
     "output_type": "error",
     "traceback": [
      "\u001b[0;31m---------------------------------------------------------------------------\u001b[0m",
      "\u001b[0;31mValueError\u001b[0m                                Traceback (most recent call last)",
      "\u001b[0;32m/var/folders/d3/11nygz6126ndxvtrp12687680000gn/T/ipykernel_43603/3464786114.py\u001b[0m in \u001b[0;36m<module>\u001b[0;34m\u001b[0m\n\u001b[0;32m----> 1\u001b[0;31m \u001b[0mint\u001b[0m\u001b[0;34m(\u001b[0m\u001b[0;34m'2.123'\u001b[0m\u001b[0;34m)\u001b[0m\u001b[0;34m\u001b[0m\u001b[0;34m\u001b[0m\u001b[0m\n\u001b[0m",
      "\u001b[0;31mValueError\u001b[0m: invalid literal for int() with base 10: '2.123'"
     ]
    }
   ],
   "source": [
    "int('2.123')"
   ]
  },
  {
   "cell_type": "code",
   "execution_count": 19,
   "id": "fbdc4ef7",
   "metadata": {},
   "outputs": [
    {
     "data": {
      "text/plain": [
       "2.123"
      ]
     },
     "execution_count": 19,
     "metadata": {},
     "output_type": "execute_result"
    }
   ],
   "source": [
    "float('2.123')"
   ]
  },
  {
   "cell_type": "markdown",
   "id": "9a55d512",
   "metadata": {},
   "source": [
    "STRING FORMATTING"
   ]
  },
  {
   "cell_type": "code",
   "execution_count": 20,
   "id": "e99b7b0c",
   "metadata": {},
   "outputs": [],
   "source": [
    "name = \"World\""
   ]
  },
  {
   "cell_type": "code",
   "execution_count": 21,
   "id": "bd764328",
   "metadata": {},
   "outputs": [
    {
     "data": {
      "text/plain": [
       "'Hello, World!'"
      ]
     },
     "execution_count": 21,
     "metadata": {},
     "output_type": "execute_result"
    }
   ],
   "source": [
    "'Hello, %s!' % name #noting that something is going to be placed here..."
   ]
  },
  {
   "cell_type": "code",
   "execution_count": 22,
   "id": "5e906f0e",
   "metadata": {},
   "outputs": [
    {
     "data": {
      "text/plain": [
       "'Hello, World!'"
      ]
     },
     "execution_count": 22,
     "metadata": {},
     "output_type": "execute_result"
    }
   ],
   "source": [
    "'Hello, {}!'.format(name)"
   ]
  },
  {
   "cell_type": "code",
   "execution_count": 24,
   "id": "58e85a7a",
   "metadata": {},
   "outputs": [
    {
     "data": {
      "text/plain": [
       "'Hello World!'"
      ]
     },
     "execution_count": 24,
     "metadata": {},
     "output_type": "execute_result"
    }
   ],
   "source": [
    "f'Hello {name}!'"
   ]
  },
  {
   "cell_type": "markdown",
   "id": "46b3d5d1",
   "metadata": {},
   "source": [
    "#f meaning format"
   ]
  },
  {
   "cell_type": "code",
   "execution_count": 26,
   "id": "944edc8d",
   "metadata": {},
   "outputs": [],
   "source": [
    "number = 10"
   ]
  },
  {
   "cell_type": "code",
   "execution_count": 28,
   "id": "b966ff92",
   "metadata": {},
   "outputs": [
    {
     "data": {
      "text/plain": [
       "'Hello 10'"
      ]
     },
     "execution_count": 28,
     "metadata": {},
     "output_type": "execute_result"
    }
   ],
   "source": [
    "f'Hello {number}'"
   ]
  },
  {
   "cell_type": "markdown",
   "id": "3f353a7b",
   "metadata": {},
   "source": [
    "STRING METHODS & INDEXING"
   ]
  },
  {
   "cell_type": "markdown",
   "id": "d9c22bb4",
   "metadata": {},
   "source": [
    "#function is going to be listed first with () following\n",
    "#method is going to be listed last with .method"
   ]
  },
  {
   "cell_type": "code",
   "execution_count": 30,
   "id": "f0a381a7",
   "metadata": {},
   "outputs": [
    {
     "data": {
      "text/plain": [
       "'1'"
      ]
     },
     "execution_count": 30,
     "metadata": {},
     "output_type": "execute_result"
    }
   ],
   "source": [
    "#function\n",
    "str(1)"
   ]
  },
  {
   "cell_type": "code",
   "execution_count": 31,
   "id": "f70e47cc",
   "metadata": {},
   "outputs": [],
   "source": [
    "#method\n",
    "s = '    Hello, Codeup!    '"
   ]
  },
  {
   "cell_type": "code",
   "execution_count": 32,
   "id": "ad3ddea8",
   "metadata": {},
   "outputs": [
    {
     "data": {
      "text/plain": [
       "'    hello, codeup!    '"
      ]
     },
     "execution_count": 32,
     "metadata": {},
     "output_type": "execute_result"
    }
   ],
   "source": [
    "s.lower()"
   ]
  },
  {
   "cell_type": "markdown",
   "id": "92a71ac0",
   "metadata": {},
   "source": [
    "#functions class are more global and not attached to anything\n",
    "#method class is always connected with a . to another function"
   ]
  },
  {
   "cell_type": "code",
   "execution_count": 34,
   "id": "333cb879",
   "metadata": {},
   "outputs": [
    {
     "data": {
      "text/plain": [
       "'    hello, codeup!    '"
      ]
     },
     "execution_count": 34,
     "metadata": {},
     "output_type": "execute_result"
    }
   ],
   "source": [
    "s.lower()"
   ]
  },
  {
   "cell_type": "code",
   "execution_count": 35,
   "id": "b13c95fd",
   "metadata": {},
   "outputs": [
    {
     "data": {
      "text/plain": [
       "'1'"
      ]
     },
     "execution_count": 35,
     "metadata": {},
     "output_type": "execute_result"
    }
   ],
   "source": [
    "str(1)"
   ]
  },
  {
   "cell_type": "code",
   "execution_count": 36,
   "id": "5773eac4",
   "metadata": {},
   "outputs": [
    {
     "data": {
      "text/plain": [
       "'    Hello, Codeup!    '"
      ]
     },
     "execution_count": 36,
     "metadata": {},
     "output_type": "execute_result"
    }
   ],
   "source": [
    "str(s)"
   ]
  },
  {
   "cell_type": "code",
   "execution_count": 37,
   "id": "59acce54",
   "metadata": {},
   "outputs": [
    {
     "data": {
      "text/plain": [
       "'Hello, Codeup!'"
      ]
     },
     "execution_count": 37,
     "metadata": {},
     "output_type": "execute_result"
    }
   ],
   "source": [
    "s.strip()"
   ]
  },
  {
   "cell_type": "markdown",
   "id": "bf7ea60c",
   "metadata": {},
   "source": [
    "#strip method takes out whitespace on the ends of strings, \n",
    "#not middle whitespace"
   ]
  },
  {
   "cell_type": "code",
   "execution_count": 39,
   "id": "aaf0e9e4",
   "metadata": {},
   "outputs": [
    {
     "data": {
      "text/plain": [
       "False"
      ]
     },
     "execution_count": 39,
     "metadata": {},
     "output_type": "execute_result"
    }
   ],
   "source": [
    "s.isdigit()"
   ]
  },
  {
   "cell_type": "markdown",
   "id": "7fad2355",
   "metadata": {},
   "source": [
    "#isdigit method checks if the variable is an int"
   ]
  },
  {
   "cell_type": "code",
   "execution_count": 42,
   "id": "0354ca4a",
   "metadata": {},
   "outputs": [
    {
     "data": {
      "text/plain": [
       "True"
      ]
     },
     "execution_count": 42,
     "metadata": {},
     "output_type": "execute_result"
    }
   ],
   "source": [
    "'123'.isdigit()"
   ]
  },
  {
   "cell_type": "code",
   "execution_count": 43,
   "id": "abeaa6e4",
   "metadata": {},
   "outputs": [
    {
     "data": {
      "text/plain": [
       "['Hello', 'Codeup!']"
      ]
     },
     "execution_count": 43,
     "metadata": {},
     "output_type": "execute_result"
    }
   ],
   "source": [
    "s.strip().split(', ')"
   ]
  },
  {
   "cell_type": "markdown",
   "id": "5c2cd20c",
   "metadata": {},
   "source": [
    "#.split creates two objects and makes it a list. \n",
    "#[] means a list\n",
    "#told this pattern ',' to split the objects"
   ]
  },
  {
   "cell_type": "code",
   "execution_count": 45,
   "id": "02fa464a",
   "metadata": {},
   "outputs": [
    {
     "data": {
      "text/plain": [
       "'one, two, three'"
      ]
     },
     "execution_count": 45,
     "metadata": {},
     "output_type": "execute_result"
    }
   ],
   "source": [
    "(', ').join (['one', 'two', 'three'])"
   ]
  },
  {
   "cell_type": "markdown",
   "id": "31d902f2",
   "metadata": {},
   "source": [
    "LISTS and LIST OPERATIONS"
   ]
  },
  {
   "cell_type": "code",
   "execution_count": 46,
   "id": "19673dcb",
   "metadata": {},
   "outputs": [
    {
     "data": {
      "text/plain": [
       "[1, 2, 3]"
      ]
     },
     "execution_count": 46,
     "metadata": {},
     "output_type": "execute_result"
    }
   ],
   "source": [
    "[1,2,3]"
   ]
  },
  {
   "cell_type": "code",
   "execution_count": 47,
   "id": "6dbf0bad",
   "metadata": {},
   "outputs": [
    {
     "data": {
      "text/plain": [
       "[1, 'two', 3.123456]"
      ]
     },
     "execution_count": 47,
     "metadata": {},
     "output_type": "execute_result"
    }
   ],
   "source": [
    "[1, 'two', 3.123456]"
   ]
  },
  {
   "cell_type": "markdown",
   "id": "9fc130b6",
   "metadata": {},
   "source": [
    "#lists aren't restricted to any object types"
   ]
  },
  {
   "cell_type": "markdown",
   "id": "03e3b8bf",
   "metadata": {},
   "source": [
    "#lists CAN contain lists"
   ]
  },
  {
   "cell_type": "code",
   "execution_count": 50,
   "id": "0f871998",
   "metadata": {},
   "outputs": [
    {
     "data": {
      "text/plain": [
       "[[1, 2, 3], [4, 5, 6], [7, 8, 9]]"
      ]
     },
     "execution_count": 50,
     "metadata": {},
     "output_type": "execute_result"
    }
   ],
   "source": [
    "[[1,2,3],[4,5,6],[7,8,9]]"
   ]
  },
  {
   "cell_type": "code",
   "execution_count": 51,
   "id": "15519295",
   "metadata": {},
   "outputs": [
    {
     "data": {
      "text/plain": [
       "3"
      ]
     },
     "execution_count": 51,
     "metadata": {},
     "output_type": "execute_result"
    }
   ],
   "source": [
    "len([1,2,3])"
   ]
  },
  {
   "cell_type": "code",
   "execution_count": 52,
   "id": "56da1ce3",
   "metadata": {},
   "outputs": [
    {
     "data": {
      "text/plain": [
       "3"
      ]
     },
     "execution_count": 52,
     "metadata": {},
     "output_type": "execute_result"
    }
   ],
   "source": [
    "len([[1,2,3],[4,5,6],[7,8,9]])"
   ]
  },
  {
   "cell_type": "code",
   "execution_count": 53,
   "id": "5d50257e",
   "metadata": {},
   "outputs": [],
   "source": [
    "#lists can also be entered in iteraterally"
   ]
  },
  {
   "cell_type": "code",
   "execution_count": 56,
   "id": "b97ec01b",
   "metadata": {},
   "outputs": [],
   "source": [
    "#can add lists into a sequence, like for x in ___ .append/.delete/etc\n",
    "storage_box=[]\n",
    "for each_number in [0, 1, 2, 3, 4, 5]:\n",
    "    storage_box.append('box')"
   ]
  },
  {
   "cell_type": "code",
   "execution_count": 55,
   "id": "d3ee05da",
   "metadata": {},
   "outputs": [
    {
     "data": {
      "text/plain": [
       "['box', 'box', 'box', 'box', 'box', 'box']"
      ]
     },
     "execution_count": 55,
     "metadata": {},
     "output_type": "execute_result"
    }
   ],
   "source": [
    "storage_box"
   ]
  },
  {
   "cell_type": "markdown",
   "id": "a1b8ffd0",
   "metadata": {},
   "source": [
    "LIST COMPREHENSIONS"
   ]
  },
  {
   "cell_type": "code",
   "execution_count": 58,
   "id": "66f9b56c",
   "metadata": {},
   "outputs": [],
   "source": [
    "storage_box2=['box' for each_number in range(7)]"
   ]
  },
  {
   "cell_type": "code",
   "execution_count": 59,
   "id": "099fd9b3",
   "metadata": {},
   "outputs": [
    {
     "data": {
      "text/plain": [
       "['box', 'box', 'box', 'box', 'box', 'box', 'box']"
      ]
     },
     "execution_count": 59,
     "metadata": {},
     "output_type": "execute_result"
    }
   ],
   "source": [
    "storage_box2"
   ]
  },
  {
   "cell_type": "code",
   "execution_count": 60,
   "id": "d87f1d81",
   "metadata": {},
   "outputs": [],
   "source": [
    "storage_box3 =['box'for each_number in range(4)]"
   ]
  },
  {
   "cell_type": "code",
   "execution_count": 61,
   "id": "648290a8",
   "metadata": {},
   "outputs": [
    {
     "data": {
      "text/plain": [
       "['box', 'box', 'box', 'box']"
      ]
     },
     "execution_count": 61,
     "metadata": {},
     "output_type": "execute_result"
    }
   ],
   "source": [
    "storage_box3"
   ]
  },
  {
   "cell_type": "code",
   "execution_count": 62,
   "id": "ff9302ad",
   "metadata": {},
   "outputs": [
    {
     "data": {
      "text/plain": [
       "[0, 1, 2, 3, 4, 5, 6]"
      ]
     },
     "execution_count": 62,
     "metadata": {},
     "output_type": "execute_result"
    }
   ],
   "source": [
    "list(range(7))"
   ]
  },
  {
   "cell_type": "code",
   "execution_count": 63,
   "id": "2abecc52",
   "metadata": {},
   "outputs": [],
   "source": [
    "storage_box4 = ['box' for each_element in ['1', '2', 123, 1.2345, 'string',['1',2],0]]"
   ]
  },
  {
   "cell_type": "code",
   "execution_count": 64,
   "id": "a7ba94c1",
   "metadata": {},
   "outputs": [
    {
     "data": {
      "text/plain": [
       "['box', 'box', 'box', 'box', 'box', 'box', 'box']"
      ]
     },
     "execution_count": 64,
     "metadata": {},
     "output_type": "execute_result"
    }
   ],
   "source": [
    "storage_box4"
   ]
  },
  {
   "cell_type": "code",
   "execution_count": 65,
   "id": "f7453206",
   "metadata": {},
   "outputs": [],
   "source": [
    "storage_box5 = ['box' for beans in ['1', '2', 123, 1.2345, 'string',['1',2],0]]"
   ]
  },
  {
   "cell_type": "code",
   "execution_count": 66,
   "id": "8db26a4c",
   "metadata": {},
   "outputs": [],
   "source": [
    "storage_box6 = ['box' for n in range(7)]"
   ]
  },
  {
   "cell_type": "code",
   "execution_count": 67,
   "id": "4afd1867",
   "metadata": {},
   "outputs": [
    {
     "data": {
      "text/plain": [
       "['box', 'box', 'box', 'box', 'box', 'box', 'box']"
      ]
     },
     "execution_count": 67,
     "metadata": {},
     "output_type": "execute_result"
    }
   ],
   "source": [
    "storage_box6"
   ]
  },
  {
   "cell_type": "code",
   "execution_count": 92,
   "id": "7ca8538c",
   "metadata": {},
   "outputs": [],
   "source": [
    "storage_box6 = [n * 2 for n in range(7)]"
   ]
  },
  {
   "cell_type": "code",
   "execution_count": 74,
   "id": "8969c6eb",
   "metadata": {},
   "outputs": [],
   "source": [
    "storage_box7 = ['box' * 2 for n in range(7)]"
   ]
  },
  {
   "cell_type": "code",
   "execution_count": 75,
   "id": "8a0c1001",
   "metadata": {},
   "outputs": [
    {
     "data": {
      "text/plain": [
       "['boxbox', 'boxbox', 'boxbox', 'boxbox', 'boxbox', 'boxbox', 'boxbox']"
      ]
     },
     "execution_count": 75,
     "metadata": {},
     "output_type": "execute_result"
    }
   ],
   "source": [
    "storage_box7"
   ]
  },
  {
   "cell_type": "code",
   "execution_count": 76,
   "id": "27b38aa6",
   "metadata": {},
   "outputs": [],
   "source": [
    "storage_box7 = [n * 2 for n in range(7) if n % 2 == 0]"
   ]
  },
  {
   "cell_type": "code",
   "execution_count": 77,
   "id": "fef48eae",
   "metadata": {},
   "outputs": [
    {
     "data": {
      "text/plain": [
       "[0, 4, 8, 12]"
      ]
     },
     "execution_count": 77,
     "metadata": {},
     "output_type": "execute_result"
    }
   ],
   "source": [
    "storage_box7"
   ]
  },
  {
   "cell_type": "code",
   "execution_count": 87,
   "id": "457d183c",
   "metadata": {},
   "outputs": [],
   "source": [
    "storage_box8 = [n * 1 for n in range(7) if n % 2  == 1]"
   ]
  },
  {
   "cell_type": "code",
   "execution_count": 88,
   "id": "545f5741",
   "metadata": {},
   "outputs": [
    {
     "data": {
      "text/plain": [
       "[1, 3, 5]"
      ]
     },
     "execution_count": 88,
     "metadata": {},
     "output_type": "execute_result"
    }
   ],
   "source": [
    "storage_box8"
   ]
  },
  {
   "cell_type": "code",
   "execution_count": 90,
   "id": "0368a304",
   "metadata": {},
   "outputs": [],
   "source": [
    "storage_box9 = [n *2 for n in range(100) if (n % 2 == 0) and (n % 3 ==0)]"
   ]
  },
  {
   "cell_type": "code",
   "execution_count": 91,
   "id": "3d068270",
   "metadata": {},
   "outputs": [
    {
     "data": {
      "text/plain": [
       "[0, 12, 24, 36, 48, 60, 72, 84, 96, 108, 120, 132, 144, 156, 168, 180, 192]"
      ]
     },
     "execution_count": 91,
     "metadata": {},
     "output_type": "execute_result"
    }
   ],
   "source": [
    "storage_box9"
   ]
  },
  {
   "cell_type": "markdown",
   "id": "fd0efc41",
   "metadata": {},
   "source": [
    "LIST OPERATIONS"
   ]
  },
  {
   "cell_type": "code",
   "execution_count": 110,
   "id": "db9f771f",
   "metadata": {},
   "outputs": [],
   "source": [
    "numbers = [1, 2, 3]"
   ]
  },
  {
   "cell_type": "code",
   "execution_count": 111,
   "id": "ba0d990e",
   "metadata": {},
   "outputs": [
    {
     "data": {
      "text/plain": [
       "[1, 2, 3, 4]"
      ]
     },
     "execution_count": 111,
     "metadata": {},
     "output_type": "execute_result"
    }
   ],
   "source": [
    "numbers.append(4)\n",
    "numbers"
   ]
  },
  {
   "cell_type": "code",
   "execution_count": 112,
   "id": "27ca79b5",
   "metadata": {},
   "outputs": [
    {
     "data": {
      "text/plain": [
       "[1, 2, 3]"
      ]
     },
     "execution_count": 112,
     "metadata": {},
     "output_type": "execute_result"
    }
   ],
   "source": [
    "numbers.pop()\n",
    "numbers"
   ]
  },
  {
   "cell_type": "code",
   "execution_count": 114,
   "id": "cade3652",
   "metadata": {},
   "outputs": [
    {
     "data": {
      "text/plain": [
       "3"
      ]
     },
     "execution_count": 114,
     "metadata": {},
     "output_type": "execute_result"
    }
   ],
   "source": [
    "removed_element = numbers.pop()\n",
    "removed_element"
   ]
  },
  {
   "cell_type": "code",
   "execution_count": 115,
   "id": "f963876a",
   "metadata": {},
   "outputs": [
    {
     "data": {
      "text/plain": [
       "[1, 2]"
      ]
     },
     "execution_count": 115,
     "metadata": {},
     "output_type": "execute_result"
    }
   ],
   "source": [
    "numbers"
   ]
  },
  {
   "cell_type": "code",
   "execution_count": 116,
   "id": "9b0d2b6e",
   "metadata": {},
   "outputs": [
    {
     "data": {
      "text/plain": [
       "2"
      ]
     },
     "execution_count": 116,
     "metadata": {},
     "output_type": "execute_result"
    }
   ],
   "source": [
    "len(numbers)"
   ]
  },
  {
   "cell_type": "code",
   "execution_count": 124,
   "id": "2d36c244",
   "metadata": {},
   "outputs": [],
   "source": [
    "list_of_lists =[[['one', 'two', 'three'], 2, 3], [4, 5, 6], [7, 8, 9]]"
   ]
  },
  {
   "cell_type": "code",
   "execution_count": 125,
   "id": "da57a188",
   "metadata": {},
   "outputs": [
    {
     "name": "stdout",
     "output_type": "stream",
     "text": [
      "[['one', 'two', 'three'], 2, 3]\n",
      "[4, 5, 6]\n",
      "[7, 8, 9]\n"
     ]
    }
   ],
   "source": [
    "print(list_of_lists[0])\n",
    "print(list_of_lists[1])\n",
    "print(list_of_lists[2])"
   ]
  },
  {
   "cell_type": "code",
   "execution_count": 126,
   "id": "96349323",
   "metadata": {},
   "outputs": [
    {
     "data": {
      "text/plain": [
       "['one', 'two', 'three']"
      ]
     },
     "execution_count": 126,
     "metadata": {},
     "output_type": "execute_result"
    }
   ],
   "source": [
    "list_of_lists[0][0]"
   ]
  },
  {
   "cell_type": "code",
   "execution_count": 127,
   "id": "ab571c14",
   "metadata": {},
   "outputs": [
    {
     "data": {
      "text/plain": [
       "'two'"
      ]
     },
     "execution_count": 127,
     "metadata": {},
     "output_type": "execute_result"
    }
   ],
   "source": [
    "list_of_lists[0][0][1]"
   ]
  },
  {
   "cell_type": "code",
   "execution_count": 129,
   "id": "3180b3b9",
   "metadata": {},
   "outputs": [
    {
     "data": {
      "text/plain": [
       "[[4, 5, 6], [7, 8, 9]]"
      ]
     },
     "execution_count": 129,
     "metadata": {},
     "output_type": "execute_result"
    }
   ],
   "source": [
    "list_of_lists[1:3] #index 1, go up to but not including index 3"
   ]
  },
  {
   "cell_type": "code",
   "execution_count": 130,
   "id": "d900bebd",
   "metadata": {},
   "outputs": [
    {
     "data": {
      "text/plain": [
       "[[4, 5, 6], [7, 8, 9]]"
      ]
     },
     "execution_count": 130,
     "metadata": {},
     "output_type": "execute_result"
    }
   ],
   "source": [
    "list_of_lists[1:] #just give index 1"
   ]
  },
  {
   "cell_type": "code",
   "execution_count": 131,
   "id": "eea2e0e9",
   "metadata": {},
   "outputs": [
    {
     "data": {
      "text/plain": [
       "[[['one', 'two', 'three'], 2, 3], [4, 5, 6]]"
      ]
     },
     "execution_count": 131,
     "metadata": {},
     "output_type": "execute_result"
    }
   ],
   "source": [
    "list_of_lists[:2]"
   ]
  },
  {
   "cell_type": "code",
   "execution_count": 132,
   "id": "f673d615",
   "metadata": {},
   "outputs": [
    {
     "data": {
      "text/plain": [
       "[[4, 5, 6]]"
      ]
     },
     "execution_count": 132,
     "metadata": {},
     "output_type": "execute_result"
    }
   ],
   "source": [
    "list_of_lists[1:2]"
   ]
  },
  {
   "cell_type": "code",
   "execution_count": 133,
   "id": "c0682da0",
   "metadata": {},
   "outputs": [],
   "source": [
    "string_example = 'abcdefg'"
   ]
  },
  {
   "cell_type": "code",
   "execution_count": 135,
   "id": "a3a28917",
   "metadata": {},
   "outputs": [
    {
     "data": {
      "text/plain": [
       "'a'"
      ]
     },
     "execution_count": 135,
     "metadata": {},
     "output_type": "execute_result"
    }
   ],
   "source": [
    "string_example[0]"
   ]
  },
  {
   "cell_type": "code",
   "execution_count": 136,
   "id": "81bc0ca8",
   "metadata": {},
   "outputs": [
    {
     "data": {
      "text/plain": [
       "'defg'"
      ]
     },
     "execution_count": 136,
     "metadata": {},
     "output_type": "execute_result"
    }
   ],
   "source": [
    "string_example[3:]"
   ]
  },
  {
   "cell_type": "code",
   "execution_count": 137,
   "id": "fa282223",
   "metadata": {},
   "outputs": [
    {
     "data": {
      "text/plain": [
       "'g'"
      ]
     },
     "execution_count": 137,
     "metadata": {},
     "output_type": "execute_result"
    }
   ],
   "source": [
    "string_example[-1]"
   ]
  },
  {
   "cell_type": "code",
   "execution_count": 138,
   "id": "b206b19c",
   "metadata": {},
   "outputs": [
    {
     "data": {
      "text/plain": [
       "[[['one', 'two', 'three'], 2, 3], [4, 5, 6], [7, 8, 9]]"
      ]
     },
     "execution_count": 138,
     "metadata": {},
     "output_type": "execute_result"
    }
   ],
   "source": [
    "list_of_lists"
   ]
  },
  {
   "cell_type": "code",
   "execution_count": 139,
   "id": "92fce576",
   "metadata": {},
   "outputs": [],
   "source": [
    "#slicing a list within a list"
   ]
  },
  {
   "cell_type": "code",
   "execution_count": 140,
   "id": "ce1c19b1",
   "metadata": {},
   "outputs": [
    {
     "data": {
      "text/plain": [
       "[['one', 'two', 'three'], 2, 3]"
      ]
     },
     "execution_count": 140,
     "metadata": {},
     "output_type": "execute_result"
    }
   ],
   "source": [
    "list_of_lists[0]"
   ]
  },
  {
   "cell_type": "code",
   "execution_count": 142,
   "id": "24bd2234",
   "metadata": {},
   "outputs": [
    {
     "data": {
      "text/plain": [
       "[2, 3]"
      ]
     },
     "execution_count": 142,
     "metadata": {},
     "output_type": "execute_result"
    }
   ],
   "source": [
    "list_of_lists[0][1:]"
   ]
  },
  {
   "cell_type": "markdown",
   "id": "99532cd1",
   "metadata": {},
   "source": [
    "CONVERTING TO A LIST"
   ]
  },
  {
   "cell_type": "code",
   "execution_count": 147,
   "id": "20b62b1e",
   "metadata": {},
   "outputs": [
    {
     "data": {
      "text/plain": [
       "range(0, 7)"
      ]
     },
     "execution_count": 147,
     "metadata": {},
     "output_type": "execute_result"
    }
   ],
   "source": [
    "range(7) \n",
    "#range is not storing 7 characters, \n",
    "#its storing what 7 characters WOULD be"
   ]
  },
  {
   "cell_type": "code",
   "execution_count": 144,
   "id": "21b83299",
   "metadata": {},
   "outputs": [
    {
     "data": {
      "text/plain": [
       "range"
      ]
     },
     "execution_count": 144,
     "metadata": {},
     "output_type": "execute_result"
    }
   ],
   "source": [
    "type(range(7))"
   ]
  },
  {
   "cell_type": "code",
   "execution_count": 145,
   "id": "b6337a51",
   "metadata": {},
   "outputs": [
    {
     "data": {
      "text/plain": [
       "7"
      ]
     },
     "execution_count": 145,
     "metadata": {},
     "output_type": "execute_result"
    }
   ],
   "source": [
    "len(range(7))"
   ]
  },
  {
   "cell_type": "code",
   "execution_count": 149,
   "id": "70ed82e0",
   "metadata": {},
   "outputs": [],
   "source": [
    "#to store digits, it doesn't store the data but rather \n",
    "#an object that stores an idea or \"recipe\"\n",
    "store = '000000000000000000000000000000000000000b'"
   ]
  },
  {
   "cell_type": "code",
   "execution_count": 150,
   "id": "2eb8a370",
   "metadata": {},
   "outputs": [
    {
     "data": {
      "text/plain": [
       "[0, 1, 2, 3, 4, 5, 6]"
      ]
     },
     "execution_count": 150,
     "metadata": {},
     "output_type": "execute_result"
    }
   ],
   "source": [
    "list(range(7))"
   ]
  },
  {
   "cell_type": "markdown",
   "id": "e071191d",
   "metadata": {},
   "source": [
    "#use the list function to turn anything into a list"
   ]
  },
  {
   "cell_type": "code",
   "execution_count": 152,
   "id": "ebe5998d",
   "metadata": {},
   "outputs": [
    {
     "data": {
      "text/plain": [
       "['a', 'b', 'c', 'd', 'e', 'f', 'g']"
      ]
     },
     "execution_count": 152,
     "metadata": {},
     "output_type": "execute_result"
    }
   ],
   "source": [
    "list('abcdefg')"
   ]
  },
  {
   "cell_type": "markdown",
   "id": "7751d09d",
   "metadata": {},
   "source": [
    "#with range, it doesn't take up much space, until we use\n",
    "#list function (where it may hold more memory of objects)"
   ]
  },
  {
   "cell_type": "code",
   "execution_count": 153,
   "id": "835fb9f7",
   "metadata": {},
   "outputs": [
    {
     "data": {
      "text/plain": [
       "['1', '2', '3']"
      ]
     },
     "execution_count": 153,
     "metadata": {},
     "output_type": "execute_result"
    }
   ],
   "source": [
    "list(map(str, [1, 2, 3]))"
   ]
  },
  {
   "cell_type": "markdown",
   "id": "b53669b8",
   "metadata": {},
   "source": [
    "TUPLES ARE LISTS THAT DON'T CHANGE"
   ]
  },
  {
   "cell_type": "code",
   "execution_count": 156,
   "id": "1f1b1d70",
   "metadata": {},
   "outputs": [],
   "source": [
    "my_tuple =(1, 2, 3)"
   ]
  },
  {
   "cell_type": "code",
   "execution_count": 157,
   "id": "c05373fc",
   "metadata": {},
   "outputs": [
    {
     "data": {
      "text/plain": [
       "(1, 2, 3)"
      ]
     },
     "execution_count": 157,
     "metadata": {},
     "output_type": "execute_result"
    }
   ],
   "source": [
    "my_tuple"
   ]
  },
  {
   "cell_type": "code",
   "execution_count": 158,
   "id": "8909d5ca",
   "metadata": {},
   "outputs": [
    {
     "data": {
      "text/plain": [
       "(3,)"
      ]
     },
     "execution_count": 158,
     "metadata": {},
     "output_type": "execute_result"
    }
   ],
   "source": [
    "my_tuple[2:]"
   ]
  },
  {
   "cell_type": "code",
   "execution_count": 159,
   "id": "736c1185",
   "metadata": {},
   "outputs": [
    {
     "ename": "AttributeError",
     "evalue": "'tuple' object has no attribute 'append'",
     "output_type": "error",
     "traceback": [
      "\u001b[0;31m---------------------------------------------------------------------------\u001b[0m",
      "\u001b[0;31mAttributeError\u001b[0m                            Traceback (most recent call last)",
      "\u001b[0;32m/var/folders/d3/11nygz6126ndxvtrp12687680000gn/T/ipykernel_43603/3420063398.py\u001b[0m in \u001b[0;36m<module>\u001b[0;34m\u001b[0m\n\u001b[0;32m----> 1\u001b[0;31m \u001b[0mmy_tuple\u001b[0m\u001b[0;34m.\u001b[0m\u001b[0mappend\u001b[0m\u001b[0;34m(\u001b[0m\u001b[0;36m4\u001b[0m\u001b[0;34m)\u001b[0m\u001b[0;34m\u001b[0m\u001b[0;34m\u001b[0m\u001b[0m\n\u001b[0m",
      "\u001b[0;31mAttributeError\u001b[0m: 'tuple' object has no attribute 'append'"
     ]
    }
   ],
   "source": [
    "my_tuple.append(4)"
   ]
  },
  {
   "cell_type": "markdown",
   "id": "566b002b",
   "metadata": {},
   "source": [
    "#tuple cannot be changed/appended"
   ]
  },
  {
   "cell_type": "markdown",
   "id": "17d50583",
   "metadata": {},
   "source": [
    "#but we can delete and reassign again"
   ]
  },
  {
   "cell_type": "code",
   "execution_count": 161,
   "id": "d2e40b3c",
   "metadata": {},
   "outputs": [],
   "source": [
    "my_tuple = (2, 3, 4)"
   ]
  },
  {
   "cell_type": "code",
   "execution_count": 162,
   "id": "b917b83b",
   "metadata": {},
   "outputs": [
    {
     "data": {
      "text/plain": [
       "(2, 3, 4)"
      ]
     },
     "execution_count": 162,
     "metadata": {},
     "output_type": "execute_result"
    }
   ],
   "source": [
    "my_tuple"
   ]
  },
  {
   "cell_type": "markdown",
   "id": "fce29272",
   "metadata": {},
   "source": [
    "DICTIONARIES"
   ]
  },
  {
   "cell_type": "markdown",
   "id": "7d5475d9",
   "metadata": {},
   "source": [
    "#dictionaries are like labeled lists"
   ]
  },
  {
   "cell_type": "code",
   "execution_count": 165,
   "id": "3d29c9b6",
   "metadata": {},
   "outputs": [],
   "source": [
    "my_dict = {'users': ['Bob', 'Adam', 'Sally', 'Jen', 'Mike'], 'roles': ['Admin', 'Reviewer', 'Commentor']}"
   ]
  },
  {
   "cell_type": "code",
   "execution_count": 166,
   "id": "601203a9",
   "metadata": {},
   "outputs": [
    {
     "data": {
      "text/plain": [
       "2"
      ]
     },
     "execution_count": 166,
     "metadata": {},
     "output_type": "execute_result"
    }
   ],
   "source": [
    "len(my_dict)"
   ]
  },
  {
   "cell_type": "code",
   "execution_count": 167,
   "id": "adf7df3f",
   "metadata": {},
   "outputs": [
    {
     "ename": "KeyError",
     "evalue": "0",
     "output_type": "error",
     "traceback": [
      "\u001b[0;31m---------------------------------------------------------------------------\u001b[0m",
      "\u001b[0;31mKeyError\u001b[0m                                  Traceback (most recent call last)",
      "\u001b[0;32m/var/folders/d3/11nygz6126ndxvtrp12687680000gn/T/ipykernel_43603/2056869115.py\u001b[0m in \u001b[0;36m<module>\u001b[0;34m\u001b[0m\n\u001b[0;32m----> 1\u001b[0;31m \u001b[0mmy_dict\u001b[0m\u001b[0;34m[\u001b[0m\u001b[0;36m0\u001b[0m\u001b[0;34m]\u001b[0m\u001b[0;34m\u001b[0m\u001b[0;34m\u001b[0m\u001b[0m\n\u001b[0m",
      "\u001b[0;31mKeyError\u001b[0m: 0"
     ]
    }
   ],
   "source": [
    "#instead of using the lists positions (like 0, 1, 2,...)\n",
    "#we will use labels...\n",
    "my_dict[0]"
   ]
  },
  {
   "cell_type": "code",
   "execution_count": 168,
   "id": "9ce9fff8",
   "metadata": {},
   "outputs": [
    {
     "data": {
      "text/plain": [
       "['Bob', 'Adam', 'Sally', 'Jen', 'Mike']"
      ]
     },
     "execution_count": 168,
     "metadata": {},
     "output_type": "execute_result"
    }
   ],
   "source": [
    "my_dict['users']"
   ]
  },
  {
   "cell_type": "code",
   "execution_count": 169,
   "id": "4cc8cd1a",
   "metadata": {},
   "outputs": [
    {
     "data": {
      "text/plain": [
       "['Admin', 'Reviewer', 'Commentor']"
      ]
     },
     "execution_count": 169,
     "metadata": {},
     "output_type": "execute_result"
    }
   ],
   "source": [
    "my_dict['roles']"
   ]
  },
  {
   "cell_type": "code",
   "execution_count": 170,
   "id": "b308e6cc",
   "metadata": {},
   "outputs": [],
   "source": [
    "my_dict2 = {'name': 'Codeup', 'age':4}"
   ]
  },
  {
   "cell_type": "code",
   "execution_count": 171,
   "id": "8ea8fa85",
   "metadata": {},
   "outputs": [
    {
     "data": {
      "text/plain": [
       "'Codeup'"
      ]
     },
     "execution_count": 171,
     "metadata": {},
     "output_type": "execute_result"
    }
   ],
   "source": [
    "my_dict2['name']"
   ]
  },
  {
   "cell_type": "markdown",
   "id": "15e679ca",
   "metadata": {},
   "source": [
    "--to manipulate data within dictionaries--\n",
    "\n",
    "1) add other aggregates"
   ]
  },
  {
   "cell_type": "code",
   "execution_count": 173,
   "id": "ae3097bf",
   "metadata": {},
   "outputs": [
    {
     "data": {
      "text/plain": [
       "'Codeup is cool'"
      ]
     },
     "execution_count": 173,
     "metadata": {},
     "output_type": "execute_result"
    }
   ],
   "source": [
    "my_dict2['name'] + ' is cool'"
   ]
  },
  {
   "cell_type": "code",
   "execution_count": 174,
   "id": "4eb91d09",
   "metadata": {},
   "outputs": [
    {
     "data": {
      "text/plain": [
       "{'name': 'Codeup', 'age': 4}"
      ]
     },
     "execution_count": 174,
     "metadata": {},
     "output_type": "execute_result"
    }
   ],
   "source": [
    "#did not change dictionary\n",
    "my_dict2"
   ]
  },
  {
   "cell_type": "code",
   "execution_count": 175,
   "id": "cde555f4",
   "metadata": {},
   "outputs": [],
   "source": [
    "#let's change the dictionary...\n",
    "my_dict2['age']= my_dict2['age'] + 1"
   ]
  },
  {
   "cell_type": "code",
   "execution_count": 176,
   "id": "7081cf22",
   "metadata": {},
   "outputs": [
    {
     "data": {
      "text/plain": [
       "{'name': 'Codeup', 'age': 5}"
      ]
     },
     "execution_count": 176,
     "metadata": {},
     "output_type": "execute_result"
    }
   ],
   "source": [
    "my_dict2"
   ]
  },
  {
   "cell_type": "code",
   "execution_count": 177,
   "id": "5bb4b28a",
   "metadata": {},
   "outputs": [],
   "source": [
    "my_dict2['age']='five'"
   ]
  },
  {
   "cell_type": "code",
   "execution_count": 178,
   "id": "3dc317bc",
   "metadata": {},
   "outputs": [
    {
     "data": {
      "text/plain": [
       "{'name': 'Codeup', 'age': 'five'}"
      ]
     },
     "execution_count": 178,
     "metadata": {},
     "output_type": "execute_result"
    }
   ],
   "source": [
    "my_dict2"
   ]
  },
  {
   "cell_type": "code",
   "execution_count": 181,
   "id": "9babaa50",
   "metadata": {},
   "outputs": [
    {
     "ename": "TypeError",
     "evalue": "can only concatenate str (not \"int\") to str",
     "output_type": "error",
     "traceback": [
      "\u001b[0;31m---------------------------------------------------------------------------\u001b[0m",
      "\u001b[0;31mTypeError\u001b[0m                                 Traceback (most recent call last)",
      "\u001b[0;32m/var/folders/d3/11nygz6126ndxvtrp12687680000gn/T/ipykernel_43603/4280972086.py\u001b[0m in \u001b[0;36m<module>\u001b[0;34m\u001b[0m\n\u001b[0;32m----> 1\u001b[0;31m \u001b[0mmy_dict2\u001b[0m\u001b[0;34m[\u001b[0m\u001b[0;34m'age'\u001b[0m\u001b[0;34m]\u001b[0m \u001b[0;34m+=\u001b[0m \u001b[0;36m1\u001b[0m \u001b[0;31m#won't work since changed dict to strg ('five')\u001b[0m\u001b[0;34m\u001b[0m\u001b[0;34m\u001b[0m\u001b[0m\n\u001b[0m",
      "\u001b[0;31mTypeError\u001b[0m: can only concatenate str (not \"int\") to str"
     ]
    }
   ],
   "source": [
    "my_dict2['age'] += 1 \n",
    "#won't work since changed dict \n",
    "#to strg ('five') but will work with INT"
   ]
  },
  {
   "cell_type": "code",
   "execution_count": 183,
   "id": "1094ffc0",
   "metadata": {},
   "outputs": [],
   "source": [
    "nested_dict = {'fruit_shops':{'location': ['NW', 'NE', 'SW', 'SE'], 'age': [10, 14, 13, 12], 'manager': ['Bob', 'Sally', 'Jim'],\n",
    "                             'review':{ 'daily':[1230, 1512, 1233, 5235]}}, 'bike_shops': 'None'}"
   ]
  },
  {
   "cell_type": "code",
   "execution_count": 184,
   "id": "e51a8f46",
   "metadata": {},
   "outputs": [
    {
     "data": {
      "text/plain": [
       "{'fruit_shops': {'location': ['NW', 'NE', 'SW', 'SE'],\n",
       "  'age': [10, 14, 13, 12],\n",
       "  'manager': ['Bob', 'Sally', 'Jim'],\n",
       "  'review': {'daily': [1230, 1512, 1233, 5235]}},\n",
       " 'bike_shops': 'None'}"
      ]
     },
     "execution_count": 184,
     "metadata": {},
     "output_type": "execute_result"
    }
   ],
   "source": [
    "nested_dict"
   ]
  },
  {
   "cell_type": "code",
   "execution_count": 185,
   "id": "9f2e1375",
   "metadata": {},
   "outputs": [
    {
     "data": {
      "text/plain": [
       "2"
      ]
     },
     "execution_count": 185,
     "metadata": {},
     "output_type": "execute_result"
    }
   ],
   "source": [
    "len(nested_dict)"
   ]
  },
  {
   "cell_type": "code",
   "execution_count": 186,
   "id": "43c39a8b",
   "metadata": {},
   "outputs": [
    {
     "data": {
      "text/plain": [
       "dict_keys(['fruit_shops', 'bike_shops'])"
      ]
     },
     "execution_count": 186,
     "metadata": {},
     "output_type": "execute_result"
    }
   ],
   "source": [
    "#why only 2 elements in that nested dict?\n",
    "#let's look at the key()\n",
    "nested_dict.keys()"
   ]
  },
  {
   "cell_type": "code",
   "execution_count": 187,
   "id": "fa8397e8",
   "metadata": {},
   "outputs": [
    {
     "data": {
      "text/plain": [
       "{'location': ['NW', 'NE', 'SW', 'SE'],\n",
       " 'age': [10, 14, 13, 12],\n",
       " 'manager': ['Bob', 'Sally', 'Jim'],\n",
       " 'review': {'daily': [1230, 1512, 1233, 5235]}}"
      ]
     },
     "execution_count": 187,
     "metadata": {},
     "output_type": "execute_result"
    }
   ],
   "source": [
    "#this shows the two elements it counts (which is\n",
    "#the highest level of these lists/dictionaries)\n",
    "nested_dict['fruit_shops']"
   ]
  },
  {
   "cell_type": "code",
   "execution_count": 188,
   "id": "3ba4b827",
   "metadata": {},
   "outputs": [
    {
     "data": {
      "text/plain": [
       "'None'"
      ]
     },
     "execution_count": 188,
     "metadata": {},
     "output_type": "execute_result"
    }
   ],
   "source": [
    "nested_dict['bike_shops']"
   ]
  },
  {
   "cell_type": "code",
   "execution_count": 189,
   "id": "cab1c690",
   "metadata": {},
   "outputs": [
    {
     "data": {
      "text/plain": [
       "dict_keys(['location', 'age', 'manager', 'review'])"
      ]
     },
     "execution_count": 189,
     "metadata": {},
     "output_type": "execute_result"
    }
   ],
   "source": [
    "#using method .keys() to find what elements are in each elements \n",
    "#of the nested dictionary\n",
    "nested_dict['fruit_shops'].keys()"
   ]
  },
  {
   "cell_type": "code",
   "execution_count": 191,
   "id": "df744e31",
   "metadata": {},
   "outputs": [
    {
     "data": {
      "text/plain": [
       "{'daily': [1230, 1512, 1233, 5235]}"
      ]
     },
     "execution_count": 191,
     "metadata": {},
     "output_type": "execute_result"
    }
   ],
   "source": [
    "nested_dict['fruit_shops']['review']"
   ]
  },
  {
   "cell_type": "code",
   "execution_count": 192,
   "id": "431a397e",
   "metadata": {},
   "outputs": [
    {
     "data": {
      "text/plain": [
       "[1230, 1512, 1233, 5235]"
      ]
     },
     "execution_count": 192,
     "metadata": {},
     "output_type": "execute_result"
    }
   ],
   "source": [
    "nested_dict['fruit_shops']['review']['daily']"
   ]
  },
  {
   "cell_type": "code",
   "execution_count": 193,
   "id": "2903875e",
   "metadata": {},
   "outputs": [
    {
     "data": {
      "text/plain": [
       "5235"
      ]
     },
     "execution_count": 193,
     "metadata": {},
     "output_type": "execute_result"
    }
   ],
   "source": [
    "nested_dict['fruit_shops']['review']['daily'][3]"
   ]
  },
  {
   "cell_type": "code",
   "execution_count": null,
   "id": "5db28c29",
   "metadata": {},
   "outputs": [],
   "source": []
  }
 ],
 "metadata": {
  "kernelspec": {
   "display_name": "Python 3 (ipykernel)",
   "language": "python",
   "name": "python3"
  },
  "language_info": {
   "codemirror_mode": {
    "name": "ipython",
    "version": 3
   },
   "file_extension": ".py",
   "mimetype": "text/x-python",
   "name": "python",
   "nbconvert_exporter": "python",
   "pygments_lexer": "ipython3",
   "version": "3.9.7"
  }
 },
 "nbformat": 4,
 "nbformat_minor": 5
}
