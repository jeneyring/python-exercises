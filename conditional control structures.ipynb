{
 "cells": [
  {
   "cell_type": "code",
   "execution_count": null,
   "id": "0cdac032",
   "metadata": {},
   "outputs": [],
   "source": [
    "##Conditional Basics:\n",
    "#1\n",
    "## a) Prompt the user for a day of the week, print out whether the day is Monday or not\n",
    "\n",
    "happy_monday = 'Monday'\n",
    "user_input = input('What day of the week is it?: ')\n",
    "\n",
    "if user_input != happy_monday:\n",
    "    print('Dang, wish it was Monday...')\n",
    "\n",
    "else:\n",
    "    print('YES! Thank God it is Monday!')"
   ]
  },
  {
   "cell_type": "code",
   "execution_count": null,
   "id": "f625478e",
   "metadata": {},
   "outputs": [],
   "source": []
  },
  {
   "cell_type": "code",
   "execution_count": 8,
   "id": "f4235fe0",
   "metadata": {},
   "outputs": [
    {
     "ename": "NameError",
     "evalue": "name 'lower' is not defined",
     "output_type": "error",
     "traceback": [
      "\u001b[0;31m---------------------------------------------------------------------------\u001b[0m",
      "\u001b[0;31mNameError\u001b[0m                                 Traceback (most recent call last)",
      "\u001b[0;32m/var/folders/d3/11nygz6126ndxvtrp12687680000gn/T/ipykernel_66090/3768315994.py\u001b[0m in \u001b[0;36m<module>\u001b[0;34m\u001b[0m\n\u001b[1;32m      1\u001b[0m \u001b[0;31m## b)\u001b[0m\u001b[0;34m\u001b[0m\u001b[0;34m\u001b[0m\u001b[0m\n\u001b[1;32m      2\u001b[0m \u001b[0;34m\u001b[0m\u001b[0m\n\u001b[0;32m----> 3\u001b[0;31m \u001b[0mweekday\u001b[0m \u001b[0;34m=\u001b[0m \u001b[0;34m[\u001b[0m\u001b[0mlower\u001b[0m\u001b[0;34m(\u001b[0m\u001b[0;34m'Monday'\u001b[0m\u001b[0;34m,\u001b[0m \u001b[0;34m'Tuesday'\u001b[0m\u001b[0;34m,\u001b[0m\u001b[0;34m'Wednesday'\u001b[0m\u001b[0;34m,\u001b[0m\u001b[0;34m'Thursday'\u001b[0m\u001b[0;34m,\u001b[0m\u001b[0;34m'Friday'\u001b[0m\u001b[0;34m)\u001b[0m\u001b[0;34m]\u001b[0m\u001b[0;34m\u001b[0m\u001b[0;34m\u001b[0m\u001b[0m\n\u001b[0m\u001b[1;32m      4\u001b[0m \u001b[0mweekend\u001b[0m \u001b[0;34m=\u001b[0m \u001b[0;34m[\u001b[0m\u001b[0mlower\u001b[0m\u001b[0;34m(\u001b[0m\u001b[0;34m'Saturday'\u001b[0m\u001b[0;34m,\u001b[0m \u001b[0;34m'Sunday'\u001b[0m\u001b[0;34m)\u001b[0m\u001b[0;34m]\u001b[0m\u001b[0;34m\u001b[0m\u001b[0;34m\u001b[0m\u001b[0m\n\u001b[1;32m      5\u001b[0m \u001b[0muser_input\u001b[0m \u001b[0;34m=\u001b[0m \u001b[0minput\u001b[0m\u001b[0;34m(\u001b[0m\u001b[0;34m'What day of the week is it?: '\u001b[0m\u001b[0;34m)\u001b[0m\u001b[0;34m\u001b[0m\u001b[0;34m\u001b[0m\u001b[0m\n",
      "\u001b[0;31mNameError\u001b[0m: name 'lower' is not defined"
     ]
    }
   ],
   "source": [
    "## b) \n",
    "\n",
    "weekday = ['Monday', 'Tuesday','Wednesday','Thursday','Friday']\n",
    "weekend = ['Saturday', 'Sunday']\n",
    "user_input = input('What day of the week is it?: ') \n",
    "    \n",
    "while user_input in weekday:\n",
    "    print('Dang, another work day...')\n",
    "    break\n",
    "else:\n",
    "    print('Yay! The weekend is here!')"
   ]
  },
  {
   "cell_type": "code",
   "execution_count": null,
   "id": "dea6c803",
   "metadata": {},
   "outputs": [],
   "source": []
  },
  {
   "cell_type": "code",
   "execution_count": null,
   "id": "4b0c46aa",
   "metadata": {},
   "outputs": [],
   "source": [
    "## c)create variables and make up values for:\n",
    "#--the number of hours worked in one week\n",
    "#--the hourly rate\n",
    "#--how much the week's paycheck will be\n",
    "#--write the python code that calculates the weekly paycheck. \n",
    "#You get paid time and a half if you work more than 40 hours"
   ]
  },
  {
   "cell_type": "code",
   "execution_count": 9,
   "id": "452a8d01",
   "metadata": {},
   "outputs": [
    {
     "name": "stdout",
     "output_type": "stream",
     "text": [
      "Enter number of hours worked\n",
      "45\n",
      "Enter pay rate per hour\n",
      "7\n",
      "Overtime pay is: 325.5\n"
     ]
    }
   ],
   "source": [
    "hours = input(\"Enter number of hours worked\\n\")\n",
    "hours = int(hours)\n",
    "rate = input(\"Enter pay rate per hour\\n\")\n",
    "rate = int(rate)\n",
    "\n",
    "if int(hours)> 40:\n",
    "    print('Overtime pay is:', (rate * 1.5) + (hours * rate))\n",
    "else:\n",
    "    print(\"Weekly pay is:\", hours * rate)\n",
    "    \n",
    "\n"
   ]
  },
  {
   "cell_type": "code",
   "execution_count": null,
   "id": "8e6bda90",
   "metadata": {},
   "outputs": [],
   "source": [
    "#2)\n",
    "#Create an integer variable i with a value of 5.\n",
    "#Create a while loop that runs so long as i is less than or equal to 15\n",
    "#Each loop iteration, output the current value of i, then increment i by one."
   ]
  },
  {
   "cell_type": "code",
   "execution_count": 10,
   "id": "172dc411",
   "metadata": {},
   "outputs": [
    {
     "name": "stdout",
     "output_type": "stream",
     "text": [
      "5\n",
      "6\n",
      "7\n",
      "8\n",
      "9\n",
      "10\n",
      "11\n",
      "12\n",
      "13\n",
      "14\n",
      "15\n"
     ]
    }
   ],
   "source": [
    "i = 5\n",
    "\n",
    "while i <= 15:\n",
    "    print(i)\n",
    "    i = i + 1"
   ]
  },
  {
   "cell_type": "code",
   "execution_count": null,
   "id": "0ffcc7cf",
   "metadata": {},
   "outputs": [],
   "source": [
    "#2 b)Create a while loop that will count by 2's starting with 0 and ending at 100. \n",
    "#Follow each number with a new line."
   ]
  },
  {
   "cell_type": "code",
   "execution_count": null,
   "id": "aab4db37",
   "metadata": {},
   "outputs": [],
   "source": [
    "i = 2\n",
    "\n",
    "while i in range(1,101):\n",
    "        print(i)\n",
    "        i = i * 2"
   ]
  },
  {
   "cell_type": "code",
   "execution_count": null,
   "id": "b3087c51",
   "metadata": {},
   "outputs": [],
   "source": [
    "#Alter your loop to count backwards by 5's from 100 to -10."
   ]
  },
  {
   "cell_type": "code",
   "execution_count": null,
   "id": "2586b00f",
   "metadata": {},
   "outputs": [],
   "source": [
    "i = 100\n",
    "\n",
    "while i >= -10:\n",
    "    print(i)\n",
    "    i = i - 5"
   ]
  },
  {
   "cell_type": "code",
   "execution_count": null,
   "id": "39f72427",
   "metadata": {},
   "outputs": [],
   "source": []
  },
  {
   "cell_type": "code",
   "execution_count": 12,
   "id": "7fa3432c",
   "metadata": {},
   "outputs": [
    {
     "name": "stdout",
     "output_type": "stream",
     "text": [
      "2\n",
      "4\n",
      "16\n",
      "256\n",
      "65536\n"
     ]
    }
   ],
   "source": [
    "i = 2\n",
    "\n",
    "while i <= 1000000:\n",
    "    print(i)\n",
    "    i = i ** 2"
   ]
  },
  {
   "cell_type": "code",
   "execution_count": null,
   "id": "990c1453",
   "metadata": {},
   "outputs": [],
   "source": [
    "#Write a loop that uses print to create the output shown below."
   ]
  },
  {
   "cell_type": "code",
   "execution_count": 13,
   "id": "0adebac4",
   "metadata": {},
   "outputs": [
    {
     "name": "stdout",
     "output_type": "stream",
     "text": [
      "100\n",
      "95\n",
      "90\n",
      "85\n",
      "80\n",
      "75\n",
      "70\n",
      "65\n",
      "60\n",
      "55\n",
      "50\n",
      "45\n",
      "40\n",
      "35\n",
      "30\n",
      "25\n",
      "20\n",
      "15\n",
      "10\n",
      "5\n"
     ]
    }
   ],
   "source": [
    "i = 100\n",
    "\n",
    "while i >= 5:\n",
    "    print(i)\n",
    "    i = i - 5"
   ]
  },
  {
   "cell_type": "code",
   "execution_count": null,
   "id": "aa91866c",
   "metadata": {},
   "outputs": [],
   "source": [
    "#Write some code that prompts the user for a number, \n",
    "#then shows a multiplication table up through 10 for that number.\n",
    "\n",
    "num = int(input(\"Choose a number:  \"))\n",
    "i = 1\n",
    "\n",
    "while i<=10:\n",
    "    print(num, \"X\", i, \"=\", num * i)\n",
    "    i = i+1\n",
    "        \n",
    "    "
   ]
  },
  {
   "cell_type": "code",
   "execution_count": null,
   "id": "322e5756",
   "metadata": {},
   "outputs": [],
   "source": [
    "#Create a for loop that uses print to create the output shown below."
   ]
  },
  {
   "cell_type": "code",
   "execution_count": 14,
   "id": "d0fcea33",
   "metadata": {},
   "outputs": [
    {
     "name": "stdout",
     "output_type": "stream",
     "text": [
      "1\n",
      "22\n",
      "333\n",
      "4444\n",
      "55555\n",
      "666666\n",
      "7777777\n",
      "88888888\n",
      "999999999\n"
     ]
    }
   ],
   "source": [
    "n = int(9)\n",
    "\n",
    "for i in range(1,n+1):\n",
    "    for j in range(1, i+1):\n",
    "        print(i, end=\"\")\n",
    "    print()"
   ]
  },
  {
   "cell_type": "code",
   "execution_count": 16,
   "id": "86456d64",
   "metadata": {},
   "outputs": [
    {
     "name": "stdout",
     "output_type": "stream",
     "text": [
      "1\n",
      "22\n",
      "333\n",
      "4444\n",
      "55555\n",
      "666666\n",
      "7777777\n",
      "88888888\n",
      "999999999\n"
     ]
    }
   ],
   "source": [
    "#or\n",
    "\n",
    "for i in range(1,10):\n",
    "    print(str(i)* i)"
   ]
  },
  {
   "cell_type": "code",
   "execution_count": 17,
   "id": "941170ac",
   "metadata": {},
   "outputs": [
    {
     "data": {
      "text/plain": [
       "True"
      ]
     },
     "execution_count": 17,
     "metadata": {},
     "output_type": "execute_result"
    }
   ],
   "source": [
    "n = 51\n",
    "(n>50) or (n < 1)"
   ]
  },
  {
   "cell_type": "code",
   "execution_count": 18,
   "id": "d93da884",
   "metadata": {},
   "outputs": [
    {
     "name": "stdout",
     "output_type": "stream",
     "text": [
      "Choose an odd number to skip: 33\n",
      "Here is an odd number: 1\n",
      "Here is an odd number: 3\n",
      "Here is an odd number: 5\n",
      "Here is an odd number: 7\n",
      "Here is an odd number: 9\n",
      "Here is an odd number: 11\n",
      "Here is an odd number: 13\n",
      "Here is an odd number: 15\n",
      "Here is an odd number: 17\n",
      "Here is an odd number: 19\n",
      "Here is an odd number: 21\n",
      "Here is an odd number: 23\n",
      "Here is an odd number: 25\n",
      "Here is an odd number: 27\n",
      "Here is an odd number: 29\n",
      "Here is an odd number: 31\n",
      "Here is an odd number: 35\n",
      "Here is an odd number: 37\n",
      "Here is an odd number: 39\n",
      "Here is an odd number: 41\n",
      "Here is an odd number: 43\n",
      "Here is an odd number: 45\n",
      "Here is an odd number: 47\n",
      "Here is an odd number: 49\n"
     ]
    }
   ],
   "source": [
    "# Prompt the user for an odd number between 1 and 50. \n",
    "#Use a loop and a break statement to continue prompting the user if they enter invalid input. \n",
    "\n",
    "#(Hint: use the isdigit method on strings to determine this). \n",
    "#Use a loop and the continue statement to output all the odd numbers between 1 and 50, \n",
    "#except for the number the user entered.\n",
    "    \n",
    "n= 1\n",
    "\n",
    "user_input = input('Choose an odd number to skip: ')\n",
    "n= int(user_input)\n",
    "\n",
    "\n",
    "# while this is true (might be mmultiple conditions):\n",
    "# keep prompting for input\n",
    "\n",
    "while (n>50) or (n < 1) or (n % 2 == 0):\n",
    "    print('Invalid input')\n",
    "    user_input = input('Try again: ')\n",
    "\n",
    "i=1\n",
    "for i in range(1,50):\n",
    "    if i % 2!=0 and n != i:\n",
    "        print(\"Here is an odd number:\", i)\n",
    "        i=i+2\n",
    "    \n",
    "\n",
    "\n",
    "#     if n % 2 == 0:\n",
    "#         print(input('Try again: '))\n",
    "        \n",
    "#     else:\n",
    "#         print(\"Here is an odd number: \", )\n",
    "#     n+=1"
   ]
  },
  {
   "cell_type": "code",
   "execution_count": 26,
   "id": "8d0406a5",
   "metadata": {},
   "outputs": [
    {
     "name": "stdout",
     "output_type": "stream",
     "text": [
      "Please enter an odd number between 1 and 50: 25\n",
      "Number to skip is: 25\n",
      "Here is an odd number 1\n",
      "Here is an odd number 3\n",
      "Here is an odd number 5\n",
      "Here is an odd number 7\n",
      "Here is an odd number 9\n",
      "Here is an odd number 11\n",
      "Here is an odd number 13\n",
      "Here is an odd number 15\n",
      "Here is an odd number 17\n",
      "Here is an odd number 19\n",
      "Here is an odd number 21\n",
      "Here is an odd number 23\n",
      "Yikes! Skip this number. 25\n",
      "Here is an odd number 27\n",
      "Here is an odd number 29\n",
      "Here is an odd number 31\n",
      "Here is an odd number 33\n",
      "Here is an odd number 35\n",
      "Here is an odd number 37\n",
      "Here is an odd number 39\n",
      "Here is an odd number 41\n",
      "Here is an odd number 43\n",
      "Here is an odd number 45\n",
      "Here is an odd number 47\n",
      "Here is an odd number 49\n"
     ]
    }
   ],
   "source": [
    "###class example:\n",
    "\n",
    "num = input('Please enter an odd number between 1 and 50: ')\n",
    "\n",
    "while True:\n",
    "    if (num.isdigit() == False or int(num)> 50 or int(num) <1 or int(num)% 2==0):\n",
    "        print('Invalid input')\n",
    "        num = input('Please enter an odd number between 1 and 50: ')\n",
    "    else:\n",
    "        break\n",
    "\n",
    "#convert input string to an integer\n",
    "num = int(num)\n",
    "\n",
    "#print all odd number while skipping user number\n",
    "print(\"Number to skip is:\", num)\n",
    "\n",
    "for i in range(1,50):\n",
    "    if i % 2 == 0:\n",
    "        continue\n",
    "    elif i == num:\n",
    "        print('Yikes! Skip this number.', i)\n",
    "    else:\n",
    "        print('Here is an odd number', i)\n",
    "        \n",
    "        \n",
    "\n"
   ]
  },
  {
   "cell_type": "code",
   "execution_count": null,
   "id": "10ee5864",
   "metadata": {},
   "outputs": [],
   "source": [
    "#The input function can be used to prompt for input and use that input in your python code. \n",
    "#Prompt the user to enter a positive number and write a loop that counts from 0 to that number. \n",
    "#(Hints: first make sure that the value the user entered is a valid number, \n",
    "##also note that the input function returns a string, so you'll need to convert this to a numeric type.)"
   ]
  },
  {
   "cell_type": "code",
   "execution_count": 28,
   "id": "532b16e0",
   "metadata": {},
   "outputs": [
    {
     "name": "stdout",
     "output_type": "stream",
     "text": [
      "Choose a positive number: 4\n",
      "0\n",
      "1\n",
      "2\n",
      "3\n",
      "4\n"
     ]
    }
   ],
   "source": [
    "i = 1\n",
    "user_input = int(input(\"Choose a positive number: \"))\n",
    "n = user_input\n",
    "while True:\n",
    "    for i in range (0, user_input):\n",
    "        print(i)\n",
    "    i = i + 1\n",
    "    if i == i:\n",
    "        print(user_input)\n",
    "        break"
   ]
  },
  {
   "cell_type": "code",
   "execution_count": null,
   "id": "d7c0239e",
   "metadata": {},
   "outputs": [],
   "source": []
  },
  {
   "cell_type": "code",
   "execution_count": null,
   "id": "4a17f70e",
   "metadata": {},
   "outputs": [],
   "source": [
    "#Write a program that prompts the user for a positive integer. \n",
    "#Next write a loop that prints out the numbers from the number the user entered down to 1.\n"
   ]
  },
  {
   "cell_type": "code",
   "execution_count": null,
   "id": "206af9dd",
   "metadata": {},
   "outputs": [],
   "source": [
    "i = 1\n",
    "user_input = int(input(\"Choose a positive number: \"))\n",
    "n = user_input\n",
    "while True:\n",
    "    print(user_input)\n",
    "    for i in reversed(range(0, user_input)):\n",
    "        print(i)\n",
    "    i = i - 1\n",
    "    if i == i:\n",
    "        break"
   ]
  },
  {
   "cell_type": "code",
   "execution_count": null,
   "id": "6854af55",
   "metadata": {},
   "outputs": [],
   "source": [
    "#class example:\n",
    "#remember that you can use list(range(10,0,-1))\n",
    "#where it is: (begin from number, ending number, count by)"
   ]
  },
  {
   "cell_type": "code",
   "execution_count": 31,
   "id": "a5e4b187",
   "metadata": {},
   "outputs": [
    {
     "name": "stdout",
     "output_type": "stream",
     "text": [
      "1\n",
      "2\n",
      "3\n",
      "4\n",
      "5\n",
      "6\n",
      "7\n",
      "8\n",
      "9\n",
      "10\n",
      "11\n",
      "12\n",
      "13\n",
      "14\n",
      "15\n",
      "16\n",
      "17\n",
      "18\n",
      "19\n",
      "20\n",
      "21\n",
      "22\n",
      "23\n",
      "24\n",
      "25\n",
      "26\n",
      "27\n",
      "28\n",
      "29\n",
      "30\n",
      "31\n",
      "32\n",
      "33\n",
      "34\n",
      "35\n",
      "36\n",
      "37\n",
      "38\n",
      "39\n",
      "40\n",
      "41\n",
      "42\n",
      "43\n",
      "44\n",
      "45\n",
      "46\n",
      "47\n",
      "48\n",
      "49\n",
      "50\n",
      "51\n",
      "52\n",
      "53\n",
      "54\n",
      "55\n",
      "56\n",
      "57\n",
      "58\n",
      "59\n",
      "60\n",
      "61\n",
      "62\n",
      "63\n",
      "64\n",
      "65\n",
      "66\n",
      "67\n",
      "68\n",
      "69\n",
      "70\n",
      "71\n",
      "72\n",
      "73\n",
      "74\n",
      "75\n",
      "76\n",
      "77\n",
      "78\n",
      "79\n",
      "80\n",
      "81\n",
      "82\n",
      "83\n",
      "84\n",
      "85\n",
      "86\n",
      "87\n",
      "88\n",
      "89\n",
      "90\n",
      "91\n",
      "92\n",
      "93\n",
      "94\n",
      "95\n",
      "96\n",
      "97\n",
      "98\n",
      "99\n",
      "100\n"
     ]
    }
   ],
   "source": [
    "#3) FIZZBUZZ::::\n",
    "#Write a program that prints the numbers from 1 to 100.\n",
    "i = 1\n",
    "for i in range(1,101):\n",
    "    print(i)\n",
    "    i=i+1"
   ]
  },
  {
   "cell_type": "code",
   "execution_count": 32,
   "id": "1576d6d4",
   "metadata": {},
   "outputs": [
    {
     "name": "stdout",
     "output_type": "stream",
     "text": [
      "fizz\n",
      "1\n",
      "2\n",
      "fizz\n",
      "4\n",
      "5\n",
      "fizz\n",
      "7\n",
      "8\n",
      "fizz\n",
      "10\n",
      "11\n",
      "fizz\n",
      "13\n",
      "14\n",
      "fizz\n",
      "16\n",
      "17\n",
      "fizz\n",
      "19\n",
      "20\n",
      "fizz\n",
      "22\n",
      "23\n",
      "fizz\n",
      "25\n",
      "26\n",
      "fizz\n",
      "28\n",
      "29\n",
      "fizz\n",
      "31\n",
      "32\n",
      "fizz\n",
      "34\n",
      "35\n",
      "fizz\n",
      "37\n",
      "38\n",
      "fizz\n",
      "40\n",
      "41\n",
      "fizz\n",
      "43\n",
      "44\n",
      "fizz\n",
      "46\n",
      "47\n",
      "fizz\n",
      "49\n"
     ]
    }
   ],
   "source": [
    "##For multiples of three print \"Fizz\" instead of the number\n",
    "i = 1 \n",
    "for i in range(50):\n",
    "    if i % 3 ==0:\n",
    "        print('fizz')\n",
    "    else:\n",
    "        print(i)\n",
    "        i=i+1"
   ]
  },
  {
   "cell_type": "code",
   "execution_count": 33,
   "id": "95df9ef3",
   "metadata": {},
   "outputs": [
    {
     "name": "stdout",
     "output_type": "stream",
     "text": [
      "Buzz\n",
      "1\n",
      "2\n",
      "3\n",
      "4\n",
      "Buzz\n",
      "6\n",
      "7\n",
      "8\n",
      "9\n",
      "Buzz\n",
      "11\n",
      "12\n",
      "13\n",
      "14\n",
      "Buzz\n",
      "16\n",
      "17\n",
      "18\n",
      "19\n",
      "Buzz\n",
      "21\n",
      "22\n",
      "23\n",
      "24\n",
      "Buzz\n",
      "26\n",
      "27\n",
      "28\n",
      "29\n",
      "Buzz\n",
      "31\n",
      "32\n",
      "33\n",
      "34\n",
      "Buzz\n",
      "36\n",
      "37\n",
      "38\n",
      "39\n",
      "Buzz\n",
      "41\n",
      "42\n",
      "43\n",
      "44\n",
      "Buzz\n",
      "46\n",
      "47\n",
      "48\n",
      "49\n",
      "Buzz\n"
     ]
    }
   ],
   "source": [
    "#For the multiples of five print \"Buzz\".\n",
    "i = 1 \n",
    "for i in range(1, 101):\n",
    "    if i % 5 ==0:\n",
    "        print('Buzz')\n",
    "    else:\n",
    "        print(i)\n",
    "        i=i+1"
   ]
  },
  {
   "cell_type": "code",
   "execution_count": 34,
   "id": "4356683a",
   "metadata": {},
   "outputs": [
    {
     "name": "stdout",
     "output_type": "stream",
     "text": [
      "FizzBuzz\n",
      "1\n",
      "2\n",
      "3\n",
      "4\n",
      "5\n",
      "6\n",
      "7\n",
      "8\n",
      "9\n",
      "10\n",
      "11\n",
      "12\n",
      "13\n",
      "14\n",
      "FizzBuzz\n",
      "16\n",
      "17\n",
      "18\n",
      "19\n",
      "20\n",
      "21\n",
      "22\n",
      "23\n",
      "24\n",
      "25\n",
      "26\n",
      "27\n",
      "28\n",
      "29\n",
      "FizzBuzz\n",
      "31\n",
      "32\n",
      "33\n",
      "34\n",
      "35\n",
      "36\n",
      "37\n",
      "38\n",
      "39\n",
      "40\n",
      "41\n",
      "42\n",
      "43\n",
      "44\n",
      "FizzBuzz\n",
      "46\n",
      "47\n",
      "48\n",
      "49\n",
      "50\n"
     ]
    }
   ],
   "source": [
    "#For numbers which are multiples of both three and five print \"FizzBuzz\".\n",
    "i = 1 \n",
    "for i in range(1,101):\n",
    "    if i % 5 ==0 and i % 3 ==0:\n",
    "        print('FizzBuzz')\n",
    "    else:\n",
    "        print(i)\n",
    "        i=i+1\n"
   ]
  },
  {
   "cell_type": "markdown",
   "id": "591974ba",
   "metadata": {},
   "source": [
    "Prompt the user to enter an integer.\n",
    "Display a table of squares and cubes from 1 to the value entered.\n",
    "Ask if the user wants to continue.\n",
    "Assume that the user will enter valid data.\n",
    "Only continue if the user agrees to.\n"
   ]
  },
  {
   "cell_type": "code",
   "execution_count": 24,
   "id": "e6f8b006",
   "metadata": {},
   "outputs": [
    {
     "name": "stdout",
     "output_type": "stream",
     "text": [
      "What number do you want to go up to?  100\n",
      "number\tsquare\tcube\n",
      "0\t0\t0\n",
      "1\t1\t1\n",
      "2\t4\t8\n",
      "3\t9\t27\n",
      "4\t16\t64\n",
      "5\t25\t125\n",
      "6\t36\t216\n",
      "7\t49\t343\n",
      "8\t64\t512\n",
      "9\t81\t729\n",
      "10\t100\t1000\n",
      "11\t121\t1331\n",
      "12\t144\t1728\n",
      "13\t169\t2197\n",
      "14\t196\t2744\n",
      "15\t225\t3375\n",
      "16\t256\t4096\n",
      "17\t289\t4913\n",
      "18\t324\t5832\n",
      "19\t361\t6859\n",
      "20\t400\t8000\n",
      "21\t441\t9261\n",
      "22\t484\t10648\n",
      "23\t529\t12167\n",
      "24\t576\t13824\n",
      "25\t625\t15625\n",
      "26\t676\t17576\n",
      "27\t729\t19683\n",
      "28\t784\t21952\n",
      "29\t841\t24389\n",
      "30\t900\t27000\n",
      "31\t961\t29791\n",
      "32\t1024\t32768\n",
      "33\t1089\t35937\n",
      "34\t1156\t39304\n",
      "35\t1225\t42875\n",
      "36\t1296\t46656\n",
      "37\t1369\t50653\n",
      "38\t1444\t54872\n",
      "39\t1521\t59319\n",
      "40\t1600\t64000\n",
      "41\t1681\t68921\n",
      "42\t1764\t74088\n",
      "43\t1849\t79507\n",
      "44\t1936\t85184\n",
      "45\t2025\t91125\n",
      "46\t2116\t97336\n",
      "47\t2209\t103823\n",
      "48\t2304\t110592\n",
      "49\t2401\t117649\n",
      "50\t2500\t125000\n",
      "51\t2601\t132651\n",
      "52\t2704\t140608\n",
      "53\t2809\t148877\n",
      "54\t2916\t157464\n",
      "55\t3025\t166375\n",
      "56\t3136\t175616\n",
      "57\t3249\t185193\n",
      "58\t3364\t195112\n",
      "59\t3481\t205379\n",
      "60\t3600\t216000\n",
      "61\t3721\t226981\n",
      "62\t3844\t238328\n",
      "63\t3969\t250047\n",
      "64\t4096\t262144\n",
      "65\t4225\t274625\n",
      "66\t4356\t287496\n",
      "67\t4489\t300763\n",
      "68\t4624\t314432\n",
      "69\t4761\t328509\n",
      "70\t4900\t343000\n",
      "71\t5041\t357911\n",
      "72\t5184\t373248\n",
      "73\t5329\t389017\n",
      "74\t5476\t405224\n",
      "75\t5625\t421875\n",
      "76\t5776\t438976\n",
      "77\t5929\t456533\n",
      "78\t6084\t474552\n",
      "79\t6241\t493039\n",
      "80\t6400\t512000\n",
      "81\t6561\t531441\n",
      "82\t6724\t551368\n",
      "83\t6889\t571787\n",
      "84\t7056\t592704\n",
      "85\t7225\t614125\n",
      "86\t7396\t636056\n",
      "87\t7569\t658503\n",
      "88\t7744\t681472\n",
      "89\t7921\t704969\n",
      "90\t8100\t729000\n",
      "91\t8281\t753571\n",
      "92\t8464\t778688\n",
      "93\t8649\t804357\n",
      "94\t8836\t830584\n",
      "95\t9025\t857375\n",
      "96\t9216\t884736\n",
      "97\t9409\t912673\n",
      "98\t9604\t941192\n",
      "99\t9801\t970299\n",
      "100\t10000\t1000000\n"
     ]
    }
   ],
   "source": [
    "number = 0\n",
    "square = 0\n",
    "cube = 0\n",
    "\n",
    "user_input=int(input(\"What number do you want to go up to?  \"))\n",
    "# print the header\n",
    "print('number\\tsquare\\tcube')\n",
    "# \\t creates the spacing between titles\n",
    "\n",
    "for number in range(0, user_input +1):\n",
    "    square = number * number\n",
    "    cube = number * number * number\n",
    "    \n",
    "    # print the rows using f-strings\n",
    "    print(f'{number}\\t{square}\\t{cube}')\n",
    "    \n",
    "    if number == user_input:\n",
    "        break"
   ]
  },
  {
   "cell_type": "code",
   "execution_count": 40,
   "id": "3398e158",
   "metadata": {},
   "outputs": [
    {
     "name": "stdout",
     "output_type": "stream",
     "text": [
      "Please enter your grade:  44\n",
      "You got a F\n",
      "Would you like enter a new grade? Yes/No: no\n"
     ]
    }
   ],
   "source": [
    "#Convert given number grades into letter grades.\n",
    "#Prompt the user for a numerical grade from 0 to 100.\n",
    "#Display the corresponding letter grade.\n",
    "#Prompt the user to continue.\n",
    "#Assume that the user will enter valid integers for the grades.\n",
    "#The application should only continue if the user agrees to.\n",
    "#A : 100 - 88\n",
    "#B : 87 - 80\n",
    "#C : 79 - 67\n",
    "#D : 66 - 60\n",
    "#F : 59 - 0\n",
    "\n",
    "#Set the loop to measurable terms.\n",
    "##name that while loop, girl!\n",
    "grade_run_loop = True\n",
    "while grade_run_loop:\n",
    "    #name the input and write what is wanted\n",
    "    user_input= int(input(\"Please enter your grade:  \"))\n",
    "    #create the conditions\n",
    "    \n",
    "    if user_input>87 and user_input<101:\n",
    "        print('You got an A')\n",
    "\n",
    "    elif user_input>79 and user_input<88:\n",
    "        print('You got a B')\n",
    "\n",
    "    elif user_input>66 and user_input<80:\n",
    "        print('You got a C')\n",
    "\n",
    "    elif user_input>59 and user_input<67:\n",
    "        print('You got a D')\n",
    "\n",
    "    else:\n",
    "        print('You got a F') \n",
    "#call a new input, asking user consent to continue\n",
    "\n",
    "    continue_input= input(\"Would you like enter a new grade? Yes/No: \")\n",
    "    grade_run_loop= continue_input == 'yes' or continue_input =='Yes'\n",
    "    \n",
    "#anything other than \"yes\" will end\n",
    "\n"
   ]
  },
  {
   "cell_type": "code",
   "execution_count": 53,
   "id": "8d90ebe1",
   "metadata": {},
   "outputs": [
    {
     "name": "stdout",
     "output_type": "stream",
     "text": [
      "Title: Ruby\n",
      "Author: Cynthia Bond\n",
      "Genre: Fiction\n",
      "\n",
      "\n",
      "Title: Harry Potter\n",
      "Author: J.K. Rowling\n",
      "Genre: Fantasy\n",
      "\n",
      "\n",
      "Title: My Grandmothers Hands\n",
      "Author: Resmaa Menakem\n",
      "Genre: Non-Fiction\n",
      "\n",
      "\n"
     ]
    }
   ],
   "source": [
    "#Create a list of dictionaries where each dictionary represents a book that you have read. \n",
    "#Each dictionary in the list should have the keys title, author, and genre. \n",
    "#Loop through the list and print out information about each book.\n",
    "\n",
    "books = [\n",
    "    {\n",
    "    'Title': 'Ruby', 'Author': 'Cynthia Bond', 'Genre': 'Fiction'},\n",
    "    \n",
    "    {'Title': 'Harry Potter', 'Author': 'J.K. Rowling', 'Genre': 'Fantasy'},\n",
    "    \n",
    "    {'Title': 'My Grandmothers Hands', 'Author': 'Resmaa Menakem', 'Genre': 'Non-Fiction'}]\n",
    "            \n",
    "for book in books:\n",
    "    print(\"Title:\",book['Title'])\n",
    "    print(\"Author:\",book['Author'])\n",
    "    print(\"Genre:\",book['Genre'])\n",
    "    print('\\n')"
   ]
  },
  {
   "cell_type": "code",
   "execution_count": 54,
   "id": "177d399e",
   "metadata": {},
   "outputs": [
    {
     "name": "stdout",
     "output_type": "stream",
     "text": [
      "Please enter a genre: Fiction\n",
      "Ruby\n"
     ]
    }
   ],
   "source": [
    "user_input= input('Please enter a genre: ')\n",
    "\n",
    "for book in books:\n",
    "    if user_input == book['Genre']:\n",
    "        print(book['Title'])"
   ]
  },
  {
   "cell_type": "code",
   "execution_count": null,
   "id": "269f9af5",
   "metadata": {},
   "outputs": [],
   "source": []
  }
 ],
 "metadata": {
  "kernelspec": {
   "display_name": "Python 3 (ipykernel)",
   "language": "python",
   "name": "python3"
  },
  "language_info": {
   "codemirror_mode": {
    "name": "ipython",
    "version": 3
   },
   "file_extension": ".py",
   "mimetype": "text/x-python",
   "name": "python",
   "nbconvert_exporter": "python",
   "pygments_lexer": "ipython3",
   "version": "3.9.7"
  }
 },
 "nbformat": 4,
 "nbformat_minor": 5
}
