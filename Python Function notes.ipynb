{
 "cells": [
  {
   "cell_type": "markdown",
   "id": "63b943f5",
   "metadata": {},
   "source": [
    "Python Functions\n",
    "\n",
    "#writing out functions hold some main elements:\n",
    "-to begin a function, use 'def'\n",
    "-name the function\n",
    "and always end with 'return'\n",
    "(whatever follows return statement will be the output of the function defined."
   ]
  },
  {
   "cell_type": "code",
   "execution_count": 3,
   "id": "b5591516",
   "metadata": {},
   "outputs": [],
   "source": [
    "def increment(n):\n",
    "    return n + 1"
   ]
  },
  {
   "cell_type": "code",
   "execution_count": 4,
   "id": "2c2aa98e",
   "metadata": {},
   "outputs": [
    {
     "name": "stdout",
     "output_type": "stream",
     "text": [
      "4\n"
     ]
    }
   ],
   "source": [
    "four = increment(3)\n",
    "\n",
    "print(four)"
   ]
  },
  {
   "cell_type": "code",
   "execution_count": 5,
   "id": "40afffaa",
   "metadata": {},
   "outputs": [
    {
     "name": "stdout",
     "output_type": "stream",
     "text": [
      "6\n"
     ]
    }
   ],
   "source": [
    "six = increment(increment(increment(3)))\n",
    "\n",
    "print(six)"
   ]
  },
  {
   "cell_type": "code",
   "execution_count": 6,
   "id": "7b00cf68",
   "metadata": {},
   "outputs": [],
   "source": [
    "#we could continue stacking functions, if wanted."
   ]
  },
  {
   "cell_type": "markdown",
   "id": "5b9347f0",
   "metadata": {},
   "source": [
    "The first line is evaluated \"inside-out\", that is:\n",
    "\n",
    "-The increment function is called with the integer literal 3\n",
    "-The output of the first call to the increment() function is passed as an argument again to the increment() function. -At this point, we are calling increment() with 4\n",
    "-The output from the previous step is again passed in to the increment() function.\n",
    "-Finally, the output from the last call to the increment() function is assigned to the variable six\n",
    "\n",
    "We can imagine the code executing like this:"
   ]
  },
  {
   "cell_type": "code",
   "execution_count": 8,
   "id": "116856e9",
   "metadata": {},
   "outputs": [
    {
     "data": {
      "text/plain": [
       "True"
      ]
     },
     "execution_count": 8,
     "metadata": {},
     "output_type": "execute_result"
    }
   ],
   "source": [
    "six = increment(increment(increment(3)))\n",
    "six = increment(increment(4))\n",
    "six = increment(5)\n",
    "six == 6"
   ]
  },
  {
   "cell_type": "code",
   "execution_count": 11,
   "id": "807687cd",
   "metadata": {},
   "outputs": [],
   "source": [
    "def bad_increment(n):\n",
    "    n + 1"
   ]
  },
  {
   "cell_type": "code",
   "execution_count": 10,
   "id": "704b7bc9",
   "metadata": {},
   "outputs": [
    {
     "data": {
      "text/plain": [
       "4"
      ]
     },
     "execution_count": 10,
     "metadata": {},
     "output_type": "execute_result"
    }
   ],
   "source": [
    "def increment(n):\n",
    "    return n + 1\n",
    "    print('You will never see this.')\n",
    "    return n + 1\n",
    "\n",
    "increment(3)"
   ]
  },
  {
   "cell_type": "code",
   "execution_count": null,
   "id": "ad0e9859",
   "metadata": {},
   "outputs": [],
   "source": []
  }
 ],
 "metadata": {
  "kernelspec": {
   "display_name": "Python 3 (ipykernel)",
   "language": "python",
   "name": "python3"
  },
  "language_info": {
   "codemirror_mode": {
    "name": "ipython",
    "version": 3
   },
   "file_extension": ".py",
   "mimetype": "text/x-python",
   "name": "python",
   "nbconvert_exporter": "python",
   "pygments_lexer": "ipython3",
   "version": "3.9.7"
  }
 },
 "nbformat": 4,
 "nbformat_minor": 5
}
