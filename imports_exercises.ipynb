{
 "cells": [
  {
   "cell_type": "markdown",
   "id": "5710edcd",
   "metadata": {},
   "source": [
    "### 1) Import and test 3 of the functions from your functions exercise file. Import each function in a different way:"
   ]
  },
  {
   "cell_type": "markdown",
   "id": "96f72e2f",
   "metadata": {},
   "source": [
    "### a) Run an interactive python session and import the module. Call the is_vowel function using the . syntax."
   ]
  },
  {
   "cell_type": "code",
   "execution_count": null,
   "id": "bfdfadd6",
   "metadata": {},
   "outputs": [],
   "source": [
    "from function_exercises import get_letter_grade"
   ]
  },
  {
   "cell_type": "markdown",
   "id": "d052a286",
   "metadata": {},
   "source": [
    "### 2) Read about and use the itertools module from the python standard library to help you solve the following problems:"
   ]
  },
  {
   "cell_type": "markdown",
   "id": "ffaa9f9e",
   "metadata": {},
   "source": [
    "#### a) How many different ways can you combine the letters from \"abc\" with the numbers 1, 2, and 3?"
   ]
  },
  {
   "cell_type": "code",
   "execution_count": null,
   "id": "3cafb639",
   "metadata": {},
   "outputs": [],
   "source": [
    "import itertools"
   ]
  },
  {
   "cell_type": "code",
   "execution_count": null,
   "id": "d3337e85",
   "metadata": {},
   "outputs": [],
   "source": [
    "from itertools import combinations as combo"
   ]
  },
  {
   "cell_type": "code",
   "execution_count": null,
   "id": "28c7a22b",
   "metadata": {},
   "outputs": [],
   "source": [
    "###a random example to look at combinations with dictionaries...\n",
    "def combine(dict, i): \n",
    "    return list(combo(dict,i))\n",
    "dictA = {\n",
    "    1: 'a',\n",
    "    2: 'b',\n",
    "    3: 'c',\n",
    "} \n",
    "set = 2\n",
    "print(combine(dictA.values(), set))\n",
    "print(combine(dictA, set))\n",
    "\n"
   ]
  },
  {
   "cell_type": "code",
   "execution_count": 4,
   "id": "5e902f0a",
   "metadata": {},
   "outputs": [],
   "source": [
    "from itertools import product as pd"
   ]
  },
  {
   "cell_type": "code",
   "execution_count": 5,
   "id": "501c5e46",
   "metadata": {},
   "outputs": [
    {
     "data": {
      "text/plain": [
       "<itertools.product at 0x7fbb413b0340>"
      ]
     },
     "execution_count": 5,
     "metadata": {},
     "output_type": "execute_result"
    }
   ],
   "source": [
    "pd(['a','b','c'],[1,2,3])"
   ]
  },
  {
   "cell_type": "code",
   "execution_count": 6,
   "id": "eb898dce",
   "metadata": {},
   "outputs": [
    {
     "data": {
      "text/plain": [
       "[('a', 1),\n",
       " ('a', 2),\n",
       " ('a', 3),\n",
       " ('b', 1),\n",
       " ('b', 2),\n",
       " ('b', 3),\n",
       " ('c', 1),\n",
       " ('c', 2),\n",
       " ('c', 3)]"
      ]
     },
     "execution_count": 6,
     "metadata": {},
     "output_type": "execute_result"
    }
   ],
   "source": [
    "list(pd(['a','b','c'],[1,2,3]))"
   ]
  },
  {
   "cell_type": "code",
   "execution_count": 17,
   "id": "6ffa9b34",
   "metadata": {},
   "outputs": [
    {
     "data": {
      "text/plain": [
       "9"
      ]
     },
     "execution_count": 17,
     "metadata": {},
     "output_type": "execute_result"
    }
   ],
   "source": [
    "len(list(pd(['a','b','c'],[1,2,3])))"
   ]
  },
  {
   "cell_type": "markdown",
   "id": "a9ecfcbc",
   "metadata": {},
   "source": [
    "### How many different combinations are there of 2 letters from \"abcd\"?"
   ]
  },
  {
   "cell_type": "code",
   "execution_count": 7,
   "id": "0c3139ef",
   "metadata": {},
   "outputs": [],
   "source": [
    "from itertools import combinations as combo"
   ]
  },
  {
   "cell_type": "code",
   "execution_count": 8,
   "id": "15ae70cc",
   "metadata": {},
   "outputs": [
    {
     "data": {
      "text/plain": [
       "<itertools.combinations at 0x7fbb412f4d10>"
      ]
     },
     "execution_count": 8,
     "metadata": {},
     "output_type": "execute_result"
    }
   ],
   "source": [
    "combo('ABCD',2)"
   ]
  },
  {
   "cell_type": "code",
   "execution_count": 9,
   "id": "f7457e39",
   "metadata": {},
   "outputs": [
    {
     "data": {
      "text/plain": [
       "[('A', 'B'), ('A', 'C'), ('A', 'D'), ('B', 'C'), ('B', 'D'), ('C', 'D')]"
      ]
     },
     "execution_count": 9,
     "metadata": {},
     "output_type": "execute_result"
    }
   ],
   "source": [
    "list(combo('ABCD',2))"
   ]
  },
  {
   "cell_type": "markdown",
   "id": "5a07e37b",
   "metadata": {},
   "source": [
    "### How many different permutations are there of 2 letters from \"abcd\"?"
   ]
  },
  {
   "cell_type": "code",
   "execution_count": 10,
   "id": "83e9bde4",
   "metadata": {},
   "outputs": [],
   "source": [
    "from itertools import permutations as perm"
   ]
  },
  {
   "cell_type": "code",
   "execution_count": 11,
   "id": "1e097941",
   "metadata": {},
   "outputs": [
    {
     "data": {
      "text/plain": [
       "<itertools.permutations at 0x7fbb4138a270>"
      ]
     },
     "execution_count": 11,
     "metadata": {},
     "output_type": "execute_result"
    }
   ],
   "source": [
    "perm('abcd',)"
   ]
  },
  {
   "cell_type": "code",
   "execution_count": 12,
   "id": "7c0c4a29",
   "metadata": {},
   "outputs": [
    {
     "data": {
      "text/plain": [
       "[('a', 'b', 'c', 'd'),\n",
       " ('a', 'b', 'd', 'c'),\n",
       " ('a', 'c', 'b', 'd'),\n",
       " ('a', 'c', 'd', 'b'),\n",
       " ('a', 'd', 'b', 'c'),\n",
       " ('a', 'd', 'c', 'b'),\n",
       " ('b', 'a', 'c', 'd'),\n",
       " ('b', 'a', 'd', 'c'),\n",
       " ('b', 'c', 'a', 'd'),\n",
       " ('b', 'c', 'd', 'a'),\n",
       " ('b', 'd', 'a', 'c'),\n",
       " ('b', 'd', 'c', 'a'),\n",
       " ('c', 'a', 'b', 'd'),\n",
       " ('c', 'a', 'd', 'b'),\n",
       " ('c', 'b', 'a', 'd'),\n",
       " ('c', 'b', 'd', 'a'),\n",
       " ('c', 'd', 'a', 'b'),\n",
       " ('c', 'd', 'b', 'a'),\n",
       " ('d', 'a', 'b', 'c'),\n",
       " ('d', 'a', 'c', 'b'),\n",
       " ('d', 'b', 'a', 'c'),\n",
       " ('d', 'b', 'c', 'a'),\n",
       " ('d', 'c', 'a', 'b'),\n",
       " ('d', 'c', 'b', 'a')]"
      ]
     },
     "execution_count": 12,
     "metadata": {},
     "output_type": "execute_result"
    }
   ],
   "source": [
    "list(perm('abcd'))"
   ]
  },
  {
   "cell_type": "markdown",
   "id": "531e54a6",
   "metadata": {},
   "source": [
    "### Save this file as profiles.json inside of your exercises directory (right click -> save file as...).\n"
   ]
  },
  {
   "cell_type": "markdown",
   "id": "1fb17802",
   "metadata": {},
   "source": [
    "#### Your code should produce a list of dictionaries. Using this data, write some code that calculates and outputs the following information:"
   ]
  },
  {
   "cell_type": "code",
   "execution_count": 13,
   "id": "5670e9a5",
   "metadata": {},
   "outputs": [],
   "source": [
    "#to open a dictionary that is using a json file....\n",
    "import json\n",
    "\n",
    "#use a \"with open\" statement, or the whole file/dictionary will pull up in VScode. Rename for ease (my_file)\n",
    "with open('profiles.json') as my_file:\n",
    "    #then name the json file so as to use in queries\n",
    "    user_profiles = json.load(my_file)"
   ]
  },
  {
   "cell_type": "code",
   "execution_count": 14,
   "id": "ac8e4ace",
   "metadata": {},
   "outputs": [
    {
     "ename": "NameError",
     "evalue": "name 'user_' is not defined",
     "output_type": "error",
     "traceback": [
      "\u001b[0;31m---------------------------------------------------------------------------\u001b[0m",
      "\u001b[0;31mNameError\u001b[0m                                 Traceback (most recent call last)",
      "\u001b[0;32m/var/folders/d3/11nygz6126ndxvtrp12687680000gn/T/ipykernel_7498/49487438.py\u001b[0m in \u001b[0;36m<module>\u001b[0;34m\u001b[0m\n\u001b[1;32m      1\u001b[0m \u001b[0;31m###just making sure it is a list type to work with...\u001b[0m\u001b[0;34m\u001b[0m\u001b[0;34m\u001b[0m\u001b[0m\n\u001b[1;32m      2\u001b[0m \u001b[0;34m\u001b[0m\u001b[0m\n\u001b[0;32m----> 3\u001b[0;31m \u001b[0mtype\u001b[0m\u001b[0;34m(\u001b[0m\u001b[0muser_\u001b[0m\u001b[0;34m)\u001b[0m\u001b[0;34m\u001b[0m\u001b[0;34m\u001b[0m\u001b[0m\n\u001b[0m",
      "\u001b[0;31mNameError\u001b[0m: name 'user_' is not defined"
     ]
    }
   ],
   "source": [
    "###just making sure it is a list type to work with...\n",
    "\n",
    "type(user_)"
   ]
  },
  {
   "cell_type": "markdown",
   "id": "66090131",
   "metadata": {},
   "source": [
    "#### 1)Total number of users"
   ]
  },
  {
   "cell_type": "code",
   "execution_count": null,
   "id": "e85320f5",
   "metadata": {},
   "outputs": [],
   "source": [
    "len(user_profiles)"
   ]
  },
  {
   "cell_type": "code",
   "execution_count": null,
   "id": "4810c01b",
   "metadata": {},
   "outputs": [],
   "source": []
  }
 ],
 "metadata": {
  "kernelspec": {
   "display_name": "Python 3 (ipykernel)",
   "language": "python",
   "name": "python3"
  },
  "language_info": {
   "codemirror_mode": {
    "name": "ipython",
    "version": 3
   },
   "file_extension": ".py",
   "mimetype": "text/x-python",
   "name": "python",
   "nbconvert_exporter": "python",
   "pygments_lexer": "ipython3",
   "version": "3.9.7"
  }
 },
 "nbformat": 4,
 "nbformat_minor": 5
}
