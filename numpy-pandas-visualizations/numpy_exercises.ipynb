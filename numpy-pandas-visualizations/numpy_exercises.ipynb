{
 "cells": [
  {
   "cell_type": "markdown",
   "id": "e50d11a5",
   "metadata": {},
   "source": [
    "### Use the following code for the questions below:"
   ]
  },
  {
   "cell_type": "code",
   "execution_count": 1,
   "id": "c15cbde7",
   "metadata": {},
   "outputs": [],
   "source": [
    "# a = np.array([4,10,12,23,-2,-1,0,0,0,-6,3,-7])"
   ]
  },
  {
   "cell_type": "markdown",
   "id": "0a3f68a5",
   "metadata": {},
   "source": [
    "### 1) How many negative numbers are there?"
   ]
  },
  {
   "cell_type": "code",
   "execution_count": 2,
   "id": "cf7b23c1",
   "metadata": {},
   "outputs": [
    {
     "data": {
      "text/plain": [
       "4"
      ]
     },
     "execution_count": 2,
     "metadata": {},
     "output_type": "execute_result"
    }
   ],
   "source": [
    "import numpy as np\n",
    "\n",
    "a = np.array([4,10,12,23,-2,-1,0,0,0,-6,3,-7])\n",
    "\n",
    "np.sum(np.array(a)< 0)"
   ]
  },
  {
   "cell_type": "code",
   "execution_count": 3,
   "id": "dfa7a232",
   "metadata": {},
   "outputs": [
    {
     "data": {
      "text/plain": [
       "5"
      ]
     },
     "execution_count": 3,
     "metadata": {},
     "output_type": "execute_result"
    }
   ],
   "source": [
    "##other way:\n",
    "(len(a[a > 0]))"
   ]
  },
  {
   "cell_type": "code",
   "execution_count": 4,
   "id": "af0dc069",
   "metadata": {},
   "outputs": [
    {
     "data": {
      "text/plain": [
       "4"
      ]
     },
     "execution_count": 4,
     "metadata": {},
     "output_type": "execute_result"
    }
   ],
   "source": [
    "###in class example: .size counts the number of values in an array, regardless of nesting\n",
    "a[a<0].size"
   ]
  },
  {
   "cell_type": "markdown",
   "id": "d75dc682",
   "metadata": {},
   "source": [
    "### 2) How many positive numbers are there?"
   ]
  },
  {
   "cell_type": "code",
   "execution_count": 5,
   "id": "478c8222",
   "metadata": {},
   "outputs": [
    {
     "data": {
      "text/plain": [
       "5"
      ]
     },
     "execution_count": 5,
     "metadata": {},
     "output_type": "execute_result"
    }
   ],
   "source": [
    "np.sum(np.array(a)>0)"
   ]
  },
  {
   "cell_type": "code",
   "execution_count": 6,
   "id": "7d6632ae",
   "metadata": {},
   "outputs": [
    {
     "data": {
      "text/plain": [
       "5"
      ]
     },
     "execution_count": 6,
     "metadata": {},
     "output_type": "execute_result"
    }
   ],
   "source": [
    "### other\n",
    "(len(a[a>0]))"
   ]
  },
  {
   "cell_type": "code",
   "execution_count": 7,
   "id": "fed99a45",
   "metadata": {},
   "outputs": [
    {
     "data": {
      "text/plain": [
       "5"
      ]
     },
     "execution_count": 7,
     "metadata": {},
     "output_type": "execute_result"
    }
   ],
   "source": [
    "##Class example:\n",
    "a[a>0].size"
   ]
  },
  {
   "cell_type": "markdown",
   "id": "cbdefdee",
   "metadata": {},
   "source": [
    "### 3) How many even positive numbers are there?"
   ]
  },
  {
   "cell_type": "code",
   "execution_count": 8,
   "id": "6eb47e2d",
   "metadata": {},
   "outputs": [
    {
     "data": {
      "text/plain": [
       "3"
      ]
     },
     "execution_count": 8,
     "metadata": {},
     "output_type": "execute_result"
    }
   ],
   "source": [
    "(len(a[(a>0) & (a % 2== 0) ]))"
   ]
  },
  {
   "cell_type": "markdown",
   "id": "79b88cf5",
   "metadata": {},
   "source": [
    "### 4) If you were to add 3 to each data point, how many positive numbers would there be?"
   ]
  },
  {
   "cell_type": "code",
   "execution_count": 9,
   "id": "b8e4b7e7",
   "metadata": {},
   "outputs": [
    {
     "data": {
      "text/plain": [
       "12"
      ]
     },
     "execution_count": 9,
     "metadata": {},
     "output_type": "execute_result"
    }
   ],
   "source": [
    "len(a[(a+3) & (a>0)])"
   ]
  },
  {
   "cell_type": "code",
   "execution_count": 10,
   "id": "bfd25c94",
   "metadata": {},
   "outputs": [],
   "source": [
    "a_plus_three= a + 3"
   ]
  },
  {
   "cell_type": "code",
   "execution_count": 11,
   "id": "a5ae708e",
   "metadata": {},
   "outputs": [
    {
     "data": {
      "text/plain": [
       "10"
      ]
     },
     "execution_count": 11,
     "metadata": {},
     "output_type": "execute_result"
    }
   ],
   "source": [
    "np.sum(np.array(a_plus_three)>0)"
   ]
  },
  {
   "cell_type": "code",
   "execution_count": 12,
   "id": "3376320f",
   "metadata": {},
   "outputs": [
    {
     "data": {
      "text/plain": [
       "10"
      ]
     },
     "execution_count": 12,
     "metadata": {},
     "output_type": "execute_result"
    }
   ],
   "source": [
    "len(a[(a +3)>0]) ## There are 10 positive numbers"
   ]
  },
  {
   "cell_type": "code",
   "execution_count": 13,
   "id": "c1773753",
   "metadata": {},
   "outputs": [
    {
     "data": {
      "text/plain": [
       "array([ 7, 13, 15, 26,  1,  2,  3,  3,  3,  6])"
      ]
     },
     "execution_count": 13,
     "metadata": {},
     "output_type": "execute_result"
    }
   ],
   "source": [
    "#_________class example:_______________\n",
    "add_three = a + 3\n",
    "add_three[add_three > 0]"
   ]
  },
  {
   "cell_type": "code",
   "execution_count": 14,
   "id": "a32e8d6a",
   "metadata": {},
   "outputs": [
    {
     "data": {
      "text/plain": [
       "10"
      ]
     },
     "execution_count": 14,
     "metadata": {},
     "output_type": "execute_result"
    }
   ],
   "source": [
    "add_three[add_three > 0].size"
   ]
  },
  {
   "cell_type": "markdown",
   "id": "51854d6a",
   "metadata": {},
   "source": [
    "### 5) If you squared each number, what would the new mean and standard deviation be?"
   ]
  },
  {
   "cell_type": "code",
   "execution_count": 15,
   "id": "34f40409",
   "metadata": {},
   "outputs": [
    {
     "data": {
      "text/plain": [
       "array([ 16, 100, 144, 529,   4,   1,   0,   0,   0,  36,   9,  49])"
      ]
     },
     "execution_count": 15,
     "metadata": {},
     "output_type": "execute_result"
    }
   ],
   "source": [
    "a**2"
   ]
  },
  {
   "cell_type": "code",
   "execution_count": 16,
   "id": "68241216",
   "metadata": {},
   "outputs": [
    {
     "data": {
      "text/plain": [
       "74.0"
      ]
     },
     "execution_count": 16,
     "metadata": {},
     "output_type": "execute_result"
    }
   ],
   "source": [
    "np.mean(a**2) ##new mean is: 74"
   ]
  },
  {
   "cell_type": "code",
   "execution_count": 17,
   "id": "2b0a874e",
   "metadata": {},
   "outputs": [
    {
     "data": {
      "text/plain": [
       "144.0243035046516"
      ]
     },
     "execution_count": 17,
     "metadata": {},
     "output_type": "execute_result"
    }
   ],
   "source": [
    "np.std(a**2) ## new stddev is 144.0243035046516"
   ]
  },
  {
   "cell_type": "markdown",
   "id": "781dd8a6",
   "metadata": {},
   "source": [
    "### 6) Centering to find the new mean. "
   ]
  },
  {
   "cell_type": "code",
   "execution_count": 18,
   "id": "470fba39",
   "metadata": {},
   "outputs": [
    {
     "data": {
      "text/plain": [
       "array([  1.,   7.,   9.,  20.,  -5.,  -4.,  -3.,  -3.,  -3.,  -9.,   0.,\n",
       "       -10.])"
      ]
     },
     "execution_count": 18,
     "metadata": {},
     "output_type": "execute_result"
    }
   ],
   "source": [
    "a-(np.mean(a))"
   ]
  },
  {
   "cell_type": "markdown",
   "id": "18e648bf",
   "metadata": {},
   "source": [
    "#####checking my work......"
   ]
  },
  {
   "cell_type": "code",
   "execution_count": 19,
   "id": "0fbc8b7b",
   "metadata": {},
   "outputs": [
    {
     "data": {
      "text/plain": [
       "3.0"
      ]
     },
     "execution_count": 19,
     "metadata": {},
     "output_type": "execute_result"
    }
   ],
   "source": [
    " np.mean(a) #mean of all data points...will subtract 3 from each point"
   ]
  },
  {
   "cell_type": "code",
   "execution_count": 20,
   "id": "c6f10b0c",
   "metadata": {},
   "outputs": [],
   "source": [
    "centered_array =a-(np.mean(a)) ##renamed to check that new mean is 0"
   ]
  },
  {
   "cell_type": "code",
   "execution_count": 21,
   "id": "15779575",
   "metadata": {},
   "outputs": [
    {
     "name": "stdout",
     "output_type": "stream",
     "text": [
      "[  1.   7.   9.  20.  -5.  -4.  -3.  -3.  -3.  -9.   0. -10.]\n"
     ]
    }
   ],
   "source": [
    "print(centered_array)"
   ]
  },
  {
   "cell_type": "code",
   "execution_count": 22,
   "id": "581f907d",
   "metadata": {},
   "outputs": [
    {
     "data": {
      "text/plain": [
       "0.0"
      ]
     },
     "execution_count": 22,
     "metadata": {},
     "output_type": "execute_result"
    }
   ],
   "source": [
    "np.mean(centered_array) #checked ✅ "
   ]
  },
  {
   "cell_type": "code",
   "execution_count": 23,
   "id": "b059bec4",
   "metadata": {},
   "outputs": [],
   "source": [
    "#___________class example_______________"
   ]
  },
  {
   "cell_type": "code",
   "execution_count": 24,
   "id": "2719a034",
   "metadata": {},
   "outputs": [
    {
     "data": {
      "text/plain": [
       "array([  1.,   7.,   9.,  20.,  -5.,  -4.,  -3.,  -3.,  -3.,  -9.,   0.,\n",
       "       -10.])"
      ]
     },
     "execution_count": 24,
     "metadata": {},
     "output_type": "execute_result"
    }
   ],
   "source": [
    "centered = a - a.mean()\n",
    "centered"
   ]
  },
  {
   "cell_type": "markdown",
   "id": "b537bb85",
   "metadata": {},
   "source": [
    "### 7) Calculate the z-score for each data point. "
   ]
  },
  {
   "cell_type": "code",
   "execution_count": 25,
   "id": "66d457f8",
   "metadata": {},
   "outputs": [
    {
     "data": {
      "text/plain": [
       "array([ 0.12403473,  0.86824314,  1.11631261,  2.48069469, -0.62017367,\n",
       "       -0.49613894, -0.3721042 , -0.3721042 , -0.3721042 , -1.11631261,\n",
       "        0.        , -1.24034735])"
      ]
     },
     "execution_count": 25,
     "metadata": {},
     "output_type": "execute_result"
    }
   ],
   "source": [
    "(a - np.mean(a)) / np.std(a) # taking a for each data point and using the numpy mean and stddev functions"
   ]
  },
  {
   "cell_type": "markdown",
   "id": "868bfe9c",
   "metadata": {},
   "source": [
    "### 8) More Numpy Practice"
   ]
  },
  {
   "cell_type": "markdown",
   "id": "55cc8429",
   "metadata": {},
   "source": [
    "### Set Up 1): "
   ]
  },
  {
   "cell_type": "markdown",
   "id": "50c413bc",
   "metadata": {},
   "source": [
    "#### Use python's built in functionality/operators to determine the following:\n",
    "#### Exercise 1 - Make a variable called sum_of_a to hold the sum of all the numbers in above list"
   ]
  },
  {
   "cell_type": "code",
   "execution_count": 26,
   "id": "d4b7345f",
   "metadata": {},
   "outputs": [],
   "source": [
    "a = [1, 2, 3, 4, 5, 6, 7, 8, 9, 10]"
   ]
  },
  {
   "cell_type": "code",
   "execution_count": 27,
   "id": "db7e1329",
   "metadata": {},
   "outputs": [],
   "source": [
    "sum_of_a = sum(a)"
   ]
  },
  {
   "cell_type": "code",
   "execution_count": 28,
   "id": "07c28aef",
   "metadata": {},
   "outputs": [
    {
     "data": {
      "text/plain": [
       "55"
      ]
     },
     "execution_count": 28,
     "metadata": {},
     "output_type": "execute_result"
    }
   ],
   "source": [
    "sum_of_a #checking...."
   ]
  },
  {
   "cell_type": "markdown",
   "id": "8a682b18",
   "metadata": {},
   "source": [
    "#### Exercise 2 - Make a variable named min_of_a to hold the minimum of all the numbers in the above list"
   ]
  },
  {
   "cell_type": "code",
   "execution_count": 29,
   "id": "3f35ed34",
   "metadata": {},
   "outputs": [],
   "source": [
    "min_of_a = min(a)"
   ]
  },
  {
   "cell_type": "code",
   "execution_count": 30,
   "id": "8d6a66d7",
   "metadata": {},
   "outputs": [
    {
     "data": {
      "text/plain": [
       "1"
      ]
     },
     "execution_count": 30,
     "metadata": {},
     "output_type": "execute_result"
    }
   ],
   "source": [
    "min_of_a ##Checking"
   ]
  },
  {
   "cell_type": "markdown",
   "id": "5a8eb862",
   "metadata": {},
   "source": [
    "#### Exercise 3 - Make a variable named max_of_a to hold the max number of all the numbers in the above list"
   ]
  },
  {
   "cell_type": "code",
   "execution_count": 31,
   "id": "19ea7118",
   "metadata": {},
   "outputs": [],
   "source": [
    "max_of_a = max(a)"
   ]
  },
  {
   "cell_type": "code",
   "execution_count": 32,
   "id": "c6891094",
   "metadata": {},
   "outputs": [
    {
     "data": {
      "text/plain": [
       "10"
      ]
     },
     "execution_count": 32,
     "metadata": {},
     "output_type": "execute_result"
    }
   ],
   "source": [
    "max_of_a ###checking"
   ]
  },
  {
   "cell_type": "markdown",
   "id": "286818c6",
   "metadata": {},
   "source": [
    "#### Exercise 4 - Make a variable named mean_of_a to hold the average of all the numbers in the above list"
   ]
  },
  {
   "cell_type": "code",
   "execution_count": 33,
   "id": "c5bf84be",
   "metadata": {},
   "outputs": [],
   "source": [
    "mean_of_a = sum(a)/ len(a)"
   ]
  },
  {
   "cell_type": "code",
   "execution_count": 34,
   "id": "c8730885",
   "metadata": {},
   "outputs": [
    {
     "data": {
      "text/plain": [
       "5.5"
      ]
     },
     "execution_count": 34,
     "metadata": {},
     "output_type": "execute_result"
    }
   ],
   "source": [
    "mean_of_a ##checking"
   ]
  },
  {
   "cell_type": "markdown",
   "id": "9dfe83d7",
   "metadata": {},
   "source": [
    "#### Exercise 5 - Make a variable named product_of_a to hold the product of multiplying all the numbers in the above list together"
   ]
  },
  {
   "cell_type": "code",
   "execution_count": 35,
   "id": "1a83f9ef",
   "metadata": {},
   "outputs": [],
   "source": [
    "def product(x):  #creating a function to multiply all numbers in array\n",
    "    n = 1\n",
    "    for i in x:\n",
    "        n *= i\n",
    "    return n"
   ]
  },
  {
   "cell_type": "code",
   "execution_count": 36,
   "id": "2cd3b3e5",
   "metadata": {},
   "outputs": [],
   "source": [
    "product_of_a = product(a) ###then insert array a and rename to variable name asked for"
   ]
  },
  {
   "cell_type": "code",
   "execution_count": 37,
   "id": "246c8e0a",
   "metadata": {},
   "outputs": [
    {
     "data": {
      "text/plain": [
       "3628800"
      ]
     },
     "execution_count": 37,
     "metadata": {},
     "output_type": "execute_result"
    }
   ],
   "source": [
    "product_of_a  ##here we go!"
   ]
  },
  {
   "cell_type": "markdown",
   "id": "284f8919",
   "metadata": {},
   "source": [
    "##### or......."
   ]
  },
  {
   "cell_type": "code",
   "execution_count": 38,
   "id": "3f2f2bf6",
   "metadata": {},
   "outputs": [
    {
     "data": {
      "text/plain": [
       "3628800"
      ]
     },
     "execution_count": 38,
     "metadata": {},
     "output_type": "execute_result"
    }
   ],
   "source": [
    "\n",
    "product_of_a = 1\n",
    "for n in a:\n",
    "    product_of_a *=n\n",
    "\n",
    "product_of_a"
   ]
  },
  {
   "cell_type": "markdown",
   "id": "1932b998",
   "metadata": {},
   "source": [
    "#### Exercise 6 - Make a variable named squares_of_a. It should hold each number in a squared like [1, 4, 9, 16, 25...]"
   ]
  },
  {
   "cell_type": "code",
   "execution_count": 39,
   "id": "2048bcf6",
   "metadata": {},
   "outputs": [],
   "source": [
    "squares_of_a = [n ** 2 for n in a]"
   ]
  },
  {
   "cell_type": "code",
   "execution_count": 40,
   "id": "c510c754",
   "metadata": {},
   "outputs": [
    {
     "data": {
      "text/plain": [
       "[1, 4, 9, 16, 25, 36, 49, 64, 81, 100]"
      ]
     },
     "execution_count": 40,
     "metadata": {},
     "output_type": "execute_result"
    }
   ],
   "source": [
    "squares_of_a "
   ]
  },
  {
   "cell_type": "markdown",
   "id": "6b26e2f0",
   "metadata": {},
   "source": [
    "#### Exercise 7 - Make a variable named odds_in_a. It should hold only the odd numbers"
   ]
  },
  {
   "cell_type": "code",
   "execution_count": 41,
   "id": "872f5fbf",
   "metadata": {},
   "outputs": [],
   "source": [
    "odds_in_a = [n for n in a if n % 2 !=0] ##moving through the line of statements"
   ]
  },
  {
   "cell_type": "code",
   "execution_count": 42,
   "id": "d4312630",
   "metadata": {},
   "outputs": [
    {
     "data": {
      "text/plain": [
       "[1, 3, 5, 7, 9]"
      ]
     },
     "execution_count": 42,
     "metadata": {},
     "output_type": "execute_result"
    }
   ],
   "source": [
    "odds_in_a"
   ]
  },
  {
   "cell_type": "markdown",
   "id": "203ed864",
   "metadata": {},
   "source": [
    "#### Exercise 8 - Make a variable named evens_in_a. It should hold only the evens."
   ]
  },
  {
   "cell_type": "code",
   "execution_count": 43,
   "id": "f1303685",
   "metadata": {},
   "outputs": [],
   "source": [
    "evens_in_a = [n for n in a if n % 2 == 0]"
   ]
  },
  {
   "cell_type": "code",
   "execution_count": 44,
   "id": "d4a4e54b",
   "metadata": {},
   "outputs": [
    {
     "data": {
      "text/plain": [
       "[2, 4, 6, 8, 10]"
      ]
     },
     "execution_count": 44,
     "metadata": {},
     "output_type": "execute_result"
    }
   ],
   "source": [
    "evens_in_a"
   ]
  },
  {
   "cell_type": "markdown",
   "id": "c5d62fb0",
   "metadata": {},
   "source": [
    "### Set Up 2:"
   ]
  },
  {
   "cell_type": "code",
   "execution_count": 45,
   "id": "0292e182",
   "metadata": {},
   "outputs": [],
   "source": [
    "b = [\n",
    "    [3, 4, 5],\n",
    "    [6, 7, 8]\n",
    "]\n",
    "\n",
    "b=np.array(b)"
   ]
  },
  {
   "cell_type": "markdown",
   "id": "b4643dd2",
   "metadata": {},
   "source": [
    "#### Exercise 1 - refactor the following to use numpy. Use sum_of_b as the variable. \n",
    "##**Hint, you'll first need to make sure that the \"b\" variable is a numpy array**"
   ]
  },
  {
   "cell_type": "code",
   "execution_count": 46,
   "id": "e6e99226",
   "metadata": {},
   "outputs": [],
   "source": [
    "sum_of_b = 0\n",
    "for row in b:\n",
    "    sum_of_b += sum(row)"
   ]
  },
  {
   "cell_type": "code",
   "execution_count": 47,
   "id": "9f463a34",
   "metadata": {},
   "outputs": [
    {
     "data": {
      "text/plain": [
       "33"
      ]
     },
     "execution_count": 47,
     "metadata": {},
     "output_type": "execute_result"
    }
   ],
   "source": [
    "sum_of_b #checking the output"
   ]
  },
  {
   "cell_type": "code",
   "execution_count": 48,
   "id": "c2e43003",
   "metadata": {},
   "outputs": [
    {
     "data": {
      "text/plain": [
       "33"
      ]
     },
     "execution_count": 48,
     "metadata": {},
     "output_type": "execute_result"
    }
   ],
   "source": [
    "np.sum(b)###answer"
   ]
  },
  {
   "cell_type": "markdown",
   "id": "b92236d9",
   "metadata": {},
   "source": [
    "#### Exercise 2 - refactor the following to use numpy. "
   ]
  },
  {
   "cell_type": "code",
   "execution_count": 49,
   "id": "e1931d5c",
   "metadata": {},
   "outputs": [],
   "source": [
    "min_of_b = min(b[0]) if min(b[0]) <= min(b[1]) else min(b[1])  "
   ]
  },
  {
   "cell_type": "code",
   "execution_count": 50,
   "id": "4bfa18bf",
   "metadata": {},
   "outputs": [
    {
     "data": {
      "text/plain": [
       "3"
      ]
     },
     "execution_count": 50,
     "metadata": {},
     "output_type": "execute_result"
    }
   ],
   "source": [
    "min_of_b"
   ]
  },
  {
   "cell_type": "code",
   "execution_count": 51,
   "id": "96edb880",
   "metadata": {},
   "outputs": [
    {
     "data": {
      "text/plain": [
       "3"
      ]
     },
     "execution_count": 51,
     "metadata": {},
     "output_type": "execute_result"
    }
   ],
   "source": [
    "np.min(b)"
   ]
  },
  {
   "cell_type": "markdown",
   "id": "1d70fc93",
   "metadata": {},
   "source": [
    "#### Exercise 3 - refactor the following maximum calculation to find the answer with numpy."
   ]
  },
  {
   "cell_type": "code",
   "execution_count": 52,
   "id": "0e651038",
   "metadata": {},
   "outputs": [],
   "source": [
    "max_of_b = max(b[0]) if max(b[0]) >= max(b[1]) else max(b[1])"
   ]
  },
  {
   "cell_type": "code",
   "execution_count": 53,
   "id": "6156f970",
   "metadata": {},
   "outputs": [
    {
     "data": {
      "text/plain": [
       "8"
      ]
     },
     "execution_count": 53,
     "metadata": {},
     "output_type": "execute_result"
    }
   ],
   "source": [
    "max_of_b"
   ]
  },
  {
   "cell_type": "code",
   "execution_count": 54,
   "id": "bf116e88",
   "metadata": {},
   "outputs": [
    {
     "data": {
      "text/plain": [
       "8"
      ]
     },
     "execution_count": 54,
     "metadata": {},
     "output_type": "execute_result"
    }
   ],
   "source": [
    "np.max(b)"
   ]
  },
  {
   "cell_type": "markdown",
   "id": "d16ae0c4",
   "metadata": {},
   "source": [
    "#### Exercise 4 - refactor the following using numpy to find the mean of b"
   ]
  },
  {
   "cell_type": "code",
   "execution_count": 55,
   "id": "fec063c0",
   "metadata": {},
   "outputs": [],
   "source": [
    "mean_of_b = (sum(b[0]) + sum(b[1])) / (len(b[0]) + len(b[1]))"
   ]
  },
  {
   "cell_type": "code",
   "execution_count": 56,
   "id": "452a2784",
   "metadata": {},
   "outputs": [
    {
     "data": {
      "text/plain": [
       "5.5"
      ]
     },
     "execution_count": 56,
     "metadata": {},
     "output_type": "execute_result"
    }
   ],
   "source": [
    "mean_of_b"
   ]
  },
  {
   "cell_type": "code",
   "execution_count": 57,
   "id": "fcfcba79",
   "metadata": {},
   "outputs": [
    {
     "data": {
      "text/plain": [
       "5.5"
      ]
     },
     "execution_count": 57,
     "metadata": {},
     "output_type": "execute_result"
    }
   ],
   "source": [
    "np.mean(b)"
   ]
  },
  {
   "cell_type": "markdown",
   "id": "b9c0655d",
   "metadata": {},
   "source": [
    "#### Exercise 5 - refactor the following to use numpy for calculating the product of all numbers multiplied together."
   ]
  },
  {
   "cell_type": "code",
   "execution_count": 58,
   "id": "6ad76596",
   "metadata": {},
   "outputs": [],
   "source": [
    "product_of_b = 1\n",
    "for row in b:\n",
    "    for number in row:\n",
    "        product_of_b *= number"
   ]
  },
  {
   "cell_type": "code",
   "execution_count": 59,
   "id": "801455e7",
   "metadata": {},
   "outputs": [
    {
     "data": {
      "text/plain": [
       "20160"
      ]
     },
     "execution_count": 59,
     "metadata": {},
     "output_type": "execute_result"
    }
   ],
   "source": [
    "product_of_b"
   ]
  },
  {
   "cell_type": "code",
   "execution_count": 60,
   "id": "e14f2d5a",
   "metadata": {},
   "outputs": [
    {
     "data": {
      "text/plain": [
       "20160"
      ]
     },
     "execution_count": 60,
     "metadata": {},
     "output_type": "execute_result"
    }
   ],
   "source": [
    "np.product(b)"
   ]
  },
  {
   "cell_type": "markdown",
   "id": "57a49b14",
   "metadata": {},
   "source": [
    "#### Exercise 6 - refactor the following to use numpy to find the list of squares "
   ]
  },
  {
   "cell_type": "code",
   "execution_count": 61,
   "id": "38f709c8",
   "metadata": {},
   "outputs": [],
   "source": [
    "squares_of_b = []\n",
    "for row in b:\n",
    "    for number in row:\n",
    "        squares_of_b.append(number**2)"
   ]
  },
  {
   "cell_type": "code",
   "execution_count": 62,
   "id": "b9baab97",
   "metadata": {},
   "outputs": [
    {
     "data": {
      "text/plain": [
       "[9, 16, 25, 36, 49, 64]"
      ]
     },
     "execution_count": 62,
     "metadata": {},
     "output_type": "execute_result"
    }
   ],
   "source": [
    "squares_of_b"
   ]
  },
  {
   "cell_type": "code",
   "execution_count": 63,
   "id": "fe98bd9f",
   "metadata": {},
   "outputs": [
    {
     "data": {
      "text/plain": [
       "array([[ 9, 16, 25],\n",
       "       [36, 49, 64]])"
      ]
     },
     "execution_count": 63,
     "metadata": {},
     "output_type": "execute_result"
    }
   ],
   "source": [
    "np.square(b)"
   ]
  },
  {
   "cell_type": "markdown",
   "id": "efe35903",
   "metadata": {},
   "source": [
    "#### Exercise 7 - refactor using numpy to determine the odds_in_b"
   ]
  },
  {
   "cell_type": "code",
   "execution_count": 64,
   "id": "0cb18d2b",
   "metadata": {},
   "outputs": [],
   "source": [
    "#odds_in_b = []\n",
    "#for row in b:\n",
    "    #for number in row:\n",
    "        #if(number % 2 != 0):\n",
    "            #odds_in_b.append(number)"
   ]
  },
  {
   "cell_type": "code",
   "execution_count": 65,
   "id": "9975dccf",
   "metadata": {},
   "outputs": [],
   "source": [
    "#odds_in_b"
   ]
  },
  {
   "cell_type": "code",
   "execution_count": 66,
   "id": "9d89b471",
   "metadata": {},
   "outputs": [],
   "source": [
    "odds_in_b = b[b % 2 != 0]"
   ]
  },
  {
   "cell_type": "code",
   "execution_count": 67,
   "id": "5b7ff805",
   "metadata": {},
   "outputs": [
    {
     "data": {
      "text/plain": [
       "array([3, 5, 7])"
      ]
     },
     "execution_count": 67,
     "metadata": {},
     "output_type": "execute_result"
    }
   ],
   "source": [
    "odds_in_b"
   ]
  },
  {
   "cell_type": "markdown",
   "id": "efd92755",
   "metadata": {},
   "source": [
    "#### Exercise 8 - refactor the following to use numpy to filter only the even numbers"
   ]
  },
  {
   "cell_type": "code",
   "execution_count": 68,
   "id": "90f1aaae",
   "metadata": {},
   "outputs": [],
   "source": [
    "evens_in_b = []\n",
    "for row in b:\n",
    "    for number in row:\n",
    "        if(number % 2 == 0):\n",
    "            evens_in_b.append(number)"
   ]
  },
  {
   "cell_type": "code",
   "execution_count": 69,
   "id": "aad384b7",
   "metadata": {},
   "outputs": [
    {
     "data": {
      "text/plain": [
       "[4, 6, 8]"
      ]
     },
     "execution_count": 69,
     "metadata": {},
     "output_type": "execute_result"
    }
   ],
   "source": [
    "evens_in_b"
   ]
  },
  {
   "cell_type": "code",
   "execution_count": 70,
   "id": "92bd9747",
   "metadata": {},
   "outputs": [],
   "source": [
    "evens_in_b = b[b % 2 == 0]"
   ]
  },
  {
   "cell_type": "code",
   "execution_count": 71,
   "id": "0a89a030",
   "metadata": {},
   "outputs": [
    {
     "data": {
      "text/plain": [
       "array([4, 6, 8])"
      ]
     },
     "execution_count": 71,
     "metadata": {},
     "output_type": "execute_result"
    }
   ],
   "source": [
    "evens_in_b"
   ]
  },
  {
   "cell_type": "markdown",
   "id": "2e47c4fc",
   "metadata": {},
   "source": [
    "#### Exercise 9 - print out the shape of the array b."
   ]
  },
  {
   "cell_type": "code",
   "execution_count": 72,
   "id": "fd4a0fad",
   "metadata": {},
   "outputs": [
    {
     "data": {
      "text/plain": [
       "(2, 3)"
      ]
     },
     "execution_count": 72,
     "metadata": {},
     "output_type": "execute_result"
    }
   ],
   "source": [
    "b.shape"
   ]
  },
  {
   "cell_type": "markdown",
   "id": "d93d303b",
   "metadata": {},
   "source": [
    "####  Exercise 10 - transpose the array b."
   ]
  },
  {
   "cell_type": "code",
   "execution_count": 73,
   "id": "8b5741a0",
   "metadata": {},
   "outputs": [
    {
     "data": {
      "text/plain": [
       "array([[3, 6],\n",
       "       [4, 7],\n",
       "       [5, 8]])"
      ]
     },
     "execution_count": 73,
     "metadata": {},
     "output_type": "execute_result"
    }
   ],
   "source": [
    "b.T"
   ]
  },
  {
   "cell_type": "markdown",
   "id": "81923614",
   "metadata": {},
   "source": [
    "#### Exercise 11 - reshape the array b to be a single list of 6 numbers. (1 x 6)"
   ]
  },
  {
   "cell_type": "code",
   "execution_count": 74,
   "id": "770f75f4",
   "metadata": {},
   "outputs": [
    {
     "data": {
      "text/plain": [
       "array([3, 4, 5, 6, 7, 8])"
      ]
     },
     "execution_count": 74,
     "metadata": {},
     "output_type": "execute_result"
    }
   ],
   "source": [
    "b.flatten()"
   ]
  },
  {
   "cell_type": "markdown",
   "id": "338bed92",
   "metadata": {},
   "source": [
    "#### Exercise 12 - reshape the array b to be a list of 6 lists, each containing only 1 number (6 x 1)"
   ]
  },
  {
   "cell_type": "code",
   "execution_count": 76,
   "id": "ef2ed2c7",
   "metadata": {},
   "outputs": [
    {
     "data": {
      "text/plain": [
       "array([[3],\n",
       "       [4],\n",
       "       [5],\n",
       "       [6],\n",
       "       [7],\n",
       "       [8]])"
      ]
     },
     "execution_count": 76,
     "metadata": {},
     "output_type": "execute_result"
    }
   ],
   "source": [
    "b.reshape(6,1)"
   ]
  },
  {
   "cell_type": "markdown",
   "id": "cb1564f6",
   "metadata": {},
   "source": [
    "### SET UP 3:"
   ]
  },
  {
   "cell_type": "code",
   "execution_count": 81,
   "id": "fd51b04a",
   "metadata": {},
   "outputs": [],
   "source": [
    "c = [\n",
    "    [1, 2, 3],\n",
    "    [4, 5, 6],\n",
    "    [7, 8, 9]\n",
    "]\n",
    "\n",
    "c = np.array(c)"
   ]
  },
  {
   "cell_type": "markdown",
   "id": "fb1169dd",
   "metadata": {},
   "source": [
    "####  Exercise 1 - Find the min, max, sum, and product of c."
   ]
  },
  {
   "cell_type": "code",
   "execution_count": 85,
   "id": "f3fa841e",
   "metadata": {},
   "outputs": [
    {
     "data": {
      "text/plain": [
       "1"
      ]
     },
     "execution_count": 85,
     "metadata": {},
     "output_type": "execute_result"
    }
   ],
   "source": [
    "c.min()"
   ]
  },
  {
   "cell_type": "code",
   "execution_count": 86,
   "id": "57544092",
   "metadata": {},
   "outputs": [
    {
     "data": {
      "text/plain": [
       "9"
      ]
     },
     "execution_count": 86,
     "metadata": {},
     "output_type": "execute_result"
    }
   ],
   "source": [
    "c.max()"
   ]
  },
  {
   "cell_type": "code",
   "execution_count": 93,
   "id": "3d88d991",
   "metadata": {},
   "outputs": [
    {
     "data": {
      "text/plain": [
       "45"
      ]
     },
     "execution_count": 93,
     "metadata": {},
     "output_type": "execute_result"
    }
   ],
   "source": [
    "c.sum()"
   ]
  },
  {
   "cell_type": "code",
   "execution_count": 95,
   "id": "a93e8709",
   "metadata": {},
   "outputs": [
    {
     "data": {
      "text/plain": [
       "362880"
      ]
     },
     "execution_count": 95,
     "metadata": {},
     "output_type": "execute_result"
    }
   ],
   "source": [
    "np.product(c)"
   ]
  },
  {
   "cell_type": "markdown",
   "id": "1d1158a2",
   "metadata": {},
   "source": [
    "#### Exercise 2 - Determine the standard deviation of c."
   ]
  },
  {
   "cell_type": "code",
   "execution_count": 97,
   "id": "4696cb13",
   "metadata": {},
   "outputs": [
    {
     "data": {
      "text/plain": [
       "2.581988897471611"
      ]
     },
     "execution_count": 97,
     "metadata": {},
     "output_type": "execute_result"
    }
   ],
   "source": [
    "c.std()"
   ]
  },
  {
   "cell_type": "markdown",
   "id": "f443987c",
   "metadata": {},
   "source": [
    "#### Exercise 3 - Determine the variance of c."
   ]
  },
  {
   "cell_type": "code",
   "execution_count": 98,
   "id": "c809302b",
   "metadata": {},
   "outputs": [
    {
     "data": {
      "text/plain": [
       "6.666666666666667"
      ]
     },
     "execution_count": 98,
     "metadata": {},
     "output_type": "execute_result"
    }
   ],
   "source": [
    "c.var()"
   ]
  },
  {
   "cell_type": "markdown",
   "id": "b136cb82",
   "metadata": {},
   "source": [
    "#### Exercise 4 - Print out the shape of the array c"
   ]
  },
  {
   "cell_type": "code",
   "execution_count": 101,
   "id": "29aaead5",
   "metadata": {},
   "outputs": [
    {
     "data": {
      "text/plain": [
       "(3, 3)"
      ]
     },
     "execution_count": 101,
     "metadata": {},
     "output_type": "execute_result"
    }
   ],
   "source": [
    "c.shape"
   ]
  },
  {
   "cell_type": "markdown",
   "id": "379d8589",
   "metadata": {},
   "source": [
    "#### Exercise 5 - Transpose c and print out transposed result."
   ]
  },
  {
   "cell_type": "code",
   "execution_count": 102,
   "id": "52563ceb",
   "metadata": {},
   "outputs": [
    {
     "data": {
      "text/plain": [
       "array([[1, 4, 7],\n",
       "       [2, 5, 8],\n",
       "       [3, 6, 9]])"
      ]
     },
     "execution_count": 102,
     "metadata": {},
     "output_type": "execute_result"
    }
   ],
   "source": [
    "c.T"
   ]
  },
  {
   "cell_type": "markdown",
   "id": "41d4c6b8",
   "metadata": {},
   "source": [
    "#### Exercise 6 - Get the dot product of the array c with c."
   ]
  },
  {
   "cell_type": "code",
   "execution_count": 104,
   "id": "e178aaf7",
   "metadata": {},
   "outputs": [
    {
     "data": {
      "text/plain": [
       "array([[ 30,  36,  42],\n",
       "       [ 66,  81,  96],\n",
       "       [102, 126, 150]])"
      ]
     },
     "execution_count": 104,
     "metadata": {},
     "output_type": "execute_result"
    }
   ],
   "source": [
    "c.dot(c)"
   ]
  },
  {
   "cell_type": "markdown",
   "id": "5ea2c7b5",
   "metadata": {},
   "source": [
    "#### Exercise 7 - Write the code necessary to sum up the result of c times c transposed. Answer should be 261"
   ]
  },
  {
   "cell_type": "code",
   "execution_count": 126,
   "id": "df8a2d89",
   "metadata": {},
   "outputs": [
    {
     "data": {
      "text/plain": [
       "261"
      ]
     },
     "execution_count": 126,
     "metadata": {},
     "output_type": "execute_result"
    }
   ],
   "source": [
    "transpose_c = sum(c.T * c)\n",
    "\n",
    "sum(transpose_c)"
   ]
  },
  {
   "cell_type": "markdown",
   "id": "beefca3c",
   "metadata": {},
   "source": [
    "#### Exercise 8 - Write the code necessary to determine the product of c times c transposed. Answer should be 131681894400."
   ]
  },
  {
   "cell_type": "code",
   "execution_count": 127,
   "id": "4dd55cb9",
   "metadata": {},
   "outputs": [],
   "source": [
    "c_times_c = product(c.T*c)"
   ]
  },
  {
   "cell_type": "code",
   "execution_count": 128,
   "id": "a7799c33",
   "metadata": {},
   "outputs": [
    {
     "data": {
      "text/plain": [
       "array([  168,  9600, 81648])"
      ]
     },
     "execution_count": 128,
     "metadata": {},
     "output_type": "execute_result"
    }
   ],
   "source": [
    "c_times_c"
   ]
  },
  {
   "cell_type": "code",
   "execution_count": 129,
   "id": "ef1793b8",
   "metadata": {},
   "outputs": [
    {
     "data": {
      "text/plain": [
       "131681894400"
      ]
     },
     "execution_count": 129,
     "metadata": {},
     "output_type": "execute_result"
    }
   ],
   "source": [
    "product(c_times_c)"
   ]
  },
  {
   "cell_type": "markdown",
   "id": "af71fece",
   "metadata": {},
   "source": [
    "### SET UP 4:"
   ]
  },
  {
   "cell_type": "code",
   "execution_count": 137,
   "id": "0874ac8a",
   "metadata": {},
   "outputs": [],
   "source": [
    "d = [\n",
    "    [90, 30, 45, 0, 120, 180],\n",
    "    [45, -90, -30, 270, 90, 0],\n",
    "    [60, 45, -45, 90, -45, 180]\n",
    "]\n",
    "\n",
    "d = np.array(d)"
   ]
  },
  {
   "cell_type": "markdown",
   "id": "b905051a",
   "metadata": {},
   "source": [
    "#### Exercise 1 - Find the sine of all the numbers in d"
   ]
  },
  {
   "cell_type": "code",
   "execution_count": 140,
   "id": "cc75cff5",
   "metadata": {},
   "outputs": [
    {
     "data": {
      "text/plain": [
       "array([[ 0.89399666, -0.98803162,  0.85090352,  0.        ,  0.58061118,\n",
       "        -0.80115264],\n",
       "       [ 0.85090352, -0.89399666,  0.98803162, -0.17604595,  0.89399666,\n",
       "         0.        ],\n",
       "       [-0.30481062,  0.85090352, -0.85090352,  0.89399666, -0.85090352,\n",
       "        -0.80115264]])"
      ]
     },
     "execution_count": 140,
     "metadata": {},
     "output_type": "execute_result"
    }
   ],
   "source": [
    "np.sin(d)"
   ]
  },
  {
   "cell_type": "markdown",
   "id": "bf612bdc",
   "metadata": {},
   "source": [
    "#### Exercise 2 - Find the cosine of all the numbers in d"
   ]
  },
  {
   "cell_type": "code",
   "execution_count": 141,
   "id": "a3fbf1a8",
   "metadata": {},
   "outputs": [
    {
     "data": {
      "text/plain": [
       "array([[-0.44807362,  0.15425145,  0.52532199,  1.        ,  0.81418097,\n",
       "        -0.59846007],\n",
       "       [ 0.52532199, -0.44807362,  0.15425145,  0.98438195, -0.44807362,\n",
       "         1.        ],\n",
       "       [-0.95241298,  0.52532199,  0.52532199, -0.44807362,  0.52532199,\n",
       "        -0.59846007]])"
      ]
     },
     "execution_count": 141,
     "metadata": {},
     "output_type": "execute_result"
    }
   ],
   "source": [
    "np.cos(d)"
   ]
  },
  {
   "cell_type": "markdown",
   "id": "acd7646f",
   "metadata": {},
   "source": [
    "#### Exercise 3 - Find the tangent of all the numbers in d"
   ]
  },
  {
   "cell_type": "code",
   "execution_count": 142,
   "id": "612be633",
   "metadata": {},
   "outputs": [
    {
     "data": {
      "text/plain": [
       "array([[-1.99520041, -6.4053312 ,  1.61977519,  0.        ,  0.71312301,\n",
       "         1.33869021],\n",
       "       [ 1.61977519,  1.99520041,  6.4053312 , -0.17883906, -1.99520041,\n",
       "         0.        ],\n",
       "       [ 0.32004039,  1.61977519, -1.61977519, -1.99520041, -1.61977519,\n",
       "         1.33869021]])"
      ]
     },
     "execution_count": 142,
     "metadata": {},
     "output_type": "execute_result"
    }
   ],
   "source": [
    "np.tan(d)"
   ]
  },
  {
   "cell_type": "markdown",
   "id": "1bc627bb",
   "metadata": {},
   "source": [
    "#### Exercise 4 - Find all the negative numbers in d"
   ]
  },
  {
   "cell_type": "code",
   "execution_count": 173,
   "id": "7fef8849",
   "metadata": {},
   "outputs": [],
   "source": [
    "neg_num = np.array([np.array(d)<0])"
   ]
  },
  {
   "cell_type": "code",
   "execution_count": 174,
   "id": "04dc79b8",
   "metadata": {},
   "outputs": [
    {
     "data": {
      "text/plain": [
       "array([[ 90,  30,  45,   0, 120, 180],\n",
       "       [ 45, -90, -30, 270,  90,   0],\n",
       "       [ 60,  45, -45,  90, -45, 180]])"
      ]
     },
     "execution_count": 174,
     "metadata": {},
     "output_type": "execute_result"
    }
   ],
   "source": [
    "d"
   ]
  },
  {
   "cell_type": "code",
   "execution_count": 175,
   "id": "13c4cb2c",
   "metadata": {},
   "outputs": [
    {
     "data": {
      "text/plain": [
       "array([[[False, False, False, False, False, False],\n",
       "        [False,  True,  True, False, False, False],\n",
       "        [False, False,  True, False,  True, False]]])"
      ]
     },
     "execution_count": 175,
     "metadata": {},
     "output_type": "execute_result"
    }
   ],
   "source": [
    "neg_num"
   ]
  },
  {
   "cell_type": "code",
   "execution_count": null,
   "id": "d74ea934",
   "metadata": {},
   "outputs": [],
   "source": []
  }
 ],
 "metadata": {
  "kernelspec": {
   "display_name": "Python 3 (ipykernel)",
   "language": "python",
   "name": "python3"
  },
  "language_info": {
   "codemirror_mode": {
    "name": "ipython",
    "version": 3
   },
   "file_extension": ".py",
   "mimetype": "text/x-python",
   "name": "python",
   "nbconvert_exporter": "python",
   "pygments_lexer": "ipython3",
   "version": "3.9.7"
  }
 },
 "nbformat": 4,
 "nbformat_minor": 5
}
