{
 "cells": [
  {
   "cell_type": "markdown",
   "id": "a8aa0f7e",
   "metadata": {},
   "source": [
    "# Python Function Exercises\n",
    "\n",
    "\n",
    "\n",
    "### 1) Define a function named is_two. \n",
    "#### It should accept one input and return True if the passed input is either the number or the string 2, False otherwise."
   ]
  },
  {
   "cell_type": "code",
   "execution_count": 52,
   "id": "ec670040",
   "metadata": {},
   "outputs": [],
   "source": [
    "def is_two(n):\n",
    "    if n == 'two' or n == '2':\n",
    "        return True\n",
    "    else:\n",
    "        return False"
   ]
  },
  {
   "cell_type": "code",
   "execution_count": 53,
   "id": "47ed1cb3",
   "metadata": {},
   "outputs": [
    {
     "name": "stdout",
     "output_type": "stream",
     "text": [
      "False\n"
     ]
    }
   ],
   "source": [
    "print(is_two(3))"
   ]
  },
  {
   "cell_type": "markdown",
   "id": "4377a734",
   "metadata": {},
   "source": [
    "### 2) Define a function named is_vowel. \n",
    "#### It should return True if the passed string is a vowel, False otherwise"
   ]
  },
  {
   "cell_type": "code",
   "execution_count": 58,
   "id": "4c255f66",
   "metadata": {},
   "outputs": [],
   "source": [
    "def is_vowel(strg):\n",
    "    if strg in ['A','a','E','e','I','i','O','o','U','u']:\n",
    "        return True\n",
    "    else:\n",
    "        return False"
   ]
  },
  {
   "cell_type": "code",
   "execution_count": 60,
   "id": "e3ff52f3",
   "metadata": {},
   "outputs": [
    {
     "name": "stdout",
     "output_type": "stream",
     "text": [
      "False\n"
     ]
    }
   ],
   "source": [
    "print(is_vowel('d'))"
   ]
  },
  {
   "cell_type": "markdown",
   "id": "deb56e38",
   "metadata": {},
   "source": [
    "### 3) Define a function named is_consonant. \n",
    "#### It should return True if the passed string is a consonant, False otherwise. Use your is_vowel function to accomplish this."
   ]
  },
  {
   "cell_type": "code",
   "execution_count": 68,
   "id": "e4a6d968",
   "metadata": {},
   "outputs": [],
   "source": [
    "def is_consonant(strg):\n",
    "    if is_vowel(strg):\n",
    "        return False\n",
    "    else:\n",
    "        return True\n",
    "        "
   ]
  },
  {
   "cell_type": "code",
   "execution_count": 70,
   "id": "b598a61c",
   "metadata": {},
   "outputs": [
    {
     "name": "stdout",
     "output_type": "stream",
     "text": [
      "True\n"
     ]
    }
   ],
   "source": [
    "print(is_consonant('b'))"
   ]
  },
  {
   "cell_type": "markdown",
   "id": "e3caccfb",
   "metadata": {},
   "source": [
    "### 4) Define a function that accepts a string that is a word. \n",
    "#### The function should capitalize the first letter of the word if the word starts with a consonant."
   ]
  },
  {
   "cell_type": "code",
   "execution_count": 81,
   "id": "7b3259b3",
   "metadata": {},
   "outputs": [],
   "source": [
    "def cap_letter(message):\n",
    "    if is_consonant(message[0]):\n",
    "        return message.capitalize()"
   ]
  },
  {
   "cell_type": "code",
   "execution_count": 84,
   "id": "8090fac4",
   "metadata": {},
   "outputs": [
    {
     "name": "stdout",
     "output_type": "stream",
     "text": [
      "Colton\n"
     ]
    }
   ],
   "source": [
    "print(cap_letter(\"colton\"))"
   ]
  },
  {
   "cell_type": "markdown",
   "id": "4bd3c896",
   "metadata": {},
   "source": [
    "### 5) Define a function named calculate_tip. \n",
    "#### It should accept a tip percentage (a number between 0 and 1) and the bill total, and return the amount to tip."
   ]
  },
  {
   "cell_type": "code",
   "execution_count": 85,
   "id": "e15e4bd6",
   "metadata": {},
   "outputs": [],
   "source": [
    "def calculate_tip(tip, total):\n",
    "    return total * tip"
   ]
  },
  {
   "cell_type": "code",
   "execution_count": 86,
   "id": "07b99470",
   "metadata": {},
   "outputs": [
    {
     "name": "stdout",
     "output_type": "stream",
     "text": [
      "4.5\n"
     ]
    }
   ],
   "source": [
    "print(calculate_tip(.15, 30))"
   ]
  },
  {
   "cell_type": "markdown",
   "id": "845e9baa",
   "metadata": {},
   "source": [
    "### 6) Define a function named apply_discount. \n",
    "#### It should accept a original price, and a discount percentage, and return the price after the discount is applied."
   ]
  },
  {
   "cell_type": "code",
   "execution_count": 87,
   "id": "0306a567",
   "metadata": {},
   "outputs": [],
   "source": [
    "def apply_discount(og_price, discount):\n",
    "    return og_price * (1- discount)"
   ]
  },
  {
   "cell_type": "code",
   "execution_count": 88,
   "id": "910db784",
   "metadata": {},
   "outputs": [
    {
     "name": "stdout",
     "output_type": "stream",
     "text": [
      "60.0\n"
     ]
    }
   ],
   "source": [
    "print(apply_discount(80,.25))"
   ]
  },
  {
   "cell_type": "markdown",
   "id": "c2f743e5",
   "metadata": {},
   "source": [
    "### 7) Define a function named handle_commas. \n",
    "#### It should accept a string that is a number that contains commas in it as input, and return a number as output."
   ]
  },
  {
   "cell_type": "code",
   "execution_count": 91,
   "id": "eac9d86b",
   "metadata": {},
   "outputs": [],
   "source": [
    "def handle_commas(number):\n",
    "    number = number.replace(',', '')\n",
    "    return number\n",
    "    "
   ]
  },
  {
   "cell_type": "code",
   "execution_count": 92,
   "id": "a56db690",
   "metadata": {},
   "outputs": [
    {
     "name": "stdout",
     "output_type": "stream",
     "text": [
      "1000\n"
     ]
    }
   ],
   "source": [
    "print(handle_commas(\"1,000\"))"
   ]
  },
  {
   "cell_type": "markdown",
   "id": "ca3a1bb1",
   "metadata": {},
   "source": [
    "### 8) Define a function named get_letter_grade. \n",
    "#### It should accept a number and return the letter grade associated with that number (A-F)."
   ]
  },
  {
   "cell_type": "code",
   "execution_count": 93,
   "id": "b6c25a1e",
   "metadata": {},
   "outputs": [],
   "source": [
    "def get_letter_grade(num):\n",
    "    if num>87 and num<101:\n",
    "        print('A')\n",
    "\n",
    "    elif num>79 and num<88:\n",
    "        print('B')\n",
    "\n",
    "    elif num>66 and num<80:\n",
    "        print('C')\n",
    "\n",
    "    elif num>59 and num<67:\n",
    "        print('D')\n",
    "\n",
    "    else:\n",
    "        print('F')\n",
    "    return num\n",
    "    "
   ]
  },
  {
   "cell_type": "code",
   "execution_count": 96,
   "id": "08851ab1",
   "metadata": {},
   "outputs": [
    {
     "name": "stdout",
     "output_type": "stream",
     "text": [
      "B\n",
      "85\n"
     ]
    }
   ],
   "source": [
    "print(get_letter_grade(85))"
   ]
  },
  {
   "cell_type": "markdown",
   "id": "48601d05",
   "metadata": {},
   "source": [
    "### 9) Define a function named remove_vowels that accepts a string and returns a string with all the vowels removed."
   ]
  },
  {
   "cell_type": "code",
   "execution_count": 14,
   "id": "eea2fcd6",
   "metadata": {},
   "outputs": [],
   "source": [
    "def remove_vowels(words):\n",
    "    vowels = [\"a\",\"e\",\"i\",\"o\",\"u\"]\n",
    "    result = [word for word in words if word.lower() not in vowels]\n",
    "    result = ''.join(result)\n",
    "    return(result)\n",
    "    "
   ]
  },
  {
   "cell_type": "code",
   "execution_count": 15,
   "id": "8aad2dbc",
   "metadata": {},
   "outputs": [
    {
     "name": "stdout",
     "output_type": "stream",
     "text": [
      "bnn\n"
     ]
    }
   ],
   "source": [
    "print(remove_vowels('banana'))"
   ]
  },
  {
   "cell_type": "markdown",
   "id": "bab333a0",
   "metadata": {},
   "source": [
    "### 10) Define a function named normalize_name. \n",
    "#### It should accept a string and return a valid python identifier, that is:\n",
    "##### -anything that is not a valid python identifier should be removed\n",
    "##### -leading and trailing whitespace should be removed\n",
    "##### -everything should be lowercase\n",
    "##### -spaces should be replaced with underscores"
   ]
  },
  {
   "cell_type": "code",
   "execution_count": 41,
   "id": "1fb4a129",
   "metadata": {},
   "outputs": [],
   "source": [
    "def normalize_name(name):\n",
    "    submit=(name)\n",
    "    return name.replace(' ','_')"
   ]
  },
  {
   "cell_type": "code",
   "execution_count": 42,
   "id": "fa465bd7",
   "metadata": {},
   "outputs": [
    {
     "name": "stdout",
     "output_type": "stream",
     "text": [
      "Ama_nda\n"
     ]
    }
   ],
   "source": [
    "print(normalize_name(\"Ama nda\"))"
   ]
  },
  {
   "cell_type": "markdown",
   "id": "313a6e8b",
   "metadata": {},
   "source": [
    "### 11) Write a function named cumulative_sum that accepts a list of numbers and returns a list that is the cumulative sum of the numbers in the list."
   ]
  },
  {
   "cell_type": "code",
   "execution_count": 46,
   "id": "fcf6e6ca",
   "metadata": {},
   "outputs": [],
   "source": [
    "def cumulative_sum(num1, num2, num3):\n",
    "    csum= [num1, num1 + num2, num1 + num2 + num3]\n",
    "    return csum"
   ]
  },
  {
   "cell_type": "code",
   "execution_count": 47,
   "id": "94f416a4",
   "metadata": {},
   "outputs": [
    {
     "data": {
      "text/plain": [
       "[1, 3, 6]"
      ]
     },
     "execution_count": 47,
     "metadata": {},
     "output_type": "execute_result"
    }
   ],
   "source": [
    "cumulative_sum(1,2,3)"
   ]
  },
  {
   "cell_type": "code",
   "execution_count": null,
   "id": "f1c387cd",
   "metadata": {},
   "outputs": [],
   "source": []
  }
 ],
 "metadata": {
  "kernelspec": {
   "display_name": "Python 3 (ipykernel)",
   "language": "python",
   "name": "python3"
  },
  "language_info": {
   "codemirror_mode": {
    "name": "ipython",
    "version": 3
   },
   "file_extension": ".py",
   "mimetype": "text/x-python",
   "name": "python",
   "nbconvert_exporter": "python",
   "pygments_lexer": "ipython3",
   "version": "3.9.7"
  }
 },
 "nbformat": 4,
 "nbformat_minor": 5
}
