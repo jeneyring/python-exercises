{
 "cells": [
  {
   "cell_type": "markdown",
   "id": "9164f016",
   "metadata": {},
   "source": [
    "## Advanced Dataframes:"
   ]
  },
  {
   "cell_type": "code",
   "execution_count": 1,
   "id": "e7c6d0e9",
   "metadata": {},
   "outputs": [],
   "source": [
    "import pandas as pd\n",
    "import numpy as np\n",
    "\n",
    "np.random.seed(123)"
   ]
  },
  {
   "cell_type": "code",
   "execution_count": 2,
   "id": "42989222",
   "metadata": {},
   "outputs": [],
   "source": [
    "# Create list of values for names column.\n",
    "\n",
    "students = ['Sally', 'Jane', 'Suzie', 'Billy', 'Ada', 'John', 'Thomas',\n",
    "            'Marie', 'Albert', 'Richard', 'Isaac', 'Alan']\n",
    "\n",
    "# Randomly generate arrays of scores for each student for each subject.\n",
    "# Note that all the values need to have the same length here.\n",
    "\n",
    "math_grades = np.random.randint(low=60, high=100, size=len(students))\n",
    "english_grades = np.random.randint(low=60, high=100, size=len(students))\n",
    "reading_grades = np.random.randint(low=60, high=100, size=len(students))\n"
   ]
  },
  {
   "cell_type": "code",
   "execution_count": 3,
   "id": "d540fc10",
   "metadata": {},
   "outputs": [
    {
     "data": {
      "text/plain": [
       "['Sally',\n",
       " 'Jane',\n",
       " 'Suzie',\n",
       " 'Billy',\n",
       " 'Ada',\n",
       " 'John',\n",
       " 'Thomas',\n",
       " 'Marie',\n",
       " 'Albert',\n",
       " 'Richard',\n",
       " 'Isaac',\n",
       " 'Alan']"
      ]
     },
     "execution_count": 3,
     "metadata": {},
     "output_type": "execute_result"
    }
   ],
   "source": [
    "students"
   ]
  },
  {
   "cell_type": "code",
   "execution_count": 4,
   "id": "81c61cf4",
   "metadata": {},
   "outputs": [],
   "source": [
    "# Construct the DataFrame using the above lists and arrays.\n",
    "\n",
    "df = pd.DataFrame({'name': students,\n",
    "                   'math': math_grades,\n",
    "                   'english': english_grades,\n",
    "                   'reading': reading_grades,\n",
    "                   'classroom': np.random.choice(['A', 'B'], len(students))})"
   ]
  },
  {
   "cell_type": "code",
   "execution_count": 5,
   "id": "e41a13df",
   "metadata": {},
   "outputs": [
    {
     "data": {
      "text/html": [
       "<div>\n",
       "<style scoped>\n",
       "    .dataframe tbody tr th:only-of-type {\n",
       "        vertical-align: middle;\n",
       "    }\n",
       "\n",
       "    .dataframe tbody tr th {\n",
       "        vertical-align: top;\n",
       "    }\n",
       "\n",
       "    .dataframe thead th {\n",
       "        text-align: right;\n",
       "    }\n",
       "</style>\n",
       "<table border=\"1\" class=\"dataframe\">\n",
       "  <thead>\n",
       "    <tr style=\"text-align: right;\">\n",
       "      <th></th>\n",
       "      <th>name</th>\n",
       "      <th>math</th>\n",
       "      <th>english</th>\n",
       "      <th>reading</th>\n",
       "      <th>classroom</th>\n",
       "    </tr>\n",
       "  </thead>\n",
       "  <tbody>\n",
       "    <tr>\n",
       "      <th>0</th>\n",
       "      <td>Sally</td>\n",
       "      <td>62</td>\n",
       "      <td>85</td>\n",
       "      <td>80</td>\n",
       "      <td>A</td>\n",
       "    </tr>\n",
       "    <tr>\n",
       "      <th>1</th>\n",
       "      <td>Jane</td>\n",
       "      <td>88</td>\n",
       "      <td>79</td>\n",
       "      <td>67</td>\n",
       "      <td>B</td>\n",
       "    </tr>\n",
       "    <tr>\n",
       "      <th>2</th>\n",
       "      <td>Suzie</td>\n",
       "      <td>94</td>\n",
       "      <td>74</td>\n",
       "      <td>95</td>\n",
       "      <td>A</td>\n",
       "    </tr>\n",
       "    <tr>\n",
       "      <th>3</th>\n",
       "      <td>Billy</td>\n",
       "      <td>98</td>\n",
       "      <td>96</td>\n",
       "      <td>88</td>\n",
       "      <td>B</td>\n",
       "    </tr>\n",
       "    <tr>\n",
       "      <th>4</th>\n",
       "      <td>Ada</td>\n",
       "      <td>77</td>\n",
       "      <td>92</td>\n",
       "      <td>98</td>\n",
       "      <td>A</td>\n",
       "    </tr>\n",
       "    <tr>\n",
       "      <th>5</th>\n",
       "      <td>John</td>\n",
       "      <td>79</td>\n",
       "      <td>76</td>\n",
       "      <td>93</td>\n",
       "      <td>B</td>\n",
       "    </tr>\n",
       "    <tr>\n",
       "      <th>6</th>\n",
       "      <td>Thomas</td>\n",
       "      <td>82</td>\n",
       "      <td>64</td>\n",
       "      <td>81</td>\n",
       "      <td>A</td>\n",
       "    </tr>\n",
       "    <tr>\n",
       "      <th>7</th>\n",
       "      <td>Marie</td>\n",
       "      <td>93</td>\n",
       "      <td>63</td>\n",
       "      <td>90</td>\n",
       "      <td>A</td>\n",
       "    </tr>\n",
       "    <tr>\n",
       "      <th>8</th>\n",
       "      <td>Albert</td>\n",
       "      <td>92</td>\n",
       "      <td>62</td>\n",
       "      <td>87</td>\n",
       "      <td>A</td>\n",
       "    </tr>\n",
       "    <tr>\n",
       "      <th>9</th>\n",
       "      <td>Richard</td>\n",
       "      <td>69</td>\n",
       "      <td>80</td>\n",
       "      <td>94</td>\n",
       "      <td>A</td>\n",
       "    </tr>\n",
       "    <tr>\n",
       "      <th>10</th>\n",
       "      <td>Isaac</td>\n",
       "      <td>92</td>\n",
       "      <td>99</td>\n",
       "      <td>93</td>\n",
       "      <td>B</td>\n",
       "    </tr>\n",
       "    <tr>\n",
       "      <th>11</th>\n",
       "      <td>Alan</td>\n",
       "      <td>92</td>\n",
       "      <td>62</td>\n",
       "      <td>72</td>\n",
       "      <td>A</td>\n",
       "    </tr>\n",
       "  </tbody>\n",
       "</table>\n",
       "</div>"
      ],
      "text/plain": [
       "       name  math  english  reading classroom\n",
       "0     Sally    62       85       80         A\n",
       "1      Jane    88       79       67         B\n",
       "2     Suzie    94       74       95         A\n",
       "3     Billy    98       96       88         B\n",
       "4       Ada    77       92       98         A\n",
       "5      John    79       76       93         B\n",
       "6    Thomas    82       64       81         A\n",
       "7     Marie    93       63       90         A\n",
       "8    Albert    92       62       87         A\n",
       "9   Richard    69       80       94         A\n",
       "10    Isaac    92       99       93         B\n",
       "11     Alan    92       62       72         A"
      ]
     },
     "execution_count": 5,
     "metadata": {},
     "output_type": "execute_result"
    }
   ],
   "source": [
    "df"
   ]
  },
  {
   "cell_type": "markdown",
   "id": "70a3476b",
   "metadata": {},
   "source": [
    "### We can construct df from lists and dictionaries."
   ]
  },
  {
   "cell_type": "markdown",
   "id": "2bf8f05b",
   "metadata": {},
   "source": [
    "#### Example of creating a dataframe from a dictionary:"
   ]
  },
  {
   "cell_type": "code",
   "execution_count": 6,
   "id": "833fadfd",
   "metadata": {},
   "outputs": [
    {
     "ename": "SyntaxError",
     "evalue": "unexpected EOF while parsing (2196276259.py, line 4)",
     "output_type": "error",
     "traceback": [
      "\u001b[0;36m  File \u001b[0;32m\"/var/folders/d3/11nygz6126ndxvtrp12687680000gn/T/ipykernel_53237/2196276259.py\"\u001b[0;36m, line \u001b[0;32m4\u001b[0m\n\u001b[0;31m    #values are the data points (ie 1,2,3.  4,5,6)\u001b[0m\n\u001b[0m                                                  ^\u001b[0m\n\u001b[0;31mSyntaxError\u001b[0m\u001b[0;31m:\u001b[0m unexpected EOF while parsing\n"
     ]
    }
   ],
   "source": [
    "pd.DataFrame({'A': [1, 2, 3], 'B': [4, 5, 6]}\n",
    "             \n",
    "#where keys are the column names (ie. A, B)\n",
    "#values are the data points (ie 1,2,3.  4,5,6)"
   ]
  },
  {
   "cell_type": "markdown",
   "id": "77f8692e",
   "metadata": {},
   "source": [
    "#### Example of creating a dataframe from a list of lists "
   ]
  },
  {
   "cell_type": "code",
   "execution_count": null,
   "id": "c2a573b4",
   "metadata": {},
   "outputs": [],
   "source": [
    "pd.DataFrame([[1, 2, 3], [4, 5, 6]])\n"
   ]
  },
  {
   "cell_type": "markdown",
   "id": "e07e03bc",
   "metadata": {},
   "source": [
    "#### Example of creating a dataframe from a numpy array"
   ]
  },
  {
   "cell_type": "code",
   "execution_count": null,
   "id": "2650ce8c",
   "metadata": {},
   "outputs": [],
   "source": [
    "array = np.array([[1, 2, 3], [4, 5, 6]])\n",
    "\n",
    "pd.DataFrame(array, columns=['a', 'b', 'c'])\n",
    "\n",
    "##note: column names had to be specified when using arrays"
   ]
  },
  {
   "cell_type": "markdown",
   "id": "b42937dc",
   "metadata": {},
   "source": [
    "### Using Pydataset:\n",
    "\n",
    "#### We may have to use datasets from a dataset library (like pydataset).\n",
    "\n",
    "#### Here is how you do that:"
   ]
  },
  {
   "cell_type": "code",
   "execution_count": null,
   "id": "a39c04b6",
   "metadata": {},
   "outputs": [],
   "source": [
    "## First, type:   pip install pydataset    into terminal"
   ]
  },
  {
   "cell_type": "code",
   "execution_count": 7,
   "id": "cd913543",
   "metadata": {},
   "outputs": [],
   "source": [
    "from pydataset import data"
   ]
  },
  {
   "cell_type": "code",
   "execution_count": 11,
   "id": "c5470547",
   "metadata": {},
   "outputs": [],
   "source": [
    "# then, use this code to check if valid: data(df_string_name, show_doc=True)"
   ]
  },
  {
   "cell_type": "code",
   "execution_count": null,
   "id": "badeb506",
   "metadata": {},
   "outputs": [],
   "source": []
  },
  {
   "cell_type": "code",
   "execution_count": null,
   "id": "954a7f6f",
   "metadata": {},
   "outputs": [],
   "source": []
  }
 ],
 "metadata": {
  "kernelspec": {
   "display_name": "Python 3 (ipykernel)",
   "language": "python",
   "name": "python3"
  },
  "language_info": {
   "codemirror_mode": {
    "name": "ipython",
    "version": 3
   },
   "file_extension": ".py",
   "mimetype": "text/x-python",
   "name": "python",
   "nbconvert_exporter": "python",
   "pygments_lexer": "ipython3",
   "version": "3.9.7"
  }
 },
 "nbformat": 4,
 "nbformat_minor": 5
}
