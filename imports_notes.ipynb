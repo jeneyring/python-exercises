{
 "cells": [
  {
   "cell_type": "markdown",
   "id": "cc2a9e7a",
   "metadata": {},
   "source": [
    "## Vocabulary\n",
    "\n",
    "### Module: a python file with a .py extension\n",
    "#### -contain functions & variables\n",
    "#### -can exist in: python library/ community packages/ my own working directory as a file created\n",
    "\n",
    "### Package: a directory that contains modules.  (we install these)\n",
    "\n",
    "### Library: collection of code, data, documentation and built for specific tasks.\n",
    "#### - can be large (like numpy)\n",
    "\n",
    "\n",
    "## The 3 main sources for Imports:\n",
    "\n",
    "### 1) Python standard library\n",
    "### 2) 3rd party packages (conda or pip)\n",
    "### 3) Our own code"
   ]
  },
  {
   "cell_type": "markdown",
   "id": "5049d65a",
   "metadata": {},
   "source": [
    "## Installing Packages:\n",
    "\n",
    "### We run these commands in our shell (terminal) via: pip install pydatatset (example)"
   ]
  },
  {
   "cell_type": "markdown",
   "id": "89ef4aea",
   "metadata": {},
   "source": [
    "## Importing:\n",
    "### can import a whole module (or library) or just parts of this."
   ]
  },
  {
   "cell_type": "code",
   "execution_count": 2,
   "id": "f1f56112",
   "metadata": {},
   "outputs": [
    {
     "data": {
      "text/plain": [
       "module"
      ]
     },
     "execution_count": 2,
     "metadata": {},
     "output_type": "execute_result"
    }
   ],
   "source": [
    "#example: How to import\n",
    "\n",
    "import math\n",
    "\n",
    "type(math)"
   ]
  },
  {
   "cell_type": "code",
   "execution_count": 3,
   "id": "49a9db65",
   "metadata": {},
   "outputs": [
    {
     "data": {
      "text/plain": [
       "3.141592653589793"
      ]
     },
     "execution_count": 3,
     "metadata": {},
     "output_type": "execute_result"
    }
   ],
   "source": [
    "math.pi"
   ]
  },
  {
   "cell_type": "code",
   "execution_count": 4,
   "id": "f6c71e0f",
   "metadata": {},
   "outputs": [
    {
     "data": {
      "text/plain": [
       "2.0"
      ]
     },
     "execution_count": 4,
     "metadata": {},
     "output_type": "execute_result"
    }
   ],
   "source": [
    "math.sqrt(4)"
   ]
  },
  {
   "cell_type": "markdown",
   "id": "588061de",
   "metadata": {},
   "source": [
    "## BASIC IMPORT SYNTAX:\n",
    "\n",
    "import module_name (at top of code)\n",
    "\n",
    "or\n",
    "\n",
    "module_name.method() (to call a method from that module)"
   ]
  },
  {
   "cell_type": "markdown",
   "id": "d0d36b43",
   "metadata": {},
   "source": [
    "## Importing and aliasing a module\n",
    "### - importing whole module\n",
    "### - we access functionality off of the alias name"
   ]
  },
  {
   "cell_type": "code",
   "execution_count": 5,
   "id": "9a281090",
   "metadata": {},
   "outputs": [],
   "source": [
    "import math as m"
   ]
  },
  {
   "cell_type": "code",
   "execution_count": 6,
   "id": "3028f6e9",
   "metadata": {},
   "outputs": [],
   "source": [
    "#this is an industry accepted/encouraged alias\n",
    "import pandas as pd"
   ]
  },
  {
   "cell_type": "markdown",
   "id": "051ca95d",
   "metadata": {},
   "source": [
    "## Import only a specific method/function from a module:"
   ]
  },
  {
   "cell_type": "code",
   "execution_count": 7,
   "id": "d8a6a5b6",
   "metadata": {},
   "outputs": [],
   "source": [
    "from math import cos"
   ]
  },
  {
   "cell_type": "code",
   "execution_count": 8,
   "id": "e4f3ba42",
   "metadata": {},
   "outputs": [
    {
     "data": {
      "text/plain": [
       "<function math.cos(x, /)>"
      ]
     },
     "execution_count": 8,
     "metadata": {},
     "output_type": "execute_result"
    }
   ],
   "source": [
    "cos"
   ]
  },
  {
   "cell_type": "code",
   "execution_count": 9,
   "id": "48833fc0",
   "metadata": {},
   "outputs": [
    {
     "data": {
      "text/plain": [
       "0.15425144988758405"
      ]
     },
     "execution_count": 9,
     "metadata": {},
     "output_type": "execute_result"
    }
   ],
   "source": [
    "cos(30)"
   ]
  },
  {
   "cell_type": "code",
   "execution_count": 10,
   "id": "c0284b08",
   "metadata": {},
   "outputs": [],
   "source": [
    "#What about multiple specific imports from a module?"
   ]
  },
  {
   "cell_type": "code",
   "execution_count": 11,
   "id": "130c54e3",
   "metadata": {},
   "outputs": [],
   "source": [
    "from math import sin, tan"
   ]
  },
  {
   "cell_type": "code",
   "execution_count": 12,
   "id": "3069f49f",
   "metadata": {},
   "outputs": [
    {
     "data": {
      "text/plain": [
       "-1.995200412208242"
      ]
     },
     "execution_count": 12,
     "metadata": {},
     "output_type": "execute_result"
    }
   ],
   "source": [
    "tan(90)"
   ]
  },
  {
   "cell_type": "code",
   "execution_count": 13,
   "id": "9e5619e5",
   "metadata": {},
   "outputs": [
    {
     "data": {
      "text/plain": [
       "0.4121184852417566"
      ]
     },
     "execution_count": 13,
     "metadata": {},
     "output_type": "execute_result"
    }
   ],
   "source": [
    "sin(9)"
   ]
  },
  {
   "cell_type": "code",
   "execution_count": 18,
   "id": "2016cfef",
   "metadata": {},
   "outputs": [],
   "source": [
    "from math import factorial as fact"
   ]
  },
  {
   "cell_type": "code",
   "execution_count": 19,
   "id": "56be38e0",
   "metadata": {},
   "outputs": [
    {
     "data": {
      "text/plain": [
       "120"
      ]
     },
     "execution_count": 19,
     "metadata": {},
     "output_type": "execute_result"
    }
   ],
   "source": [
    "fact(5)"
   ]
  },
  {
   "cell_type": "code",
   "execution_count": 20,
   "id": "90005957",
   "metadata": {},
   "outputs": [],
   "source": [
    "## You will see importing specific modules form package/library.\n",
    "#ex: import package.module\n",
    "\n",
    "import matplotlib.pyplot as plt"
   ]
  },
  {
   "cell_type": "code",
   "execution_count": 22,
   "id": "f9eb579e",
   "metadata": {},
   "outputs": [
    {
     "name": "stdout",
     "output_type": "stream",
     "text": [
      "range(1, 20)\n",
      "[1, 4, 9, 16, 25, 36, 49, 64, 81, 100, 121, 144, 169, 196, 225, 256, 289, 324, 361]\n"
     ]
    }
   ],
   "source": [
    "x = range(1,20)\n",
    "y = [n**2 for n in x]\n",
    "print(x)\n",
    "print(y)"
   ]
  },
  {
   "cell_type": "code",
   "execution_count": 23,
   "id": "16c5f511",
   "metadata": {},
   "outputs": [
    {
     "data": {
      "text/plain": [
       "<matplotlib.collections.PathCollection at 0x7fba0b706970>"
      ]
     },
     "execution_count": 23,
     "metadata": {},
     "output_type": "execute_result"
    },
    {
     "data": {
      "image/png": "[encoded data removed]",
      "text/plain": [
       "<Figure size 432x288 with 1 Axes>"
      ]
     },
     "metadata": {
      "needs_background": "light"
     },
     "output_type": "display_data"
    }
   ],
   "source": [
    "plt.scatter(x,y)"
   ]
  },
  {
   "cell_type": "markdown",
   "id": "f9aef7bb",
   "metadata": {},
   "source": [
    "## How to import our own code modules\n",
    "-Step 1: Write a .py script and save a folder\n",
    "\n",
    "-Step 2: Create another .py or .ipynb in same folder\n",
    "\n",
    "-Step 3: In new file, import the .py module (example: import module_name (no need adding .py))"
   ]
  },
  {
   "cell_type": "code",
   "execution_count": 24,
   "id": "6e8e6af5",
   "metadata": {},
   "outputs": [
    {
     "ename": "ModuleNotFoundError",
     "evalue": "No module named 'import_example'",
     "output_type": "error",
     "traceback": [
      "\u001b[0;31m---------------------------------------------------------------------------\u001b[0m",
      "\u001b[0;31mModuleNotFoundError\u001b[0m                       Traceback (most recent call last)",
      "\u001b[0;32m/var/folders/d3/11nygz6126ndxvtrp12687680000gn/T/ipykernel_3444/509195743.py\u001b[0m in \u001b[0;36m<module>\u001b[0;34m\u001b[0m\n\u001b[0;32m----> 1\u001b[0;31m \u001b[0;32mimport\u001b[0m \u001b[0mimport_example\u001b[0m\u001b[0;34m\u001b[0m\u001b[0;34m\u001b[0m\u001b[0m\n\u001b[0m",
      "\u001b[0;31mModuleNotFoundError\u001b[0m: No module named 'import_example'"
     ]
    }
   ],
   "source": []
  },
  {
   "cell_type": "code",
   "execution_count": null,
   "id": "3be73136",
   "metadata": {},
   "outputs": [],
   "source": []
  }
 ],
 "metadata": {
  "kernelspec": {
   "display_name": "Python 3 (ipykernel)",
   "language": "python",
   "name": "python3"
  },
  "language_info": {
   "codemirror_mode": {
    "name": "ipython",
    "version": 3
   },
   "file_extension": ".py",
   "mimetype": "text/x-python",
   "name": "python",
   "nbconvert_exporter": "python",
   "pygments_lexer": "ipython3",
   "version": "3.9.7"
  }
 },
 "nbformat": 4,
 "nbformat_minor": 5
}
