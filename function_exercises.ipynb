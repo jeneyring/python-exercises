{
 "cells": [
  {
   "cell_type": "markdown",
   "id": "a8aa0f7e",
   "metadata": {},
   "source": [
    "# Python Function Exercises\n",
    "\n",
    "\n",
    "\n",
    "### 1) Define a function named is_two. \n",
    "#### It should accept one input and return True if the passed input is either the number or the string 2, False otherwise."
   ]
  },
  {
   "cell_type": "code",
   "execution_count": 51,
   "id": "ec670040",
   "metadata": {},
   "outputs": [],
   "source": [
    "#function will accept string form or digit form of 2 and return True or False\n",
    "\n",
    "def is_two(n):\n",
    "    #check that the submission is equal to 'two' or 2\n",
    "    if n == 'two' or n == '2' or n == 2:\n",
    "        #create a boolean return\n",
    "        return True\n",
    "    else:\n",
    "        return False"
   ]
  },
  {
   "cell_type": "code",
   "execution_count": 123,
   "id": "47ed1cb3",
   "metadata": {},
   "outputs": [
    {
     "name": "stdout",
     "output_type": "stream",
     "text": [
      "True\n"
     ]
    }
   ],
   "source": [
    "print(is_two(2))"
   ]
  },
  {
   "cell_type": "code",
   "execution_count": 124,
   "id": "30e1c3f6",
   "metadata": {},
   "outputs": [],
   "source": [
    "## class example:\n",
    "\n",
    "def is_two(n):\n",
    "    return n == 2 or n == '2'"
   ]
  },
  {
   "cell_type": "code",
   "execution_count": 125,
   "id": "be197a76",
   "metadata": {},
   "outputs": [
    {
     "data": {
      "text/plain": [
       "False"
      ]
     },
     "execution_count": 125,
     "metadata": {},
     "output_type": "execute_result"
    }
   ],
   "source": [
    "is_two(3)"
   ]
  },
  {
   "cell_type": "markdown",
   "id": "4377a734",
   "metadata": {},
   "source": [
    "### 2) Define a function named is_vowel. \n",
    "#### It should return True if the passed string is a vowel, False otherwise"
   ]
  },
  {
   "cell_type": "code",
   "execution_count": 61,
   "id": "4c255f66",
   "metadata": {},
   "outputs": [],
   "source": [
    "# is_vowel check that is a passed letter is a vowel or not\n",
    "\n",
    "def is_vowel(strg):\n",
    "    #set up a list where letter (aka strg) can be compared to lower and upper case vowels\n",
    "    if strg in ['A','a','E','e','I','i','O','o','U','u']:\n",
    "        #set up return to be boolean\n",
    "        return True\n",
    "    else:\n",
    "        return False"
   ]
  },
  {
   "cell_type": "code",
   "execution_count": 60,
   "id": "e3ff52f3",
   "metadata": {},
   "outputs": [
    {
     "name": "stdout",
     "output_type": "stream",
     "text": [
      "False\n"
     ]
    }
   ],
   "source": [
    "print(is_vowel('d'))"
   ]
  },
  {
   "cell_type": "code",
   "execution_count": 126,
   "id": "22e1361a",
   "metadata": {},
   "outputs": [],
   "source": [
    "## class example:\n",
    "\n",
    "def is_vowel(somestring):\n",
    "    if type(somestring) == str:\n",
    "        result = somestring.lower()in ['a','e','i','o','u']\n",
    "        return result\n",
    "    else:\n",
    "        False"
   ]
  },
  {
   "cell_type": "code",
   "execution_count": 132,
   "id": "9788bfcc",
   "metadata": {},
   "outputs": [
    {
     "data": {
      "text/plain": [
       "False"
      ]
     },
     "execution_count": 132,
     "metadata": {},
     "output_type": "execute_result"
    }
   ],
   "source": [
    "is_vowel('2')"
   ]
  },
  {
   "cell_type": "markdown",
   "id": "deb56e38",
   "metadata": {},
   "source": [
    "### 3) Define a function named is_consonant. \n",
    "#### It should return True if the passed string is a consonant, False otherwise. Use your is_vowel function to accomplish this."
   ]
  },
  {
   "cell_type": "code",
   "execution_count": 62,
   "id": "e4a6d968",
   "metadata": {},
   "outputs": [],
   "source": [
    "#is_consonant sees if passed letter is a consonant or not, using the function is_vowel\n",
    "\n",
    "def is_consonant(strg):\n",
    "    #we use the function is_vowel to simplify this process (and not write out all consonants)\n",
    "    if is_vowel(strg):\n",
    "        #set up return as boolean values\n",
    "        return False\n",
    "    else:\n",
    "        return True\n",
    "        "
   ]
  },
  {
   "cell_type": "code",
   "execution_count": 83,
   "id": "b598a61c",
   "metadata": {},
   "outputs": [
    {
     "name": "stdout",
     "output_type": "stream",
     "text": [
      "True\n"
     ]
    }
   ],
   "source": [
    "print(is_consonant('d'))"
   ]
  },
  {
   "cell_type": "code",
   "execution_count": 136,
   "id": "871ba727",
   "metadata": {},
   "outputs": [],
   "source": [
    "#class example:\n",
    "\n",
    "def is_consonant(somestring):\n",
    "    if type(somestring)== str:\n",
    "        only_letters = somestring.isalpha()\n",
    "        return only_letters and not is_vowel(somestring)\n",
    "    return False"
   ]
  },
  {
   "cell_type": "code",
   "execution_count": 138,
   "id": "9eebe00f",
   "metadata": {},
   "outputs": [
    {
     "data": {
      "text/plain": [
       "False"
      ]
     },
     "execution_count": 138,
     "metadata": {},
     "output_type": "execute_result"
    }
   ],
   "source": [
    "is_consonant('@')"
   ]
  },
  {
   "cell_type": "markdown",
   "id": "e3caccfb",
   "metadata": {},
   "source": [
    "### 4) Define a function that accepts a string that is a word. \n",
    "#### The function should capitalize the first letter of the word if the word starts with a consonant."
   ]
  },
  {
   "cell_type": "code",
   "execution_count": 70,
   "id": "7b3259b3",
   "metadata": {},
   "outputs": [],
   "source": [
    "#cap_letter will capitilize the passed string ONLY if it begins with a consonant, using function is_consonant\n",
    "\n",
    "def cap_letter(message):\n",
    "    #conditions are set so that our string (aka message) checks if the first letter (position[0]) meets is_consonant\n",
    "    if is_consonant(message[0]):\n",
    "        #using the capitalize method to caps the first letter of string\n",
    "        return message.capitalize()"
   ]
  },
  {
   "cell_type": "code",
   "execution_count": 109,
   "id": "8090fac4",
   "metadata": {},
   "outputs": [
    {
     "name": "stdout",
     "output_type": "stream",
     "text": [
      "The fox is small\n"
     ]
    }
   ],
   "source": [
    "print(cap_letter(\"the fox is small\"))"
   ]
  },
  {
   "cell_type": "code",
   "execution_count": 140,
   "id": "af63fe84",
   "metadata": {},
   "outputs": [],
   "source": [
    "#class example:\n",
    "\n",
    "def cap_letter(string):\n",
    "    if type(string)!= str:\n",
    "        return False\n",
    "    first_letter = string[0]\n",
    "    if is_consonant(first_letter):\n",
    "        string = string.capitalize()\n",
    "    return string"
   ]
  },
  {
   "cell_type": "code",
   "execution_count": 144,
   "id": "57f9bfb8",
   "metadata": {},
   "outputs": [
    {
     "data": {
      "text/plain": [
       "'Bubba'"
      ]
     },
     "execution_count": 144,
     "metadata": {},
     "output_type": "execute_result"
    }
   ],
   "source": [
    "cap_letter('Bubba')"
   ]
  },
  {
   "cell_type": "markdown",
   "id": "4bd3c896",
   "metadata": {},
   "source": [
    "### 5) Define a function named calculate_tip. \n",
    "#### It should accept a tip percentage (a number between 0 and 1) and the bill total, and return the amount to tip."
   ]
  },
  {
   "cell_type": "code",
   "execution_count": 85,
   "id": "e15e4bd6",
   "metadata": {},
   "outputs": [],
   "source": [
    "#calculate_tip takes in the tip percentage and bill total to determine the amount to tip\n",
    "\n",
    "def calculate_tip(tip, total):\n",
    "    #using the bill total mulitplied by the tip % to show the amount of tip needed to be paid\n",
    "    return total * tip"
   ]
  },
  {
   "cell_type": "code",
   "execution_count": 86,
   "id": "07b99470",
   "metadata": {},
   "outputs": [
    {
     "name": "stdout",
     "output_type": "stream",
     "text": [
      "4.5\n"
     ]
    }
   ],
   "source": [
    "print(calculate_tip(.15, 30))"
   ]
  },
  {
   "cell_type": "code",
   "execution_count": 146,
   "id": "54aaf45b",
   "metadata": {},
   "outputs": [],
   "source": [
    "#class example:\n",
    "\n",
    "def calculate_tip(bill, tip_percentage=0.2):\n",
    "    if type(tip_percentage) != float:\n",
    "        return False\n",
    "    if tip_percentage < 0 or tip_percentage > 1:\n",
    "        return 'the tip percentage mus be between 0 and 1'\n",
    "    return tip_percentage * bill"
   ]
  },
  {
   "cell_type": "code",
   "execution_count": 147,
   "id": "b0ae537c",
   "metadata": {},
   "outputs": [
    {
     "data": {
      "text/plain": [
       "2.0"
      ]
     },
     "execution_count": 147,
     "metadata": {},
     "output_type": "execute_result"
    }
   ],
   "source": [
    "calculate_tip(10)"
   ]
  },
  {
   "cell_type": "markdown",
   "id": "845e9baa",
   "metadata": {},
   "source": [
    "### 6) Define a function named apply_discount. \n",
    "#### It should accept a original price, and a discount percentage, and return the price after the discount is applied."
   ]
  },
  {
   "cell_type": "code",
   "execution_count": 87,
   "id": "0306a567",
   "metadata": {},
   "outputs": [],
   "source": [
    "#apply_discount takes in the original price of an object and the discount % to determine the total amount paid after discount\n",
    "\n",
    "def apply_discount(og_price, discount):\n",
    "    #we first get the discounted price by subtracting the discount % from one, then multiply this percentage to og price\n",
    "    return og_price * (1- discount)"
   ]
  },
  {
   "cell_type": "code",
   "execution_count": 88,
   "id": "910db784",
   "metadata": {},
   "outputs": [
    {
     "name": "stdout",
     "output_type": "stream",
     "text": [
      "60.0\n"
     ]
    }
   ],
   "source": [
    "print(apply_discount(80,.25))"
   ]
  },
  {
   "cell_type": "markdown",
   "id": "c2f743e5",
   "metadata": {},
   "source": [
    "### 7) Define a function named handle_commas. \n",
    "#### It should accept a string that is a number that contains commas in it as input, and return a number as output."
   ]
  },
  {
   "cell_type": "code",
   "execution_count": 91,
   "id": "eac9d86b",
   "metadata": {},
   "outputs": [],
   "source": [
    "#handle_commas will replace any submitted number that holds a comma, and return number sans commas\n",
    "\n",
    "def handle_commas(number):\n",
    "    #we use the replace method to find any commas and replace with ''\n",
    "    number = number.replace(',', '')\n",
    "    return number\n",
    "    "
   ]
  },
  {
   "cell_type": "code",
   "execution_count": 92,
   "id": "a56db690",
   "metadata": {},
   "outputs": [
    {
     "name": "stdout",
     "output_type": "stream",
     "text": [
      "1000\n"
     ]
    }
   ],
   "source": [
    "print(handle_commas(\"1,000\"))"
   ]
  },
  {
   "cell_type": "markdown",
   "id": "ca3a1bb1",
   "metadata": {},
   "source": [
    "### 8) Define a function named get_letter_grade. \n",
    "#### It should accept a number and return the letter grade associated with that number (A-F)."
   ]
  },
  {
   "cell_type": "code",
   "execution_count": 157,
   "id": "b6c25a1e",
   "metadata": {},
   "outputs": [],
   "source": [
    "#get_letter_grade will accept a number and then return the letter grade associated with the number\n",
    "\n",
    "def get_letter_grade(num):\n",
    "    \n",
    "    #using if and else conditions, we create groups of what number grade range will equal in letter grade terms\n",
    "    \n",
    "    if type(num) == int or type(num)== float:\n",
    "        \n",
    "        if num>87 and num<101:\n",
    "            print('A')\n",
    "\n",
    "        elif num>79 and num<88:\n",
    "            print('B') \n",
    "\n",
    "        elif num>66 and num<80:\n",
    "            print('C')\n",
    "\n",
    "        elif num>59 and num<67:\n",
    "            print('D')\n",
    "        \n",
    "        elif num>=0 and num<60:\n",
    "            print('F')\n",
    "\n",
    "    else:\n",
    "        print('Please print your grade as a number.')\n",
    "    \n",
    "\n",
    "    "
   ]
  },
  {
   "cell_type": "code",
   "execution_count": 96,
   "id": "08851ab1",
   "metadata": {},
   "outputs": [
    {
     "name": "stdout",
     "output_type": "stream",
     "text": [
      "B\n",
      "85\n"
     ]
    }
   ],
   "source": [
    "print(get_letter_grade(85))"
   ]
  },
  {
   "cell_type": "markdown",
   "id": "46bdaf49",
   "metadata": {},
   "source": [
    "### 9) Define a function named remove_vowels that accepts a string and returns a string with all the vowels removed."
   ]
  },
  {
   "cell_type": "code",
   "execution_count": 74,
   "id": "aab4a6fb",
   "metadata": {},
   "outputs": [],
   "source": [
    "#remove_vowels will take in a words/string \n",
    "\n",
    "def remove_vowels(words):\n",
    "    vowels = [\"a\",\"e\",\"i\",\"o\",\"u\"]\n",
    "    result = [word for word in words if word.lower() not in vowels]\n",
    "    result = ''.join(result)\n",
    "    return(result)\n",
    "    "
   ]
  },
  {
   "cell_type": "code",
   "execution_count": 75,
   "id": "7118c002",
   "metadata": {},
   "outputs": [
    {
     "name": "stdout",
     "output_type": "stream",
     "text": [
      "BNn\n"
     ]
    }
   ],
   "source": [
    "print(remove_vowels('BaNanA'))"
   ]
  },
  {
   "cell_type": "markdown",
   "id": "b5e3a6e0",
   "metadata": {},
   "source": [
    "### 10) Define a function named normalize_name. \n",
    "#### It should accept a string and return a valid python identifier, that is:\n",
    "##### -anything that is not a valid python identifier should be removed\n",
    "##### -leading and trailing whitespace should be removed\n",
    "##### -everything should be lowercase\n",
    "##### -spaces should be replaced with underscores"
   ]
  },
  {
   "cell_type": "code",
   "execution_count": 80,
   "id": "1fdd2032",
   "metadata": {},
   "outputs": [],
   "source": [
    "def normalize_name(name):\n",
    "    ###add in deletion of symbols\n",
    "    submit=(name)\n",
    "    return name.lower().strip().replace(' ','_')"
   ]
  },
  {
   "cell_type": "code",
   "execution_count": 81,
   "id": "170d0807",
   "metadata": {},
   "outputs": [
    {
     "name": "stdout",
     "output_type": "stream",
     "text": [
      "ama_nda\n"
     ]
    }
   ],
   "source": [
    "print(normalize_name(\" Ama nda \"))"
   ]
  },
  {
   "cell_type": "markdown",
   "id": "11bdc70e",
   "metadata": {},
   "source": [
    "### 11) Write a function named cumulative_sum that accepts a list of numbers and returns a list that is the cumulative sum of the numbers in the list."
   ]
  },
  {
   "cell_type": "code",
   "execution_count": 46,
   "id": "5d6db81c",
   "metadata": {},
   "outputs": [],
   "source": [
    "def cumulative_sum(num1, num2, num3):\n",
    "    csum= [num1, num1 + num2, num1 + num2 + num3]\n",
    "    return csum"
   ]
  },
  {
   "cell_type": "code",
   "execution_count": 47,
   "id": "d60bb66b",
   "metadata": {},
   "outputs": [
    {
     "data": {
      "text/plain": [
       "[1, 3, 6]"
      ]
     },
     "execution_count": 47,
     "metadata": {},
     "output_type": "execute_result"
    }
   ],
   "source": [
    "cumulative_sum(1,2,3)"
   ]
  },
  {
   "cell_type": "markdown",
   "id": "abac9495",
   "metadata": {},
   "source": [
    "### BONUS ROUND:\n",
    "### 1) Create a function named twelveto24. \n",
    "#### It should accept a string in the format 10:45am or 4:30pm \n",
    "#### and return a string that is the representation of the time in a 24-hour format. \n",
    "##### **Bonus write a function that does the opposite."
   ]
  },
  {
   "cell_type": "code",
   "execution_count": 120,
   "id": "fd23f831",
   "metadata": {},
   "outputs": [
    {
     "name": "stdout",
     "output_type": "stream",
     "text": [
      "23:05:45\n"
     ]
    }
   ],
   "source": [
    "# found via stackover flow\n",
    "#look up \"slicing syntax\"\n",
    "\n",
    "#finding a 24-hour format with submission of (HH:MM:SSPM/AM)\n",
    "a=''\n",
    "def twelveto24(s):\n",
    "    if s[-2:] == \"AM\" :\n",
    "        if s[:2] == '12':\n",
    "            a = str('00' + s[2:8])\n",
    "    else:\n",
    "            a = s[:-2]\n",
    "        \n",
    "    if s[:2] == '12':\n",
    "            a = s[:-2]\n",
    "    else:\n",
    "            a = str(int(s[:2]) + 12) + s[2:8]\n",
    "    return a\n",
    "\n",
    "\n",
    "s = '11:05:45AM'\n",
    "result = twelveto24(s)\n",
    "print(result)"
   ]
  },
  {
   "cell_type": "code",
   "execution_count": 122,
   "id": "063fb075",
   "metadata": {},
   "outputs": [
    {
     "name": "stdout",
     "output_type": "stream",
     "text": [
      "12:00:20\n"
     ]
    }
   ],
   "source": [
    "print(twelveto24('12:00:20PM'))"
   ]
  },
  {
   "cell_type": "code",
   "execution_count": null,
   "id": "41251ce3",
   "metadata": {},
   "outputs": [],
   "source": [
    "# slicing exampl\n",
    "string = 'banana'\n"
   ]
  }
 ],
 "metadata": {
  "kernelspec": {
   "display_name": "Python 3 (ipykernel)",
   "language": "python",
   "name": "python3"
  },
  "language_info": {
   "codemirror_mode": {
    "name": "ipython",
    "version": 3
   },
   "file_extension": ".py",
   "mimetype": "text/x-python",
   "name": "python",
   "nbconvert_exporter": "python",
   "pygments_lexer": "ipython3",
   "version": "3.9.7"
  }
 },
 "nbformat": 4,
 "nbformat_minor": 5
}
