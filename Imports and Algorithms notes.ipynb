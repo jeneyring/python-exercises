{
 "cells": [
  {
   "cell_type": "markdown",
   "id": "e02d9417",
   "metadata": {},
   "source": [
    "### INGREDIENTS FOR ALGORITHMS:\n"
   ]
  },
  {
   "cell_type": "markdown",
   "id": "7ed603a3",
   "metadata": {},
   "source": [
    "## The \"Big 3\" components of programming & Algorithm\n",
    "\n",
    "#### Algorithms CAN hold all 3 of these parts, some of these parts, or various versions of these parts:\n",
    "\n",
    "### Sequence: the order of our steps in an algorithm\n",
    "##### -The order of our code\n",
    "##### -Order of Operations (PEMDAS)\n",
    "##### -Order of logical operations (use parenthese to make your order of logical operations concrete)\n",
    "##### -Code runs from top to bottom\n",
    "##### -Functions (run(from(inside(out)))): ie. 'increment(increment(1)) == 2\n",
    "##### -Methods. run() from.() left.() to right: \n",
    "\n",
    "\n",
    "### Selection: deciding what to do based on the code\n",
    "### we are selecting what code runs and what does not\n",
    "\n",
    "##### -Conditions (if/else, if/elif/else)\n",
    "#### REAL WORLD EXAMPLES:"
   ]
  },
  {
   "cell_type": "code",
   "execution_count": null,
   "id": "f9c17745",
   "metadata": {},
   "outputs": [],
   "source": [
    "if stop_light == 'green':\n",
    "    proceed_safely()\n",
    "elif stop_light == 'red':\n",
    "    come_to_a_stop()\n",
    "elif stop_light == 'yellow':\n",
    "    if you_can_go_safely:\n",
    "        proceed()\n",
    "    else:\n",
    "        come_to_a_stop()\n",
    "else:\n",
    "    joy_ride()"
   ]
  },
  {
   "cell_type": "markdown",
   "id": "4edf311f",
   "metadata": {},
   "source": [
    "### When do you use a conditional like 'if'? \n",
    "##### -When you need the code to ask a questions \n",
    "##### - If you feel stuck and need code to check something \n",
    "##### - Beating heart of selection is boolean evaluation\n",
    "\n"
   ]
  },
  {
   "cell_type": "markdown",
   "id": "aab9a10f",
   "metadata": {},
   "source": [
    "### Iteration: to repeat something (code) over and over again.\n",
    "\n",
    "#### -while loop:\n",
    "#### (examples of while: potential for infinite loops/rejecting inputs that arent correct / video games/directional programming/etc.\n",
    "#### -for loop: usually used with iterating collections (ie. lists, dictionaries, string values, etc)"
   ]
  },
  {
   "cell_type": "code",
   "execution_count": 3,
   "id": "3c898065",
   "metadata": {},
   "outputs": [
    {
     "name": "stdout",
     "output_type": "stream",
     "text": [
      "3\n",
      "5\n"
     ]
    }
   ],
   "source": [
    "#examples:\n",
    "numbers = [1,2,3,4]\n",
    "n = 1\n",
    "for n in numbers:\n",
    "    if n % 2 == 0:\n",
    "        print(n + 1)"
   ]
  },
  {
   "cell_type": "markdown",
   "id": "f88950d9",
   "metadata": {},
   "source": [
    "### HOW TO SOLVE LOOPING PROBLEMS:\n",
    "##### ONE TRICK TO SOLVING LOOPING PROBLEMS== blow off the loop.\n",
    "#### WHY????\n",
    "##### 1) Simplify the problem .........2) Reducing cognitive overwhelm.........3) Emotionally, solving a simpler problem is good for morale."
   ]
  },
  {
   "cell_type": "code",
   "execution_count": null,
   "id": "a9af9690",
   "metadata": {},
   "outputs": [],
   "source": [
    "#Exercise:\n",
    "#What's the avg of all student grades?"
   ]
  },
  {
   "cell_type": "code",
   "execution_count": 1,
   "id": "26fa832d",
   "metadata": {},
   "outputs": [],
   "source": [
    "students = [\n",
    "    {\n",
    "        \"id\": \"100001\",\n",
    "        \"student\": \"Ada Lovelace\",\n",
    "        \"coffee_preference\": \"light\",\n",
    "        \"course\": \"web development\",\n",
    "        \"grades\": [70, 91, 82, 71],\n",
    "        \"pets\": [{\"species\": \"horse\", \"age\": 8}],\n",
    "    },\n",
    "    {\n",
    "        \"id\": \"100002\",\n",
    "        \"student\": \"Thomas Bayes\",\n",
    "        \"coffee_preference\": \"medium\",\n",
    "        \"course\": \"data science\",\n",
    "        \"grades\": [75, 73, 86, 100],\n",
    "        \"pets\": [],\n",
    "    },\n",
    "    {\n",
    "        \"id\": \"100003\",\n",
    "        \"student\": \"Marie Curie\",\n",
    "        \"coffee_preference\": \"light\",\n",
    "        \"course\": \"web development\",\n",
    "        \"grades\": [70, 89, 69, 65],\n",
    "        \"pets\": [{\"species\": \"cat\", \"age\": 0}],\n",
    "    },\n",
    "    {\n",
    "        \"id\": \"100004\",\n",
    "        \"student\": \"Grace Hopper\",\n",
    "        \"coffee_preference\": \"dark\",\n",
    "        \"course\": \"data science\",\n",
    "        \"grades\": [73, 66, 83, 92],\n",
    "        \"pets\": [{\"species\": \"dog\", \"age\": 4}, {\"species\": \"cat\", \"age\": 4}],\n",
    "    },\n",
    "    {\n",
    "        \"id\": \"100005\",\n",
    "        \"student\": \"Alan Turing\",\n",
    "        \"coffee_preference\": \"dark\",\n",
    "        \"course\": \"web development\",\n",
    "        \"grades\": [78, 98, 85, 65],\n",
    "        \"pets\": [\n",
    "            {\"species\": \"horse\", \"age\": 6},\n",
    "            {\"species\": \"horse\", \"age\": 7},\n",
    "            {\"species\": \"dog\", \"age\": 5},\n",
    "        ],\n",
    "    },\n",
    "    {\n",
    "        \"id\": \"100006\",\n",
    "        \"student\": \"Rosalind Franklin\",\n",
    "        \"coffee_preference\": \"dark\",\n",
    "        \"course\": \"data science\",\n",
    "        \"grades\": [76, 70, 96, 81],\n",
    "        \"pets\": [],\n",
    "    },\n",
    "    {\n",
    "        \"id\": \"100007\",\n",
    "        \"student\": \"Elizabeth Blackwell\",\n",
    "        \"coffee_preference\": \"dark\",\n",
    "        \"course\": \"web development\",\n",
    "        \"grades\": [69, 94, 89, 86],\n",
    "        \"pets\": [{\"species\": \"cat\", \"age\": 10}],\n",
    "    },\n",
    "    {\n",
    "        \"id\": \"100008\",\n",
    "        \"student\": \"Rene Descartes\",\n",
    "        \"coffee_preference\": \"medium\",\n",
    "        \"course\": \"data science\",\n",
    "        \"grades\": [87, 79, 90, 99],\n",
    "        \"pets\": [{\"species\": \"cat\", \"age\": 10}, {\"species\": \"cat\", \"age\": 8}],\n",
    "    },\n",
    "    {\n",
    "        \"id\": \"100009\",\n",
    "        \"student\": \"Ahmed Zewail\",\n",
    "        \"coffee_preference\": \"medium\",\n",
    "        \"course\": \"data science\",\n",
    "        \"grades\": [74, 99, 93, 89],\n",
    "        \"pets\": [{\"species\": \"cat\", \"age\": 0}, {\"species\": \"cat\", \"age\": 0}],\n",
    "    },\n",
    "    {\n",
    "        \"id\": \"100010\",\n",
    "        \"student\": \"Chien-Shiung Wu\",\n",
    "        \"coffee_preference\": \"medium\",\n",
    "        \"course\": \"web development\",\n",
    "        \"grades\": [82, 92, 91, 65],\n",
    "        \"pets\": [{\"species\": \"cat\", \"age\": 8}],\n",
    "    },\n",
    "    {\n",
    "        \"id\": \"100011\",\n",
    "        \"student\": \"William Sanford Nye\",\n",
    "        \"coffee_preference\": \"dark\",\n",
    "        \"course\": \"data science\",\n",
    "        \"grades\": [70, 92, 65, 99],\n",
    "        \"pets\": [{\"species\": \"cat\", \"age\": 8}, {\"species\": \"cat\", \"age\": 5}],\n",
    "    },\n",
    "    {\n",
    "        \"id\": \"100012\",\n",
    "        \"student\": \"Carl Sagan\",\n",
    "        \"coffee_preference\": \"medium\",\n",
    "        \"course\": \"data science\",\n",
    "        \"grades\": [100, 86, 91, 87],\n",
    "        \"pets\": [{\"species\": \"cat\", \"age\": 10}],\n",
    "    },\n",
    "    {\n",
    "        \"id\": \"100013\",\n",
    "        \"student\": \"Jane Goodall\",\n",
    "        \"coffee_preference\": \"light\",\n",
    "        \"course\": \"web development\",\n",
    "        \"grades\": [80, 70, 68, 98],\n",
    "        \"pets\": [{\"species\": \"horse\", \"age\": 4}],\n",
    "    },\n",
    "    {\n",
    "        \"id\": \"100014\",\n",
    "        \"student\": \"Richard Feynman\",\n",
    "        \"coffee_preference\": \"medium\",\n",
    "        \"course\": \"web development\",\n",
    "        \"grades\": [73, 99, 86, 98],\n",
    "        \"pets\": [{\"species\": \"dog\", \"age\": 6}],\n",
    "    },\n",
    "]"
   ]
  },
  {
   "cell_type": "code",
   "execution_count": 33,
   "id": "6cb9879e",
   "metadata": {},
   "outputs": [],
   "source": [
    "student = students[0]"
   ]
  },
  {
   "cell_type": "code",
   "execution_count": 8,
   "id": "29cd5383",
   "metadata": {},
   "outputs": [
    {
     "data": {
      "text/plain": [
       "[70, 91, 82, 71]"
      ]
     },
     "execution_count": 8,
     "metadata": {},
     "output_type": "execute_result"
    }
   ],
   "source": [
    "student['grades']"
   ]
  },
  {
   "cell_type": "code",
   "execution_count": 13,
   "id": "30c4d9ca",
   "metadata": {},
   "outputs": [],
   "source": [
    "all_grades=[]\n",
    "\n",
    "for grade in student['grades']:\n",
    "    all_grades.append(grade)"
   ]
  },
  {
   "cell_type": "code",
   "execution_count": 14,
   "id": "279ba3f4",
   "metadata": {},
   "outputs": [
    {
     "data": {
      "text/plain": [
       "[70, 91, 82, 71]"
      ]
     },
     "execution_count": 14,
     "metadata": {},
     "output_type": "execute_result"
    }
   ],
   "source": [
    "all_grades"
   ]
  },
  {
   "cell_type": "code",
   "execution_count": 15,
   "id": "18ae2696",
   "metadata": {},
   "outputs": [
    {
     "data": {
      "text/plain": [
       "78.5"
      ]
     },
     "execution_count": 15,
     "metadata": {},
     "output_type": "execute_result"
    }
   ],
   "source": [
    "sum(all_grades)/ len(all_grades)"
   ]
  },
  {
   "cell_type": "code",
   "execution_count": 34,
   "id": "582489ef",
   "metadata": {},
   "outputs": [
    {
     "data": {
      "text/plain": [
       "82.92857142857143"
      ]
     },
     "execution_count": 34,
     "metadata": {},
     "output_type": "execute_result"
    }
   ],
   "source": [
    "#Now let's apply to all students\n",
    "\n",
    "all_grades=[]\n",
    "\n",
    "for student in students:\n",
    "    for grade in student ['grades']:\n",
    "        all_grades.append(grade)\n",
    "        \n",
    "sum(all_grades)/len(all_grades)"
   ]
  },
  {
   "cell_type": "code",
   "execution_count": 3,
   "id": "a7c3be44",
   "metadata": {},
   "outputs": [
    {
     "data": {
      "text/plain": [
       "9"
      ]
     },
     "execution_count": 3,
     "metadata": {},
     "output_type": "execute_result"
    }
   ],
   "source": [
    "#Count the number of pets from data science students from above data.\n",
    "\n",
    "#Step 1? Blow off the loop...\n",
    "\n",
    "#Step 2: Set a single variable for first thing on list:\n",
    "student = students[0]\n",
    "\n",
    "#Step 3: determine the sequence to solve the problem for single student\n",
    "#note: good place to begin is use a counter when counting\n",
    "number_of_pets = 0\n",
    "\n",
    "#now let's ask a question -- is this a data science student?\n",
    "for student in students:\n",
    "    if student['course']=='data science':\n",
    "        number_of_pets += len(student['pets'])\n",
    "    \n",
    "number_of_pets #because the student is NOT in data science...."
   ]
  },
  {
   "cell_type": "code",
   "execution_count": 44,
   "id": "3cd84e78",
   "metadata": {},
   "outputs": [
    {
     "data": {
      "text/plain": [
       "1"
      ]
     },
     "execution_count": 44,
     "metadata": {},
     "output_type": "execute_result"
    }
   ],
   "source": []
  },
  {
   "cell_type": "code",
   "execution_count": null,
   "id": "de91346e",
   "metadata": {},
   "outputs": [],
   "source": []
  }
 ],
 "metadata": {
  "kernelspec": {
   "display_name": "Python 3 (ipykernel)",
   "language": "python",
   "name": "python3"
  },
  "language_info": {
   "codemirror_mode": {
    "name": "ipython",
    "version": 3
   },
   "file_extension": ".py",
   "mimetype": "text/x-python",
   "name": "python",
   "nbconvert_exporter": "python",
   "pygments_lexer": "ipython3",
   "version": "3.9.7"
  }
 },
 "nbformat": 4,
 "nbformat_minor": 5
}
