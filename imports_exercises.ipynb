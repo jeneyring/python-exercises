{
 "cells": [
  {
   "cell_type": "markdown",
   "id": "91a192fc",
   "metadata": {},
   "source": [
    "### 1) Import and test 3 of the functions from your functions exercise file. Import each function in a different way:"
   ]
  },
  {
   "cell_type": "markdown",
   "id": "edfd560d",
   "metadata": {},
   "source": [
    "### a) Run an interactive python session and import the module. Call the is_vowel function using the . syntax."
   ]
  },
  {
   "cell_type": "code",
   "execution_count": 2,
   "id": "e7d020e7",
   "metadata": {},
   "outputs": [],
   "source": [
    "from function_exercises import get_letter_grade"
   ]
  },
  {
   "cell_type": "markdown",
   "id": "77fdeba9",
   "metadata": {},
   "source": [
    "### 2) Read about and use the itertools module from the python standard library to help you solve the following problems:"
   ]
  },
  {
   "cell_type": "markdown",
   "id": "a2b0febf",
   "metadata": {},
   "source": [
    "#### a) How many different ways can you combine the letters from \"abc\" with the numbers 1, 2, and 3?"
   ]
  },
  {
   "cell_type": "code",
   "execution_count": 6,
   "id": "6826830d",
   "metadata": {},
   "outputs": [],
   "source": [
    "import itertools"
   ]
  },
  {
   "cell_type": "code",
   "execution_count": 9,
   "id": "d86fd013",
   "metadata": {},
   "outputs": [],
   "source": [
    "from itertools import combinations as combo"
   ]
  },
  {
   "cell_type": "code",
   "execution_count": 31,
   "id": "98153bb5",
   "metadata": {},
   "outputs": [
    {
     "name": "stdout",
     "output_type": "stream",
     "text": [
      "[('a', 'b'), ('a', 'c'), ('b', 'c')]\n",
      "[(1, 2), (1, 3), (2, 3)]\n"
     ]
    }
   ],
   "source": [
    "def combine(dict, i): \n",
    "    return list(combo(dict,i))\n",
    "dictA = {\n",
    "    1: 'a',\n",
    "    2: 'b',\n",
    "    3: 'c',\n",
    "} \n",
    "set = 2\n",
    "print(combine(dictA.values(), set))\n",
    "print(combine(dictA, set))\n",
    "\n"
   ]
  },
  {
   "cell_type": "code",
   "execution_count": 35,
   "id": "cd55ee97",
   "metadata": {},
   "outputs": [],
   "source": [
    "from itertools import product as pd"
   ]
  },
  {
   "cell_type": "code",
   "execution_count": 43,
   "id": "4eba6595",
   "metadata": {},
   "outputs": [
    {
     "data": {
      "text/plain": [
       "<itertools.product at 0x7fbead430fc0>"
      ]
     },
     "execution_count": 43,
     "metadata": {},
     "output_type": "execute_result"
    }
   ],
   "source": [
    "pd(['a','b','c'],[1,2,3])"
   ]
  },
  {
   "cell_type": "code",
   "execution_count": 44,
   "id": "3b9acc9e",
   "metadata": {},
   "outputs": [
    {
     "data": {
      "text/plain": [
       "[('a', 1),\n",
       " ('a', 2),\n",
       " ('a', 3),\n",
       " ('b', 1),\n",
       " ('b', 2),\n",
       " ('b', 3),\n",
       " ('c', 1),\n",
       " ('c', 2),\n",
       " ('c', 3)]"
      ]
     },
     "execution_count": 44,
     "metadata": {},
     "output_type": "execute_result"
    }
   ],
   "source": [
    "list(pd(['a','b','c'],[1,2,3]))"
   ]
  },
  {
   "cell_type": "code",
   "execution_count": null,
   "id": "eb03f691",
   "metadata": {},
   "outputs": [],
   "source": []
  }
 ],
 "metadata": {
  "kernelspec": {
   "display_name": "Python 3 (ipykernel)",
   "language": "python",
   "name": "python3"
  },
  "language_info": {
   "codemirror_mode": {
    "name": "ipython",
    "version": 3
   },
   "file_extension": ".py",
   "mimetype": "text/x-python",
   "name": "python",
   "nbconvert_exporter": "python",
   "pygments_lexer": "ipython3",
   "version": "3.9.7"
  }
 },
 "nbformat": 4,
 "nbformat_minor": 5
}
