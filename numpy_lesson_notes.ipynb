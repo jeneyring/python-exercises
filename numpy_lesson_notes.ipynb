{
 "cells": [
  {
   "cell_type": "markdown",
   "id": "b932d386",
   "metadata": {},
   "source": [
    "### NUMPY"
   ]
  },
  {
   "cell_type": "markdown",
   "id": "53c7f8dc",
   "metadata": {},
   "source": [
    "-a library for representing with working with large arrays. \n",
    "-provides useful tools for programming.\n",
    "-great to use for consistent computed data."
   ]
  },
  {
   "cell_type": "code",
   "execution_count": 6,
   "id": "e4cc293d",
   "metadata": {},
   "outputs": [],
   "source": [
    "#Ex:\n",
    "import numpy as np"
   ]
  },
  {
   "cell_type": "markdown",
   "id": "2981dddc",
   "metadata": {},
   "source": [
    "### Indexing\n",
    "#### We can create a numpy array by passing a list ot the np.array function:"
   ]
  },
  {
   "cell_type": "code",
   "execution_count": 7,
   "id": "8544a8d5",
   "metadata": {},
   "outputs": [],
   "source": [
    "a=np.array([1,2,3])"
   ]
  },
  {
   "cell_type": "code",
   "execution_count": 8,
   "id": "b086280f",
   "metadata": {},
   "outputs": [
    {
     "data": {
      "text/plain": [
       "array([1, 2, 3])"
      ]
     },
     "execution_count": 8,
     "metadata": {},
     "output_type": "execute_result"
    }
   ],
   "source": [
    "a"
   ]
  },
  {
   "cell_type": "code",
   "execution_count": 9,
   "id": "c99288db",
   "metadata": {},
   "outputs": [
    {
     "name": "stdout",
     "output_type": "stream",
     "text": [
      "[1 2 3]\n"
     ]
    }
   ],
   "source": [
    "print(a)"
   ]
  },
  {
   "cell_type": "markdown",
   "id": "41ca726d",
   "metadata": {},
   "source": [
    "#### We can create a multi-dimen. array by passing a list of lists to the array function:"
   ]
  },
  {
   "cell_type": "code",
   "execution_count": 10,
   "id": "18840fb1",
   "metadata": {},
   "outputs": [],
   "source": [
    "matrix = np.array([[1,2,3],[4,5,6],[7,8,9]])"
   ]
  },
  {
   "cell_type": "code",
   "execution_count": 11,
   "id": "b8b54a86",
   "metadata": {},
   "outputs": [
    {
     "data": {
      "text/plain": [
       "array([[1, 2, 3],\n",
       "       [4, 5, 6],\n",
       "       [7, 8, 9]])"
      ]
     },
     "execution_count": 11,
     "metadata": {},
     "output_type": "execute_result"
    }
   ],
   "source": [
    "matrix"
   ]
  },
  {
   "cell_type": "code",
   "execution_count": 12,
   "id": "7f1c4138",
   "metadata": {},
   "outputs": [
    {
     "name": "stdout",
     "output_type": "stream",
     "text": [
      "[[1 2 3]\n",
      " [4 5 6]\n",
      " [7 8 9]]\n"
     ]
    }
   ],
   "source": [
    "print(matrix)"
   ]
  },
  {
   "cell_type": "markdown",
   "id": "a86f1577",
   "metadata": {},
   "source": [
    "##referencing elements in numpy arrays at the basic is the smae as referencing elements in python lists."
   ]
  },
  {
   "cell_type": "code",
   "execution_count": 13,
   "id": "d105a171",
   "metadata": {},
   "outputs": [
    {
     "data": {
      "text/plain": [
       "1"
      ]
     },
     "execution_count": 13,
     "metadata": {},
     "output_type": "execute_result"
    }
   ],
   "source": [
    "a[0]"
   ]
  },
  {
   "cell_type": "code",
   "execution_count": 14,
   "id": "b97699c4",
   "metadata": {},
   "outputs": [
    {
     "name": "stdout",
     "output_type": "stream",
     "text": [
      "[1 2 3]\n"
     ]
    }
   ],
   "source": [
    "print(a)"
   ]
  },
  {
   "cell_type": "markdown",
   "id": "29928d37",
   "metadata": {},
   "source": [
    "How do you pull out things from multidimensions array (nested lists), \n",
    "#example: to get element at the second column in second row:\n",
    "        "
   ]
  },
  {
   "cell_type": "code",
   "execution_count": 16,
   "id": "ad92ab4c",
   "metadata": {},
   "outputs": [
    {
     "data": {
      "text/plain": [
       "5"
      ]
     },
     "execution_count": 16,
     "metadata": {},
     "output_type": "execute_result"
    }
   ],
   "source": [
    "matrix[1,1]"
   ]
  },
  {
   "cell_type": "code",
   "execution_count": 18,
   "id": "86d3e5b1",
   "metadata": {},
   "outputs": [
    {
     "name": "stdout",
     "output_type": "stream",
     "text": [
      "[[1 2 3]\n",
      " [4 5 6]\n",
      " [7 8 9]]\n"
     ]
    }
   ],
   "source": [
    "#to remember:\n",
    "print(matrix)"
   ]
  },
  {
   "cell_type": "code",
   "execution_count": 19,
   "id": "f56b455d",
   "metadata": {},
   "outputs": [
    {
     "data": {
      "text/plain": [
       "array([[4, 5, 6]])"
      ]
     },
     "execution_count": 19,
     "metadata": {},
     "output_type": "execute_result"
    }
   ],
   "source": [
    "matrix[1: :2] \n",
    "#1. give me rows starting from index postions 1 onwards\n",
    "#2. give me rows up to (but not including) index positions 2"
   ]
  },
  {
   "cell_type": "markdown",
   "id": "ceb3ce9d",
   "metadata": {},
   "source": [
    "Arrays can also index with a boolean sequence:"
   ]
  },
  {
   "cell_type": "code",
   "execution_count": 20,
   "id": "2406e265",
   "metadata": {},
   "outputs": [
    {
     "data": {
      "text/plain": [
       "array([1, 2, 3])"
      ]
     },
     "execution_count": 20,
     "metadata": {},
     "output_type": "execute_result"
    }
   ],
   "source": [
    "a"
   ]
  },
  {
   "cell_type": "code",
   "execution_count": 21,
   "id": "000a79bf",
   "metadata": {},
   "outputs": [
    {
     "data": {
      "text/plain": [
       "array([1, 3])"
      ]
     },
     "execution_count": 21,
     "metadata": {},
     "output_type": "execute_result"
    }
   ],
   "source": [
    "a[[True, False, True]] #this is saying; give me the first of array, don't give me second, give me last"
   ]
  },
  {
   "cell_type": "code",
   "execution_count": 22,
   "id": "47bec133",
   "metadata": {},
   "outputs": [
    {
     "data": {
      "text/plain": [
       "array([1, 3])"
      ]
     },
     "execution_count": 22,
     "metadata": {},
     "output_type": "execute_result"
    }
   ],
   "source": [
    "should_include_elements_a = [True, False, True]#here's how you can link the function with the boolean\n",
    "a[should_include_elements_a]"
   ]
  },
  {
   "cell_type": "markdown",
   "id": "763680b1",
   "metadata": {},
   "source": [
    "### Vectorized Operations"
   ]
  },
  {
   "cell_type": "markdown",
   "id": "11a80359",
   "metadata": {},
   "source": [
    "#### If we wanted to add 1 to every element in a list. Example:"
   ]
  },
  {
   "cell_type": "code",
   "execution_count": 23,
   "id": "70e473c7",
   "metadata": {},
   "outputs": [
    {
     "name": "stdout",
     "output_type": "stream",
     "text": [
      "An Error Occured!\n",
      "TypeError: can only concatenate list (not \"int\") to list\n"
     ]
    }
   ],
   "source": [
    "original_array = [1,2,3,4,5] ##try will allow us to test out lines of code\n",
    "try:\n",
    "    original_array + 1\n",
    "except TypeError as e:\n",
    "    print('An Error Occured!')\n",
    "    print(f'TypeError: {e}')"
   ]
  },
  {
   "cell_type": "code",
   "execution_count": 25,
   "id": "8f2f5118",
   "metadata": {},
   "outputs": [],
   "source": [
    "#Why the error??? Python thought that we were trying to do: [1,2,3,4,5] + [1]"
   ]
  },
  {
   "cell_type": "code",
   "execution_count": 26,
   "id": "18544f81",
   "metadata": {},
   "outputs": [],
   "source": [
    "#Let's try writing a loop..."
   ]
  },
  {
   "cell_type": "code",
   "execution_count": 27,
   "id": "3a381ffe",
   "metadata": {},
   "outputs": [
    {
     "name": "stdout",
     "output_type": "stream",
     "text": [
      "[2]\n",
      "[2, 3]\n",
      "[2, 3, 4]\n",
      "[2, 3, 4, 5]\n",
      "[2, 3, 4, 5, 6]\n"
     ]
    }
   ],
   "source": [
    "original_array = [1,2,3,4,5]\n",
    "array_add_one = []\n",
    "for n in original_array:\n",
    "    array_add_one.append(n+1)\n",
    "    print(array_add_one)"
   ]
  },
  {
   "cell_type": "markdown",
   "id": "5b0f0de1",
   "metadata": {},
   "source": [
    "#### Vectorizing means that operatirons are automatically applied to every element in that array. "
   ]
  },
  {
   "cell_type": "code",
   "execution_count": 29,
   "id": "4148730f",
   "metadata": {},
   "outputs": [
    {
     "data": {
      "text/plain": [
       "array([2, 3, 4, 5, 6])"
      ]
     },
     "execution_count": 29,
     "metadata": {},
     "output_type": "execute_result"
    }
   ],
   "source": [
    "numpy_array = np.array([1,2,3,4,5])\n",
    "numpy_array + 1"
   ]
  },
  {
   "cell_type": "code",
   "execution_count": 30,
   "id": "00569547",
   "metadata": {},
   "outputs": [
    {
     "name": "stdout",
     "output_type": "stream",
     "text": [
      "[3 4 5 6 7]\n"
     ]
    }
   ],
   "source": [
    "print(numpy_array +2)"
   ]
  },
  {
   "cell_type": "code",
   "execution_count": 31,
   "id": "ae441029",
   "metadata": {},
   "outputs": [],
   "source": [
    "#Can work with basic math too:"
   ]
  },
  {
   "cell_type": "code",
   "execution_count": 33,
   "id": "fc8404c1",
   "metadata": {},
   "outputs": [
    {
     "name": "stdout",
     "output_type": "stream",
     "text": [
      "my_array      == [-3  0  3 16]\n",
      "my_array - 5  == [-8 -5 -2 11]\n",
      "my_array * 4  == [-12   0  12  64]\n",
      "my_array / 2  == [-1.5  0.   1.5  8. ]\n",
      "my_array ** 2 == [  9   0   9 256]\n",
      "my_array % 2  == [1 0 1 0]\n"
     ]
    }
   ],
   "source": [
    "my_array = np.array([-3, 0, 3, 16])\n",
    "\n",
    "print(f'my_array      == {my_array}')\n",
    "print(f'my_array - 5  == {my_array - 5}')\n",
    "print(f'my_array * 4  == {my_array * 4}')\n",
    "print(f'my_array / 2  == {my_array / 2}')\n",
    "print(f'my_array ** 2 == {my_array ** 2}')\n",
    "print(f'my_array % 2  == {my_array % 2}')"
   ]
  },
  {
   "cell_type": "markdown",
   "id": "6dfff133",
   "metadata": {},
   "source": [
    "#### Same applies to comparison operators..."
   ]
  },
  {
   "cell_type": "code",
   "execution_count": 34,
   "id": "47f491e9",
   "metadata": {},
   "outputs": [
    {
     "name": "stdout",
     "output_type": "stream",
     "text": [
      "my_array       == [-3  0  3 16]\n",
      "my_array == -3 == [ True False False False]\n",
      "my_array >= 0  == [False  True  True  True]\n",
      "my_array < 10  == [ True  True  True False]\n"
     ]
    }
   ],
   "source": [
    "my_array = np.array([-3, 0, 3, 16])\n",
    "\n",
    "print(f'my_array       == {my_array}')\n",
    "print(f'my_array == -3 == {my_array == -3}')\n",
    "print(f'my_array >= 0  == {my_array >= 0}')\n",
    "print(f'my_array < 10  == {my_array < 10}')"
   ]
  },
  {
   "cell_type": "code",
   "execution_count": 35,
   "id": "5c821622",
   "metadata": {},
   "outputs": [
    {
     "name": "stdout",
     "output_type": "stream",
     "text": [
      "[False False  True  True]\n"
     ]
    }
   ],
   "source": [
    "#if vectorizing comparison operators as boolean...\n",
    "\n",
    "print(my_array > 0)"
   ]
  },
  {
   "cell_type": "code",
   "execution_count": 36,
   "id": "ec2f1fab",
   "metadata": {},
   "outputs": [],
   "source": [
    "#And if we can give an array some booleans to select the values we want to return..."
   ]
  },
  {
   "cell_type": "code",
   "execution_count": 37,
   "id": "b4283f2b",
   "metadata": {},
   "outputs": [
    {
     "data": {
      "text/plain": [
       "array([ 3, 16])"
      ]
     },
     "execution_count": 37,
     "metadata": {},
     "output_type": "execute_result"
    }
   ],
   "source": [
    "my_array[[False, False, True, True]]"
   ]
  },
  {
   "cell_type": "code",
   "execution_count": 39,
   "id": "fcdaae89",
   "metadata": {},
   "outputs": [],
   "source": [
    "#Then we can \"give\" an array a condition to select our values for us!"
   ]
  },
  {
   "cell_type": "code",
   "execution_count": 41,
   "id": "5e072beb",
   "metadata": {},
   "outputs": [
    {
     "data": {
      "text/plain": [
       "array([ 3, 16])"
      ]
     },
     "execution_count": 41,
     "metadata": {},
     "output_type": "execute_result"
    }
   ],
   "source": [
    "#example: give me all the positive numbers in my_array\n",
    "my_array[my_array > 0]"
   ]
  },
  {
   "cell_type": "markdown",
   "id": "e6e492ba",
   "metadata": {},
   "source": [
    "### In-depth Example:"
   ]
  },
  {
   "cell_type": "code",
   "execution_count": 42,
   "id": "be04e144",
   "metadata": {},
   "outputs": [
    {
     "data": {
      "text/plain": [
       "array([ 0, 16])"
      ]
     },
     "execution_count": 42,
     "metadata": {},
     "output_type": "execute_result"
    }
   ],
   "source": [
    "my_array[my_array % 2 == 0]"
   ]
  },
  {
   "cell_type": "code",
   "execution_count": 44,
   "id": "11d6b410",
   "metadata": {},
   "outputs": [
    {
     "data": {
      "text/plain": [
       "array([-3,  0,  3, 16])"
      ]
     },
     "execution_count": 44,
     "metadata": {},
     "output_type": "execute_result"
    }
   ],
   "source": [
    "my_array"
   ]
  },
  {
   "cell_type": "code",
   "execution_count": 43,
   "id": "9ef9e9ee",
   "metadata": {},
   "outputs": [
    {
     "data": {
      "text/plain": [
       "array([1, 0, 1, 0])"
      ]
     },
     "execution_count": 43,
     "metadata": {},
     "output_type": "execute_result"
    }
   ],
   "source": [
    "#\n",
    "my_array % 2"
   ]
  },
  {
   "cell_type": "code",
   "execution_count": 45,
   "id": "f172976e",
   "metadata": {},
   "outputs": [
    {
     "name": "stdout",
     "output_type": "stream",
     "text": [
      "My Array:              [-3  0  3 16]\n",
      "My Array % 2 (Result): [1 0 1 0]\n"
     ]
    }
   ],
   "source": [
    "# Each element of the array % 2\n",
    "result = my_array % 2\n",
    "print(f\"My Array:              {my_array}\")\n",
    "print(f\"My Array % 2 (Result): {result}\")"
   ]
  },
  {
   "cell_type": "code",
   "execution_count": 48,
   "id": "e2636bed",
   "metadata": {},
   "outputs": [
    {
     "name": "stdout",
     "output_type": "stream",
     "text": [
      "My Array:                   [-3  0  3 16]\n",
      "My Array % 2 (Result):      [1 0 1 0]\n",
      "result == 0:                [False  True False  True]\n"
     ]
    }
   ],
   "source": [
    "# Does each element % 2 == 0?\n",
    "print(f\"My Array:                   {my_array}\")\n",
    "print(f\"My Array % 2 (Result):      {result}\")\n",
    "print(f\"result == 0:                {result == 0}\")"
   ]
  },
  {
   "cell_type": "code",
   "execution_count": 49,
   "id": "ec768b2a",
   "metadata": {},
   "outputs": [],
   "source": [
    "#Lastly, we use this array of boolean values to index into the original array, which gives us only the values that are \n",
    "#evenly divisible by 2."
   ]
  },
  {
   "cell_type": "code",
   "execution_count": 50,
   "id": "111c9d35",
   "metadata": {},
   "outputs": [
    {
     "data": {
      "text/plain": [
       "array([ 0, 16])"
      ]
     },
     "execution_count": 50,
     "metadata": {},
     "output_type": "execute_result"
    }
   ],
   "source": [
    "step_1 = my_array % 2\n",
    "step_2 = step_1 == 0\n",
    "step_3 = my_array[step_2]\n",
    "\n",
    "step_3"
   ]
  },
  {
   "cell_type": "code",
   "execution_count": 51,
   "id": "683d811f",
   "metadata": {},
   "outputs": [],
   "source": [
    "#can we see an elements that is  0 < AND > 10"
   ]
  },
  {
   "cell_type": "code",
   "execution_count": 55,
   "id": "e9d75f36",
   "metadata": {},
   "outputs": [
    {
     "data": {
      "text/plain": [
       "array([-3,  0,  3, 16])"
      ]
     },
     "execution_count": 55,
     "metadata": {},
     "output_type": "execute_result"
    }
   ],
   "source": [
    "my_array"
   ]
  },
  {
   "cell_type": "code",
   "execution_count": 58,
   "id": "25381ba2",
   "metadata": {},
   "outputs": [
    {
     "data": {
      "text/plain": [
       "array([0, 3])"
      ]
     },
     "execution_count": 58,
     "metadata": {},
     "output_type": "execute_result"
    }
   ],
   "source": [
    "my_array[(my_array >= 0) & (my_array <10)] #and statement &"
   ]
  },
  {
   "cell_type": "code",
   "execution_count": 59,
   "id": "4dde72a2",
   "metadata": {},
   "outputs": [
    {
     "data": {
      "text/plain": [
       "array([-3, 16])"
      ]
     },
     "execution_count": 59,
     "metadata": {},
     "output_type": "execute_result"
    }
   ],
   "source": [
    "my_array [(my_array <0) | (my_array > 3)] #or statement |"
   ]
  },
  {
   "cell_type": "markdown",
   "id": "fa9746a4",
   "metadata": {},
   "source": [
    "### Array Creation: was to create those arrays:"
   ]
  },
  {
   "cell_type": "markdown",
   "id": "c470483a",
   "metadata": {},
   "source": [
    "#### - np.random.randn : can be used to create an array of specific len\n",
    "#of random numbers drawn from normal std of normal distribution."
   ]
  },
  {
   "cell_type": "code",
   "execution_count": 63,
   "id": "ad18c8fb",
   "metadata": {},
   "outputs": [
    {
     "data": {
      "text/plain": [
       "array([ 1.01662897, -1.70023289, -1.12476382, -1.08314851, -1.50738774,\n",
       "        1.44228056, -0.33757226,  0.03897078,  1.25369524,  0.71259269])"
      ]
     },
     "execution_count": 63,
     "metadata": {},
     "output_type": "execute_result"
    }
   ],
   "source": [
    "np.random.randn(10)"
   ]
  },
  {
   "cell_type": "code",
   "execution_count": 64,
   "id": "8e6860c9",
   "metadata": {},
   "outputs": [],
   "source": [
    "#majority of output mimics the standard normal distribution (1--1)"
   ]
  },
  {
   "cell_type": "code",
   "execution_count": 66,
   "id": "53025771",
   "metadata": {},
   "outputs": [
    {
     "data": {
      "text/plain": [
       "array([[ 0.00655639, -1.35998576,  1.36960283,  1.11062413],\n",
       "       [ 0.51823348, -1.0067112 ,  1.54801603, -1.60436993],\n",
       "       [ 1.31607076, -1.90890354, -0.14255077,  0.81424786]])"
      ]
     },
     "execution_count": 66,
     "metadata": {},
     "output_type": "execute_result"
    }
   ],
   "source": [
    "np.random.randn(3,4)#rows, columns"
   ]
  },
  {
   "cell_type": "code",
   "execution_count": 67,
   "id": "19b39a63",
   "metadata": {},
   "outputs": [],
   "source": [
    "##if we wish to obtain original values from z-score of normal distribution\n",
    "#we need to apply some arithmetic.\n",
    "\n",
    "#to convert, we will need to multiply by the stdev and add the mean"
   ]
  },
  {
   "cell_type": "code",
   "execution_count": 69,
   "id": "4e01baca",
   "metadata": {},
   "outputs": [
    {
     "data": {
      "text/plain": [
       "array([ 1.01963957, -0.30806997, -0.50517179, -1.03741093, -1.4657384 ,\n",
       "        1.54514409, -0.37709038, -0.41636352,  0.01874013, -0.48297988,\n",
       "        0.46872511, -0.92711966,  0.20794398, -0.04258093, -1.28124569,\n",
       "       -0.37350751, -2.57059635,  1.67119   ,  0.13449677,  0.3766945 ])"
      ]
     },
     "execution_count": 69,
     "metadata": {},
     "output_type": "execute_result"
    }
   ],
   "source": [
    "z_scores_iq = np.random.randn(20)\n",
    "z_scores_iq"
   ]
  },
  {
   "cell_type": "code",
   "execution_count": 72,
   "id": "b3670deb",
   "metadata": {},
   "outputs": [
    {
     "data": {
      "text/plain": [
       "array([130.58918707,  90.75790078,  84.84484635,  68.877672  ,\n",
       "        56.02784797, 146.35432283,  88.68728852,  87.50909451,\n",
       "       100.56220393,  85.51060368, 114.0617534 ,  72.1864103 ,\n",
       "       106.23831946,  98.72257222,  61.56262922,  88.79477474,\n",
       "        22.88210963, 150.13569993, 104.03490316, 111.30083512])"
      ]
     },
     "execution_count": 72,
     "metadata": {},
     "output_type": "execute_result"
    }
   ],
   "source": [
    "μ = 100 # If we have a mean of 100...\n",
    "σ = 30 # ...and a standard deviation of 30...\n",
    "\n",
    "raw_iq_scores= σ * z_scores_iq + μ # We can derive the unscaled values\n",
    "raw_iq_scores"
   ]
  },
  {
   "cell_type": "markdown",
   "id": "82833e42",
   "metadata": {},
   "source": [
    "#### -np.zeros, np.ones, np.full"
   ]
  },
  {
   "cell_type": "code",
   "execution_count": 76,
   "id": "5a219046",
   "metadata": {},
   "outputs": [],
   "source": [
    "#gives us alot of 00000 in a row. \n",
    "#can be used as placeholders for things to be added onto later"
   ]
  },
  {
   "cell_type": "code",
   "execution_count": 74,
   "id": "600f1981",
   "metadata": {},
   "outputs": [
    {
     "data": {
      "text/plain": [
       "array([0., 0., 0., 0., 0., 0., 0., 0., 0., 0.])"
      ]
     },
     "execution_count": 74,
     "metadata": {},
     "output_type": "execute_result"
    }
   ],
   "source": [
    "np.zeros(10)"
   ]
  },
  {
   "cell_type": "code",
   "execution_count": 75,
   "id": "05c82635",
   "metadata": {},
   "outputs": [
    {
     "data": {
      "text/plain": [
       "array([1., 1., 1., 1., 1.])"
      ]
     },
     "execution_count": 75,
     "metadata": {},
     "output_type": "execute_result"
    }
   ],
   "source": [
    "np.ones(5)"
   ]
  },
  {
   "cell_type": "code",
   "execution_count": 77,
   "id": "851641cc",
   "metadata": {},
   "outputs": [
    {
     "data": {
      "text/plain": [
       "array([17, 17, 17])"
      ]
     },
     "execution_count": 77,
     "metadata": {},
     "output_type": "execute_result"
    }
   ],
   "source": [
    "np.full(3,17)"
   ]
  },
  {
   "cell_type": "code",
   "execution_count": 78,
   "id": "c401cd7e",
   "metadata": {},
   "outputs": [
    {
     "data": {
      "text/plain": [
       "array([[0., 0., 0.],\n",
       "       [0., 0., 0.]])"
      ]
     },
     "execution_count": 78,
     "metadata": {},
     "output_type": "execute_result"
    }
   ],
   "source": [
    "np.zeros((2,3))#passing a tuple"
   ]
  },
  {
   "cell_type": "code",
   "execution_count": 79,
   "id": "51f4d4ce",
   "metadata": {},
   "outputs": [
    {
     "data": {
      "text/plain": [
       "array([[1., 1., 1., 1., 1.],\n",
       "       [1., 1., 1., 1., 1.],\n",
       "       [1., 1., 1., 1., 1.],\n",
       "       [1., 1., 1., 1., 1.],\n",
       "       [1., 1., 1., 1., 1.]])"
      ]
     },
     "execution_count": 79,
     "metadata": {},
     "output_type": "execute_result"
    }
   ],
   "source": [
    "np.ones((5,5))#5 rows and 5 columns"
   ]
  },
  {
   "cell_type": "code",
   "execution_count": 80,
   "id": "7469d1a5",
   "metadata": {},
   "outputs": [
    {
     "data": {
      "text/plain": [
       "array([[17, 17, 17, 17],\n",
       "       [17, 17, 17, 17],\n",
       "       [17, 17, 17, 17]])"
      ]
     },
     "execution_count": 80,
     "metadata": {},
     "output_type": "execute_result"
    }
   ],
   "source": [
    "np.full((3,4), 17)"
   ]
  },
  {
   "cell_type": "markdown",
   "id": "2c7b2eda",
   "metadata": {},
   "source": [
    "### np.arange"
   ]
  },
  {
   "cell_type": "markdown",
   "id": "c795c2db",
   "metadata": {},
   "source": [
    "#### similar to range. Takes an argument and generates a range from zero up to it, but not including the passed number."
   ]
  },
  {
   "cell_type": "code",
   "execution_count": 82,
   "id": "d7c1abef",
   "metadata": {},
   "outputs": [
    {
     "data": {
      "text/plain": [
       "array([0, 1, 2, 3, 4, 5, 6, 7, 8, 9])"
      ]
     },
     "execution_count": 82,
     "metadata": {},
     "output_type": "execute_result"
    }
   ],
   "source": [
    "np.arange(10)"
   ]
  },
  {
   "cell_type": "code",
   "execution_count": 83,
   "id": "1e677cf4",
   "metadata": {},
   "outputs": [
    {
     "data": {
      "text/plain": [
       "array([1, 2, 3, 4, 5, 6, 7, 8, 9])"
      ]
     },
     "execution_count": 83,
     "metadata": {},
     "output_type": "execute_result"
    }
   ],
   "source": [
    "np.arange(1,10)"
   ]
  },
  {
   "cell_type": "code",
   "execution_count": 84,
   "id": "4ddb192d",
   "metadata": {},
   "outputs": [
    {
     "data": {
      "text/plain": [
       "array([1, 3, 5, 7, 9])"
      ]
     },
     "execution_count": 84,
     "metadata": {},
     "output_type": "execute_result"
    }
   ],
   "source": [
    "##also as a step:\n",
    "np.arange(1,10,2)"
   ]
  },
  {
   "cell_type": "code",
   "execution_count": 85,
   "id": "96d37769",
   "metadata": {},
   "outputs": [],
   "source": [
    "##can also handle decimal number"
   ]
  },
  {
   "cell_type": "code",
   "execution_count": 86,
   "id": "7a884ec4",
   "metadata": {},
   "outputs": [
    {
     "data": {
      "text/plain": [
       "array([3. , 3.5, 4. , 4.5])"
      ]
     },
     "execution_count": 86,
     "metadata": {},
     "output_type": "execute_result"
    }
   ],
   "source": [
    "np.arange(3,5,0.5)"
   ]
  },
  {
   "cell_type": "markdown",
   "id": "08b0d776",
   "metadata": {},
   "source": [
    "### np.linspace"
   ]
  },
  {
   "cell_type": "markdown",
   "id": "2b1d64d1",
   "metadata": {},
   "source": [
    "#### method that creates a range of numbers between a minimum and maximum\n",
    "#### uses a set of number of elements"
   ]
  },
  {
   "cell_type": "code",
   "execution_count": 87,
   "id": "d5b3fcfa",
   "metadata": {},
   "outputs": [
    {
     "data": {
      "text/plain": [
       "array([ 1.,  4.,  7., 10.])"
      ]
     },
     "execution_count": 87,
     "metadata": {},
     "output_type": "execute_result"
    }
   ],
   "source": [
    "# min: 1, max: 10, length: 4\n",
    "np.linspace(1, 10, 4)"
   ]
  },
  {
   "cell_type": "code",
   "execution_count": 88,
   "id": "ad3c8509",
   "metadata": {},
   "outputs": [
    {
     "data": {
      "text/plain": [
       "array([ 1. ,  2.5,  4. ,  5.5,  7. ,  8.5, 10. ])"
      ]
     },
     "execution_count": 88,
     "metadata": {},
     "output_type": "execute_result"
    }
   ],
   "source": [
    "# min: 1, max: 10, length: 7\n",
    "np.linspace(1, 10, 7)"
   ]
  },
  {
   "cell_type": "markdown",
   "id": "0e814088",
   "metadata": {},
   "source": [
    "### Array Methods"
   ]
  },
  {
   "cell_type": "markdown",
   "id": "8dad2e73",
   "metadata": {},
   "source": [
    "#### some built-in methods for ease to math operations."
   ]
  },
  {
   "cell_type": "markdown",
   "id": "2556aeaf",
   "metadata": {},
   "source": [
    "### .min"
   ]
  },
  {
   "cell_type": "code",
   "execution_count": 89,
   "id": "8f1a035e",
   "metadata": {},
   "outputs": [],
   "source": [
    "a = np.array([1, 2, 3, 4, 5])"
   ]
  },
  {
   "cell_type": "code",
   "execution_count": 90,
   "id": "124f8dcc",
   "metadata": {},
   "outputs": [
    {
     "data": {
      "text/plain": [
       "1"
      ]
     },
     "execution_count": 90,
     "metadata": {},
     "output_type": "execute_result"
    }
   ],
   "source": [
    "a.min()"
   ]
  },
  {
   "cell_type": "markdown",
   "id": "bc4a9fe8",
   "metadata": {},
   "source": [
    "### .max"
   ]
  },
  {
   "cell_type": "code",
   "execution_count": 91,
   "id": "6d37b12d",
   "metadata": {},
   "outputs": [
    {
     "data": {
      "text/plain": [
       "5"
      ]
     },
     "execution_count": 91,
     "metadata": {},
     "output_type": "execute_result"
    }
   ],
   "source": [
    "a.max()"
   ]
  },
  {
   "cell_type": "markdown",
   "id": "94d83cd4",
   "metadata": {},
   "source": [
    "### .mean"
   ]
  },
  {
   "cell_type": "code",
   "execution_count": 92,
   "id": "a0b28f81",
   "metadata": {},
   "outputs": [
    {
     "data": {
      "text/plain": [
       "3.0"
      ]
     },
     "execution_count": 92,
     "metadata": {},
     "output_type": "execute_result"
    }
   ],
   "source": [
    "a.mean()"
   ]
  },
  {
   "cell_type": "markdown",
   "id": "8c8c13b6",
   "metadata": {},
   "source": [
    "### .sum"
   ]
  },
  {
   "cell_type": "code",
   "execution_count": 93,
   "id": "ec8a0759",
   "metadata": {},
   "outputs": [
    {
     "data": {
      "text/plain": [
       "15"
      ]
     },
     "execution_count": 93,
     "metadata": {},
     "output_type": "execute_result"
    }
   ],
   "source": [
    "a.sum()"
   ]
  },
  {
   "cell_type": "markdown",
   "id": "52bfb3b4",
   "metadata": {},
   "source": [
    "### .std"
   ]
  },
  {
   "cell_type": "code",
   "execution_count": 94,
   "id": "44032868",
   "metadata": {},
   "outputs": [
    {
     "data": {
      "text/plain": [
       "1.4142135623730951"
      ]
     },
     "execution_count": 94,
     "metadata": {},
     "output_type": "execute_result"
    }
   ],
   "source": [
    "a.std()"
   ]
  },
  {
   "cell_type": "code",
   "execution_count": null,
   "id": "1b0793c8",
   "metadata": {},
   "outputs": [],
   "source": []
  }
 ],
 "metadata": {
  "kernelspec": {
   "display_name": "Python 3 (ipykernel)",
   "language": "python",
   "name": "python3"
  },
  "language_info": {
   "codemirror_mode": {
    "name": "ipython",
    "version": 3
   },
   "file_extension": ".py",
   "mimetype": "text/x-python",
   "name": "python",
   "nbconvert_exporter": "python",
   "pygments_lexer": "ipython3",
   "version": "3.9.7"
  }
 },
 "nbformat": 4,
 "nbformat_minor": 5
}
